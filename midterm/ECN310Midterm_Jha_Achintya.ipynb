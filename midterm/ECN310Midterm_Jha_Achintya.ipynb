{
 "cells": [
  {
   "cell_type": "markdown",
   "id": "c3a25600",
   "metadata": {},
   "source": [
    "# Midterm Part II: (50 pts)\n",
    "\n",
    "### Instruction\n",
    "- \"Closed-book\" exam, no Google or internet search is allowed. \n",
    "- The only allowed material is reference sheet created, which is under the same folder.\n",
    "- Please follow below questions and instructions to complete this part of the exam. In some questions, please write and execute Python code for data analysis in Cell mode. Comment your code to explain each step. And use `Shift+Enter` to excute your code.\n",
    "- Some questions need text discussion. Please Provide a detailed discussion of your results, including interpretations and answers to questions in Raw mode.\n",
    "- Once you have completed it, save your Jupyter notebook with the following naming convention: `ECN310Midterm_LastName_FirstName.ipynb`, and upload the file to Canvas.\n",
    "- Before uploading, open your Jupyter notebook on your end to see if it can be open properly.   \n",
    "\n",
    "### Dataset\n",
    "The dataset file is `murder_file.csv`, which is under the same folder. This database is about murder rates in the different US states and how it relates to the number of executions and unemployment rates\n",
    "\n",
    "### Variables Information\n",
    "- `id`: state identifier\n",
    "- `state`: state name\n",
    "- `year`: year of the data, includes year 87, 90, or 93\n",
    "- `mrdrte`: murders per 100,000 population\n",
    "- `exec`: total executions, past 3 years\n",
    "- `unem` annual unemployment rate\n"
   ]
  },
  {
   "cell_type": "markdown",
   "id": "dea6a1ba",
   "metadata": {},
   "source": [
    "### Exercise 1: Load Libraries and Dataset, get info (15 pts)"
   ]
  },
  {
   "cell_type": "markdown",
   "id": "77a67b4e",
   "metadata": {},
   "source": [
    "Please load needed libraries and the dataset murder_file.csv.\n",
    "1. Code that loads the needed libraries and dataset."
   ]
  },
  {
   "cell_type": "code",
   "execution_count": 1,
   "id": "1f426202",
   "metadata": {},
   "outputs": [
    {
     "data": {
      "text/html": [
       "<div>\n",
       "<style scoped>\n",
       "    .dataframe tbody tr th:only-of-type {\n",
       "        vertical-align: middle;\n",
       "    }\n",
       "\n",
       "    .dataframe tbody tr th {\n",
       "        vertical-align: top;\n",
       "    }\n",
       "\n",
       "    .dataframe thead th {\n",
       "        text-align: right;\n",
       "    }\n",
       "</style>\n",
       "<table border=\"1\" class=\"dataframe\">\n",
       "  <thead>\n",
       "    <tr style=\"text-align: right;\">\n",
       "      <th></th>\n",
       "      <th>id</th>\n",
       "      <th>state</th>\n",
       "      <th>year</th>\n",
       "      <th>mrdrte</th>\n",
       "      <th>exec</th>\n",
       "      <th>unem</th>\n",
       "    </tr>\n",
       "  </thead>\n",
       "  <tbody>\n",
       "    <tr>\n",
       "      <th>0</th>\n",
       "      <td>1</td>\n",
       "      <td>AL</td>\n",
       "      <td>87</td>\n",
       "      <td>9.3</td>\n",
       "      <td>2</td>\n",
       "      <td>7.8</td>\n",
       "    </tr>\n",
       "    <tr>\n",
       "      <th>1</th>\n",
       "      <td>1</td>\n",
       "      <td>AL</td>\n",
       "      <td>90</td>\n",
       "      <td>11.6</td>\n",
       "      <td>5</td>\n",
       "      <td>6.8</td>\n",
       "    </tr>\n",
       "    <tr>\n",
       "      <th>2</th>\n",
       "      <td>1</td>\n",
       "      <td>AL</td>\n",
       "      <td>93</td>\n",
       "      <td>11.6</td>\n",
       "      <td>2</td>\n",
       "      <td>7.5</td>\n",
       "    </tr>\n",
       "    <tr>\n",
       "      <th>3</th>\n",
       "      <td>2</td>\n",
       "      <td>AK</td>\n",
       "      <td>87</td>\n",
       "      <td>10.1</td>\n",
       "      <td>0</td>\n",
       "      <td>10.8</td>\n",
       "    </tr>\n",
       "    <tr>\n",
       "      <th>4</th>\n",
       "      <td>2</td>\n",
       "      <td>AK</td>\n",
       "      <td>90</td>\n",
       "      <td>7.5</td>\n",
       "      <td>0</td>\n",
       "      <td>6.9</td>\n",
       "    </tr>\n",
       "    <tr>\n",
       "      <th>...</th>\n",
       "      <td>...</td>\n",
       "      <td>...</td>\n",
       "      <td>...</td>\n",
       "      <td>...</td>\n",
       "      <td>...</td>\n",
       "      <td>...</td>\n",
       "    </tr>\n",
       "    <tr>\n",
       "      <th>148</th>\n",
       "      <td>50</td>\n",
       "      <td>WI</td>\n",
       "      <td>90</td>\n",
       "      <td>4.6</td>\n",
       "      <td>0</td>\n",
       "      <td>4.4</td>\n",
       "    </tr>\n",
       "    <tr>\n",
       "      <th>149</th>\n",
       "      <td>50</td>\n",
       "      <td>WI</td>\n",
       "      <td>93</td>\n",
       "      <td>4.4</td>\n",
       "      <td>0</td>\n",
       "      <td>4.7</td>\n",
       "    </tr>\n",
       "    <tr>\n",
       "      <th>150</th>\n",
       "      <td>51</td>\n",
       "      <td>WY</td>\n",
       "      <td>87</td>\n",
       "      <td>2.0</td>\n",
       "      <td>0</td>\n",
       "      <td>8.6</td>\n",
       "    </tr>\n",
       "    <tr>\n",
       "      <th>151</th>\n",
       "      <td>51</td>\n",
       "      <td>WY</td>\n",
       "      <td>90</td>\n",
       "      <td>4.9</td>\n",
       "      <td>0</td>\n",
       "      <td>5.4</td>\n",
       "    </tr>\n",
       "    <tr>\n",
       "      <th>152</th>\n",
       "      <td>51</td>\n",
       "      <td>WY</td>\n",
       "      <td>93</td>\n",
       "      <td>3.4</td>\n",
       "      <td>1</td>\n",
       "      <td>5.4</td>\n",
       "    </tr>\n",
       "  </tbody>\n",
       "</table>\n",
       "<p>153 rows × 6 columns</p>\n",
       "</div>"
      ],
      "text/plain": [
       "     id state  year  mrdrte  exec  unem\n",
       "0     1    AL    87     9.3     2   7.8\n",
       "1     1    AL    90    11.6     5   6.8\n",
       "2     1    AL    93    11.6     2   7.5\n",
       "3     2    AK    87    10.1     0  10.8\n",
       "4     2    AK    90     7.5     0   6.9\n",
       "..   ..   ...   ...     ...   ...   ...\n",
       "148  50    WI    90     4.6     0   4.4\n",
       "149  50    WI    93     4.4     0   4.7\n",
       "150  51    WY    87     2.0     0   8.6\n",
       "151  51    WY    90     4.9     0   5.4\n",
       "152  51    WY    93     3.4     1   5.4\n",
       "\n",
       "[153 rows x 6 columns]"
      ]
     },
     "execution_count": 1,
     "metadata": {},
     "output_type": "execute_result"
    }
   ],
   "source": [
    "# Please write your executable code here\n",
    "\n",
    "# import necessary libraries\n",
    "import pandas as pd\n",
    "import numpy as np\n",
    "import matplotlib.pyplot as plt\n",
    "import scipy.stats\n",
    "import statsmodels as sm\n",
    "import statsmodels.formula.api as smf\n",
    "\n",
    "# load dataset\n",
    "df = pd.read_csv('murder_file.csv')\n",
    "df"
   ]
  },
  {
   "cell_type": "markdown",
   "id": "c871771d",
   "metadata": {},
   "source": [
    "2. Print the first 10 rows of the dataset\n"
   ]
  },
  {
   "cell_type": "code",
   "execution_count": 2,
   "id": "2b6b3c7b",
   "metadata": {},
   "outputs": [
    {
     "name": "stdout",
     "output_type": "stream",
     "text": [
      "   id state  year  mrdrte  exec  unem\n",
      "0   1    AL    87     9.3     2   7.8\n",
      "1   1    AL    90    11.6     5   6.8\n",
      "2   1    AL    93    11.6     2   7.5\n",
      "3   2    AK    87    10.1     0  10.8\n",
      "4   2    AK    90     7.5     0   6.9\n",
      "5   2    AK    93     9.0     0   7.6\n",
      "6   3    AZ    87     7.5     0   6.2\n",
      "7   3    AZ    90     7.7     0   5.3\n",
      "8   3    AZ    93     8.6     3   6.2\n",
      "9   4    AR    87     7.6     0   8.1\n"
     ]
    }
   ],
   "source": [
    "# Please write your executable code here\n",
    "\n",
    "# prints first 10 rows\n",
    "print(df[0:10])"
   ]
  },
  {
   "cell_type": "markdown",
   "id": "fc7a43dc",
   "metadata": {},
   "source": [
    "### Exercise 2: Explore the Data (10 pts)"
   ]
  },
  {
   "cell_type": "markdown",
   "id": "02f08ce0-0370-48e4-a12d-2da8c0f3b0e9",
   "metadata": {},
   "source": [
    "Provide a summary, descriptive statistics, of the dataset. \n",
    "- Write the Python code to generate the descriptive statistics of the dataset.\n",
    "- What are the mean of mrdrte, exec, and unem?"
   ]
  },
  {
   "cell_type": "code",
   "execution_count": 3,
   "id": "1ad3f2a8",
   "metadata": {},
   "outputs": [
    {
     "name": "stdout",
     "output_type": "stream",
     "text": [
      "               id        year      mrdrte        exec        unem\n",
      "count  153.000000  153.000000  153.000000  153.000000  153.000000\n",
      "mean    26.000000   90.000000    8.070588    1.228758    5.973203\n",
      "std     14.767942    2.457534    9.192867    3.791432    1.680617\n",
      "min      1.000000   87.000000    0.800000    0.000000    2.200000\n",
      "25%     13.000000   87.000000    3.900000    0.000000    4.900000\n",
      "50%     26.000000   90.000000    6.400000    0.000000    5.800000\n",
      "75%     39.000000   93.000000   10.200000    1.000000    7.000000\n",
      "max     51.000000   93.000000   78.500000   34.000000   12.000000\n"
     ]
    }
   ],
   "source": [
    "# Please write your executable code here\n",
    "\n",
    "# print descripitive statistics\n",
    "print(df.describe())"
   ]
  },
  {
   "cell_type": "raw",
   "id": "50a0c180",
   "metadata": {
    "vscode": {
     "languageId": "raw"
    }
   },
   "source": [
    "# Write your answer to above question here (about the second bullet point)\n",
    "\n",
    "Mean of mrdrte is 8.070588, mean of exec is 1.228758, and mean of unem is 5.973203."
   ]
  },
  {
   "cell_type": "markdown",
   "id": "9b46d86b",
   "metadata": {},
   "source": [
    "### Exercise 3: Create New Variables (5 pts)"
   ]
  },
  {
   "cell_type": "markdown",
   "id": "2c924dc1",
   "metadata": {},
   "source": [
    "Create a binary variable `d87` which is 1 if the year is equal to 87, and 0 otherwise. Write the Python code to generate this dummy variable."
   ]
  },
  {
   "cell_type": "code",
   "execution_count": 4,
   "id": "6db955c3",
   "metadata": {},
   "outputs": [
    {
     "name": "stdout",
     "output_type": "stream",
     "text": [
      "     id state  year  mrdrte  exec  unem  d87\n",
      "0     1    AL    87     9.3     2   7.8    1\n",
      "1     1    AL    90    11.6     5   6.8    0\n",
      "2     1    AL    93    11.6     2   7.5    0\n",
      "3     2    AK    87    10.1     0  10.8    1\n",
      "4     2    AK    90     7.5     0   6.9    0\n",
      "..   ..   ...   ...     ...   ...   ...  ...\n",
      "148  50    WI    90     4.6     0   4.4    0\n",
      "149  50    WI    93     4.4     0   4.7    0\n",
      "150  51    WY    87     2.0     0   8.6    1\n",
      "151  51    WY    90     4.9     0   5.4    0\n",
      "152  51    WY    93     3.4     1   5.4    0\n",
      "\n",
      "[153 rows x 7 columns]\n"
     ]
    }
   ],
   "source": [
    "# Please write your executable code here\n",
    "\n",
    "# get dummies for the year column\n",
    "d87 = pd.get_dummies(df, columns=['year'], dtype=float)\n",
    "\n",
    "# create new column in df which takes value 1 when year == 87\n",
    "df['d87'] = (d87['year_87'] == 1).astype(int)\n",
    "print(df)"
   ]
  },
  {
   "cell_type": "markdown",
   "id": "46bff4a1",
   "metadata": {},
   "source": [
    "### Exercise 4: Data Visualization (10 pts)"
   ]
  },
  {
   "cell_type": "markdown",
   "id": "446f614b",
   "metadata": {},
   "source": [
    "Plot a histogram of the mrdrte variable. Write the Python code to create this plot. And explain what you observe from the plot."
   ]
  },
  {
   "cell_type": "code",
   "execution_count": 5,
   "id": "536be684",
   "metadata": {},
   "outputs": [
    {
     "data": {
      "text/plain": [
       "array([<Axes: title={'center': 'mrdrte'}>], dtype=object)"
      ]
     },
     "execution_count": 5,
     "metadata": {},
     "output_type": "execute_result"
    },
    {
     "data": {
      "image/png": "[encoded data removed]",
      "text/plain": [
       "<Figure size 640x480 with 1 Axes>"
      ]
     },
     "metadata": {},
     "output_type": "display_data"
    }
   ],
   "source": [
    "# Please write your executatble code here\n",
    "\n",
    "# plots histogram of mrdrte variable\n",
    "fig, ax = plt.subplots()\n",
    "df.hist(column='mrdrte', ax=ax)"
   ]
  },
  {
   "cell_type": "raw",
   "id": "357bf890",
   "metadata": {},
   "source": [
    "Please briefly interpret above plot here\n",
    "\n",
    "The plot shows us that the data is right skewed (right tail is longer). This implies that most of states had murder rates in the range of 0 to 15. There are a few outliers where the murder rate is between 70 to 80."
   ]
  },
  {
   "cell_type": "markdown",
   "id": "e18c2488",
   "metadata": {},
   "source": [
    "### Exercise 5: Perform a Univariate Regression Analysis (10 pts)"
   ]
  },
  {
   "cell_type": "markdown",
   "id": "48ac0af4-40ec-461e-97b2-f42d1f82d4d0",
   "metadata": {},
   "source": [
    "- Using `statsmodels` formula notation, perform a univariate regression analysis with `mrdrte`  as the dependent variable and `unem` as the independent variable.\n",
    "- Print the summary of the regression model."
   ]
  },
  {
   "cell_type": "markdown",
   "id": "79bbc957",
   "metadata": {},
   "source": [
    "1. Write the Python code to fit this regression model"
   ]
  },
  {
   "cell_type": "code",
   "execution_count": 6,
   "id": "ffa3ecb5",
   "metadata": {},
   "outputs": [],
   "source": [
    "# Please write your executable code here\n",
    "\n",
    "# fit regression mododel\n",
    "results = smf.ols('mrdrte ~ unem', data=df).fit()"
   ]
  },
  {
   "cell_type": "markdown",
   "id": "904f5f29",
   "metadata": {},
   "source": [
    "2. Output of the regression model summary."
   ]
  },
  {
   "cell_type": "code",
   "execution_count": 7,
   "id": "82165352",
   "metadata": {},
   "outputs": [
    {
     "name": "stdout",
     "output_type": "stream",
     "text": [
      "                            OLS Regression Results                            \n",
      "==============================================================================\n",
      "Dep. Variable:                 mrdrte   R-squared:                       0.058\n",
      "Model:                            OLS   Adj. R-squared:                  0.051\n",
      "Method:                 Least Squares   F-statistic:                     9.252\n",
      "Date:                Thu, 10 Oct 2024   Prob (F-statistic):            0.00277\n",
      "Time:                        14:29:04   Log-Likelihood:                -551.47\n",
      "No. Observations:                 153   AIC:                             1107.\n",
      "Df Residuals:                     151   BIC:                             1113.\n",
      "Df Model:                           1                                         \n",
      "Covariance Type:            nonrobust                                         \n",
      "==============================================================================\n",
      "                 coef    std err          t      P>|t|      [0.025      0.975]\n",
      "------------------------------------------------------------------------------\n",
      "Intercept      0.2200      2.681      0.082      0.935      -5.076       5.516\n",
      "unem           1.3143      0.432      3.042      0.003       0.461       2.168\n",
      "==============================================================================\n",
      "Omnibus:                      219.158   Durbin-Watson:                   0.715\n",
      "Prob(Omnibus):                  0.000   Jarque-Bera (JB):            12393.639\n",
      "Skew:                           6.005   Prob(JB):                         0.00\n",
      "Kurtosis:                      45.425   Cond. No.                         23.5\n",
      "==============================================================================\n",
      "\n",
      "Notes:\n",
      "[1] Standard Errors assume that the covariance matrix of the errors is correctly specified.\n"
     ]
    }
   ],
   "source": [
    "# Write the code to print the results here\n",
    "\n",
    "# print model results\n",
    "print(results.summary())"
   ]
  },
  {
   "cell_type": "code",
   "execution_count": null,
   "id": "d0b29e47-0396-4883-96a1-be21e2c63ef3",
   "metadata": {},
   "outputs": [],
   "source": []
  }
 ],
 "metadata": {
  "kernelspec": {
   "display_name": "Python 3 (ipykernel)",
   "language": "python",
   "name": "python3"
  },
  "language_info": {
   "codemirror_mode": {
    "name": "ipython",
    "version": 3
   },
   "file_extension": ".py",
   "mimetype": "text/x-python",
   "name": "python",
   "nbconvert_exporter": "python",
   "pygments_lexer": "ipython3",
   "version": "3.10.14"
  }
 },
 "nbformat": 4,
 "nbformat_minor": 5
}
