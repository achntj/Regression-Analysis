{
 "cells": [
  {
   "cell_type": "markdown",
   "id": "92f7c6b6",
   "metadata": {},
   "source": [
    "## Problem Set 2: Hypothesis testing (90 pts)\n",
    "Problem set 2 is about confidence intervals and hypothesis testing.  \n",
    "\n",
    "### Instructions\n",
    "- Please follow below questions and instructions to complete this problem set. In some questions, please write and execute Python code for data analysis in Cell mode. Comment your code to explain each step. And use `Shift+Enter` to excute your code.\n",
    "- Some questions need text discussion. Please Provide a detailed discussion of your results, including interpretations and answers to questions in Raw mode.\n",
    "\n",
    "- Once you have completed the assignment, save your Jupyter notebook with the following naming convention: ECN310_ProblemSetX_LastName_FirstName.ipynb (replace X with the assignment number).\n",
    "\n",
    "_Hint:_ If you want to use numpy, pandas, or scipy.stats be sure to import the modules `import numpy as np` and `import pandas as pd` and `import scipy.stats`. Import these libraries in the codeblock below"
   ]
  },
  {
   "cell_type": "code",
   "execution_count": 1,
   "id": "f9622c68",
   "metadata": {},
   "outputs": [],
   "source": [
    "import numpy as np\n",
    "import pandas as pd\n",
    "import scipy.stats"
   ]
  },
  {
   "cell_type": "markdown",
   "id": "0deed00a",
   "metadata": {},
   "source": [
    "## Problem 1 Unbiased Estimators and confidence interval (20 pts, 4 pts per question)\n",
    "Suppose you are a data scientist working for a health research company. The company is interested in estimating the average resting heart rate (in beats per minute) for a population of adults aged 20-40 years in a certain city. Due to budget and time constraints, you cannot measure the heart rate of every adult in this age group in the city. Therefore, you decide to take a random sample.\n",
    "\n",
    "You randomly select 150 adults aged 20-40 years from the city and measure their resting heart rates. The data collected from these 150 individuals are as follows:\n",
    "\n",
    "- Sample mean (x̄) = 72 beats per minute\n",
    "\n",
    "- Sample standard deviation (s) = 12 beats per minute\n"
   ]
  },
  {
   "cell_type": "markdown",
   "id": "51421d61",
   "metadata": {},
   "source": [
    "a. Explain what does it mean for the sample mean $\\bar{x}$ to be an unbiased estimator of the population mean µ.\n"
   ]
  },
  {
   "cell_type": "raw",
   "id": "425f7ee4",
   "metadata": {},
   "source": [
    "Please write your explanation here.\n",
    "\n",
    "Since our sample is chosen randomly, we can say that the sample mean is an unbiased estimator of the true population parameter. This means that the sample mean is an estimate that accurately predicts the true population mean."
   ]
  },
  {
   "cell_type": "markdown",
   "id": "ecd3ecc1",
   "metadata": {},
   "source": [
    "b. Calculate the standard error of the mean (SE) for your sample. Use the formula: $$ SE = \\frac{s}{\\sqrt{n}}$$ where s is the sample standard deviation and n is the sample size.\n",
    "\n",
    "\n"
   ]
  },
  {
   "cell_type": "code",
   "execution_count": 7,
   "id": "68036bee",
   "metadata": {},
   "outputs": [
    {
     "name": "stdout",
     "output_type": "stream",
     "text": [
      "0.9797958971132713\n"
     ]
    }
   ],
   "source": [
    "# Please put your answer below. You can code it or calculate it manually.\n",
    "\n",
    "s = 12\n",
    "n = 150\n",
    "SE = s / (n**0.5)\n",
    "print(SE)"
   ]
  },
  {
   "cell_type": "markdown",
   "id": "79c8805c",
   "metadata": {},
   "source": [
    "c. Discuss how increasing the sample size might affect the standard error of the mean and the reliability of your estimate.\n"
   ]
  },
  {
   "cell_type": "raw",
   "id": "8af9a0f0",
   "metadata": {},
   "source": [
    "Please write your explanation here.\n",
    "\n",
    "Increasing the sample size means increasing n. If we increase n, sqrt(n) also increases. So the standard error will decrease as it is inversely related to sqrt(n). Lower standard error means that the sample mean more accurately predicts the true population mean."
   ]
  },
  {
   "cell_type": "markdown",
   "id": "ae517bf3-17b6-4683-a640-2bcd98ee2bcf",
   "metadata": {},
   "source": [
    "d. Assume significance level $\\alpha=0.05$ Use the scipy.stats module to find a critical t value for degrees of freedom of 49, `df=49` and \n",
    "significance $\\alpha/2$\n",
    "\n",
    "_hint:_ use `scipy.stats.t.ppf()`"
   ]
  },
  {
   "cell_type": "code",
   "execution_count": 8,
   "id": "782920f3-9639-4d36-b6a0-403760ed1158",
   "metadata": {},
   "outputs": [
    {
     "name": "stdout",
     "output_type": "stream",
     "text": [
      "-2.0095752371292397\n"
     ]
    }
   ],
   "source": [
    "# Type your code below and be sure to use print() to print the critical t value\n",
    "\n",
    "tval = scipy.stats.t.ppf(0.05/2, df=49)\n",
    "print(tval) # this value is negative but we can use abs() to make it positive"
   ]
  },
  {
   "cell_type": "markdown",
   "id": "f494475c-e4bd-4e89-af08-f1e446520ab4",
   "metadata": {},
   "source": [
    "e. Calcuate a 95% confidence interval for the population mean using a sample mean from above "
   ]
  },
  {
   "cell_type": "code",
   "execution_count": 57,
   "id": "5b797d9e-e75a-4ca7-9834-91c830cfe020",
   "metadata": {},
   "outputs": [
    {
     "name": "stdout",
     "output_type": "stream",
     "text": [
      "(70.0639103958682, 73.9360896041318)\n"
     ]
    }
   ],
   "source": [
    "# Type your code below and be sure to use print() to print your answer when the code is run\n",
    "\n",
    "# using t interval function from lecture slides and df = 149\n",
    "ci = scipy.stats.t.interval(confidence=(1-0.05),loc=72, scale=SE, df=n-1)\n",
    "print(ci)"
   ]
  },
  {
   "cell_type": "markdown",
   "id": "04292007",
   "metadata": {},
   "source": [
    "# Hypothesis Testing (27 pts, 3 pts per question)\n"
   ]
  },
  {
   "cell_type": "markdown",
   "id": "9164d15f",
   "metadata": {},
   "source": [
    "### Problem 2: T test and confidence intervals\n",
    "Scenario: An administractor is gathering information about student performance in two classes.  She randomly selects 10 students from each class. The scores are as follows:\n",
    "\n",
    "- Class A sample scores: 72, 85, 90, 70, 80, 92, 78, 84, 89, 73\n",
    "- Class B sample scores: 82, 80, 75, 86, 90, 87, 84, 83, 88, 85\n",
    "\n",
    "\n",
    "\n",
    "a. Write code to produce the sample mean and sample standard deviation of scores of each class.  Make sure to use the `print()` function to print out the mean and standard deviation in the code block. (4 pts).\n",
    "   _Hint_: You need to import numpy and create numpy arrays from the samples above first"
   ]
  },
  {
   "cell_type": "code",
   "execution_count": 58,
   "id": "e6949dd9-0908-49f0-9a8b-9c2ace852b1c",
   "metadata": {},
   "outputs": [
    {
     "name": "stdout",
     "output_type": "stream",
     "text": [
      "81.3 84.0\n",
      "7.930952023559341 4.320493798938574\n"
     ]
    }
   ],
   "source": [
    "# Write the code for your answer in this codeblock\n",
    "\n",
    "A = [72, 85, 90, 70, 80, 92, 78, 84, 89, 73]\n",
    "B = [82, 80, 75, 86, 90, 87, 84, 83, 88, 85]\n",
    "\n",
    "mean_A = sum(A)/len(A)\n",
    "mean_B = sum(B)/len(B)\n",
    "\n",
    "# for sample stdev, we need to use ddof=1 - Source: https://stackoverflow.com/questions/34050491/standard-deviation-in-numpy\n",
    "std_A = np.std(A, ddof=1)\n",
    "std_B = np.std(B, ddof=1)\n",
    "\n",
    "print(mean_A, mean_B)\n",
    "print(std_A, std_B)"
   ]
  },
  {
   "cell_type": "markdown",
   "id": "610fb6ac",
   "metadata": {},
   "source": [
    "b. Consider only the Class A sample.  With $\\alpha = 5\\%$ conduct a hypothesis test with a null hypothesis that $\\mu \\leq 83$.  Code the test in the block below and print either 'reject the null' or 'fail to reject'\n",
    "_hint:_ you want to import the scipy.stats module and make use of the  `scipy.stats.ttest_1samp()` method\n"
   ]
  },
  {
   "cell_type": "code",
   "execution_count": 60,
   "id": "54fa6cc6",
   "metadata": {},
   "outputs": [
    {
     "name": "stdout",
     "output_type": "stream",
     "text": [
      "Fail to reject\n"
     ]
    }
   ],
   "source": [
    "# Code the answer to part b in this codeblock\n",
    "\n",
    "results = scipy.stats.ttest_1samp(A, 83, alternative='greater')\n",
    "print(\"Reject the null\" if results.pvalue < 0.05 else \"Fail to reject\") # i have used python ternary operation to reduce code to one line"
   ]
  },
  {
   "cell_type": "markdown",
   "id": "ec60498e-a069-47d8-bc66-7e71dc0994b5",
   "metadata": {},
   "source": [
    "c. Construct a 95% percent confidence interval for the population mean for class B."
   ]
  },
  {
   "cell_type": "code",
   "execution_count": 61,
   "id": "94ae6de9-d1ea-44c5-8967-530ca2ab45cc",
   "metadata": {},
   "outputs": [
    {
     "name": "stdout",
     "output_type": "stream",
     "text": [
      "(83.20198596273929, 84.79801403726071)\n"
     ]
    }
   ],
   "source": [
    "# Code your answer for part c in this codeblock\n",
    "\n",
    "ci = scipy.stats.t.interval(confidence=(1-0.05),loc=mean_B, scale=(std_B/(n**0.5)), df=len(B)-1)\n",
    "print(ci)"
   ]
  },
  {
   "cell_type": "markdown",
   "id": "8230885c",
   "metadata": {},
   "source": [
    "d. At a signifigcance level of 5%, determine if there is difference between the scores of Class A and Class B. In the space below, the code explain your answer. \n"
   ]
  },
  {
   "cell_type": "code",
   "execution_count": 26,
   "id": "f5661a3f-73b0-4b39-b6d3-d4a8e9c5cc74",
   "metadata": {},
   "outputs": [
    {
     "data": {
      "text/plain": [
       "0.35698249333842125"
      ]
     },
     "execution_count": 26,
     "metadata": {},
     "output_type": "execute_result"
    }
   ],
   "source": [
    "# Code your answer here\n",
    "\n",
    "results = scipy.stats.ttest_ind(A, B, equal_var=True)\n",
    "results.pvalue"
   ]
  },
  {
   "cell_type": "raw",
   "id": "0ba1aba3-3c0d-41bb-85b2-fcf2b8f046cf",
   "metadata": {},
   "source": [
    "Exlpain your answer below.\n",
    "\n",
    "At a significance level of 5%, p value = 0.3569 which is greater than alpha. We fail to reject the null hypothesis. This means that there is not enough evidence to suggest a significant difference between the mean scores of Class A and Class B at the 5% significance level."
   ]
  },
  {
   "cell_type": "markdown",
   "id": "c812b249",
   "metadata": {},
   "source": [
    "### Problem 2: t-test using built-in function in Python\n",
    "Scenario: A nutritionist claims that a new diet plan significantly reduces an individual's body mass index (BMI) over a period of 3 months. To test this claim, 12 participants were selected, and their BMIs were recorded before starting the diet plan and after completing 3 months on the diet. The BMIs are as follows:\n",
    "\n",
    "- Before: 25, 30, 28, 32, 24, 29, 27, 31, 23, 26, 28, 33\n",
    "- After: 24, 28, 27, 30, 23, 27, 25, 29, 22, 25, 27, 31\n",
    "\n",
    "Task: Use Python to perform a two sample t-test on the BMI data before and after the diet plan. Determine if the diet plan has the desired and significant effect on BMI.\n"
   ]
  },
  {
   "cell_type": "markdown",
   "id": "b0fdab58",
   "metadata": {},
   "source": [
    "1. Prepare the data for the t-test by creating numpy arrays for before and after\n"
   ]
  },
  {
   "cell_type": "code",
   "execution_count": 62,
   "id": "418529a2",
   "metadata": {},
   "outputs": [
    {
     "data": {
      "text/plain": [
       "(28.0, 26.5)"
      ]
     },
     "execution_count": 62,
     "metadata": {},
     "output_type": "execute_result"
    }
   ],
   "source": [
    "# Please write your executable code here\n",
    "before = [25, 30, 28, 32, 24, 29, 27, 31, 23, 26, 28, 33]\n",
    "after = [24, 28, 27, 30, 23, 27, 25, 29, 22, 25, 27, 31]\n",
    "\n",
    "np.mean(before), np.mean(after)"
   ]
  },
  {
   "cell_type": "markdown",
   "id": "0184cbf5",
   "metadata": {},
   "source": [
    "2. Perform the two sample t-test.\n"
   ]
  },
  {
   "cell_type": "code",
   "execution_count": 64,
   "id": "82b6b691",
   "metadata": {},
   "outputs": [
    {
     "data": {
      "text/plain": [
       "TtestResult(statistic=9.9498743710662, pvalue=7.773530457329027e-07, df=11)"
      ]
     },
     "execution_count": 64,
     "metadata": {},
     "output_type": "execute_result"
    }
   ],
   "source": [
    "# Please write your executable code here\n",
    "\n",
    "# I am using ttest_rel because this appears to be a paired t test. \n",
    "# The two samples arent from different people but from the same group.\n",
    "# Source - https://www.geeksforgeeks.org/how-to-conduct-a-paired-samples-t-test-in-python/#\n",
    "\n",
    "results = scipy.stats.ttest_rel(before, after)\n",
    "results"
   ]
  },
  {
   "cell_type": "markdown",
   "id": "c10f37e0",
   "metadata": {},
   "source": [
    "3. Interpret the results. Is there evidence that the diet plan had the desired result at a significance level of 5%, at 10%?\n"
   ]
  },
  {
   "cell_type": "raw",
   "id": "f4a4bebd",
   "metadata": {},
   "source": [
    "Please write your explanation here.\n",
    "\n",
    "There is evidence to support the claim that the diet plan significantly reduces BMI at either the 5% or 10% significance levels. This is because we reject the null hypothesis. The p value is much less than alpha equal to either 0.05 or 0.1. The results suggest that the diet plan reduced the BMI of the participants over the 3-month period."
   ]
  },
  {
   "cell_type": "markdown",
   "id": "08d7178b",
   "metadata": {},
   "source": [
    "# Part 3: Hypothesis testing with income data (25 pts)"
   ]
  },
  {
   "cell_type": "markdown",
   "id": "556ed576",
   "metadata": {},
   "source": [
    "In this problem, you will perform hypothesis tests using the database of individuals born in the early 1980s in the United States -- the same dataset that you have used in Problem Set 1. Below are some variables we could use. We will only use gender, but feel free to explore on your own some other variables.\n",
    "- educ: number of years of education completed\n",
    "- annual_income: Annual income from wages\n",
    "- gender: denotes the gender of the individual\n",
    "- minority: 1 if the individual belongs to a minority group, 0 otherwise.\n",
    "- mother_educ: 1 if the individual’s mother has a college degree, 0 otherwise.\n",
    "- gpa_grade_9: GPA in 8th grade.\n",
    "- retention: 1 if the individual was required to repeat a grade during middle school, 0 otherwise"
   ]
  },
  {
   "cell_type": "markdown",
   "id": "a23a4bad",
   "metadata": {},
   "source": [
    "1. Load the data and needed libraries(3pts)."
   ]
  },
  {
   "cell_type": "code",
   "execution_count": 65,
   "id": "d86ad3e7",
   "metadata": {},
   "outputs": [
    {
     "data": {
      "text/html": [
       "<div>\n",
       "<style scoped>\n",
       "    .dataframe tbody tr th:only-of-type {\n",
       "        vertical-align: middle;\n",
       "    }\n",
       "\n",
       "    .dataframe tbody tr th {\n",
       "        vertical-align: top;\n",
       "    }\n",
       "\n",
       "    .dataframe thead th {\n",
       "        text-align: right;\n",
       "    }\n",
       "</style>\n",
       "<table border=\"1\" class=\"dataframe\">\n",
       "  <thead>\n",
       "    <tr style=\"text-align: right;\">\n",
       "      <th></th>\n",
       "      <th>educ</th>\n",
       "      <th>gpa_grade_8</th>\n",
       "      <th>retention</th>\n",
       "      <th>annual_income</th>\n",
       "      <th>total_weeks_exper</th>\n",
       "      <th>black</th>\n",
       "      <th>hispanic</th>\n",
       "      <th>white</th>\n",
       "      <th>mother_educ</th>\n",
       "      <th>minority</th>\n",
       "      <th>gender</th>\n",
       "    </tr>\n",
       "    <tr>\n",
       "      <th>PUBID - YTH ID CODE 1997</th>\n",
       "      <th></th>\n",
       "      <th></th>\n",
       "      <th></th>\n",
       "      <th></th>\n",
       "      <th></th>\n",
       "      <th></th>\n",
       "      <th></th>\n",
       "      <th></th>\n",
       "      <th></th>\n",
       "      <th></th>\n",
       "      <th></th>\n",
       "    </tr>\n",
       "  </thead>\n",
       "  <tbody>\n",
       "    <tr>\n",
       "      <th>1</th>\n",
       "      <td>16.0</td>\n",
       "      <td>3.0</td>\n",
       "      <td>0.0</td>\n",
       "      <td>NaN</td>\n",
       "      <td>NaN</td>\n",
       "      <td>0.0</td>\n",
       "      <td>0.0</td>\n",
       "      <td>1.0</td>\n",
       "      <td>0.0</td>\n",
       "      <td>0.0</td>\n",
       "      <td>female</td>\n",
       "    </tr>\n",
       "    <tr>\n",
       "      <th>2</th>\n",
       "      <td>14.0</td>\n",
       "      <td>3.5</td>\n",
       "      <td>0.0</td>\n",
       "      <td>115000.0</td>\n",
       "      <td>965.0</td>\n",
       "      <td>0.0</td>\n",
       "      <td>1.0</td>\n",
       "      <td>0.0</td>\n",
       "      <td>0.0</td>\n",
       "      <td>1.0</td>\n",
       "      <td>male</td>\n",
       "    </tr>\n",
       "    <tr>\n",
       "      <th>3</th>\n",
       "      <td>14.0</td>\n",
       "      <td>3.0</td>\n",
       "      <td>0.0</td>\n",
       "      <td>NaN</td>\n",
       "      <td>776.0</td>\n",
       "      <td>0.0</td>\n",
       "      <td>1.0</td>\n",
       "      <td>0.0</td>\n",
       "      <td>0.0</td>\n",
       "      <td>1.0</td>\n",
       "      <td>female</td>\n",
       "    </tr>\n",
       "    <tr>\n",
       "      <th>4</th>\n",
       "      <td>12.0</td>\n",
       "      <td>4.0</td>\n",
       "      <td>0.0</td>\n",
       "      <td>45000.0</td>\n",
       "      <td>1008.0</td>\n",
       "      <td>0.0</td>\n",
       "      <td>1.0</td>\n",
       "      <td>0.0</td>\n",
       "      <td>0.0</td>\n",
       "      <td>1.0</td>\n",
       "      <td>female</td>\n",
       "    </tr>\n",
       "    <tr>\n",
       "      <th>5</th>\n",
       "      <td>12.0</td>\n",
       "      <td>2.5</td>\n",
       "      <td>0.0</td>\n",
       "      <td>150000.0</td>\n",
       "      <td>890.0</td>\n",
       "      <td>0.0</td>\n",
       "      <td>1.0</td>\n",
       "      <td>0.0</td>\n",
       "      <td>0.0</td>\n",
       "      <td>1.0</td>\n",
       "      <td>male</td>\n",
       "    </tr>\n",
       "    <tr>\n",
       "      <th>...</th>\n",
       "      <td>...</td>\n",
       "      <td>...</td>\n",
       "      <td>...</td>\n",
       "      <td>...</td>\n",
       "      <td>...</td>\n",
       "      <td>...</td>\n",
       "      <td>...</td>\n",
       "      <td>...</td>\n",
       "      <td>...</td>\n",
       "      <td>...</td>\n",
       "      <td>...</td>\n",
       "    </tr>\n",
       "    <tr>\n",
       "      <th>9018</th>\n",
       "      <td>8.0</td>\n",
       "      <td>2.0</td>\n",
       "      <td>0.0</td>\n",
       "      <td>90000.0</td>\n",
       "      <td>942.0</td>\n",
       "      <td>0.0</td>\n",
       "      <td>0.0</td>\n",
       "      <td>1.0</td>\n",
       "      <td>0.0</td>\n",
       "      <td>0.0</td>\n",
       "      <td>female</td>\n",
       "    </tr>\n",
       "    <tr>\n",
       "      <th>9019</th>\n",
       "      <td>13.0</td>\n",
       "      <td>1.5</td>\n",
       "      <td>1.0</td>\n",
       "      <td>43000.0</td>\n",
       "      <td>824.0</td>\n",
       "      <td>0.0</td>\n",
       "      <td>1.0</td>\n",
       "      <td>0.0</td>\n",
       "      <td>0.0</td>\n",
       "      <td>1.0</td>\n",
       "      <td>male</td>\n",
       "    </tr>\n",
       "    <tr>\n",
       "      <th>9020</th>\n",
       "      <td>14.0</td>\n",
       "      <td>3.5</td>\n",
       "      <td>0.0</td>\n",
       "      <td>NaN</td>\n",
       "      <td>494.0</td>\n",
       "      <td>0.0</td>\n",
       "      <td>0.0</td>\n",
       "      <td>1.0</td>\n",
       "      <td>0.0</td>\n",
       "      <td>0.0</td>\n",
       "      <td>male</td>\n",
       "    </tr>\n",
       "    <tr>\n",
       "      <th>9021</th>\n",
       "      <td>13.0</td>\n",
       "      <td>1.5</td>\n",
       "      <td>0.0</td>\n",
       "      <td>47000.0</td>\n",
       "      <td>965.0</td>\n",
       "      <td>0.0</td>\n",
       "      <td>0.0</td>\n",
       "      <td>1.0</td>\n",
       "      <td>0.0</td>\n",
       "      <td>0.0</td>\n",
       "      <td>male</td>\n",
       "    </tr>\n",
       "    <tr>\n",
       "      <th>9022</th>\n",
       "      <td>16.0</td>\n",
       "      <td>2.0</td>\n",
       "      <td>0.0</td>\n",
       "      <td>60000.0</td>\n",
       "      <td>1009.0</td>\n",
       "      <td>0.0</td>\n",
       "      <td>0.0</td>\n",
       "      <td>1.0</td>\n",
       "      <td>0.0</td>\n",
       "      <td>0.0</td>\n",
       "      <td>female</td>\n",
       "    </tr>\n",
       "  </tbody>\n",
       "</table>\n",
       "<p>8984 rows × 11 columns</p>\n",
       "</div>"
      ],
      "text/plain": [
       "                          educ  gpa_grade_8  retention  annual_income  \\\n",
       "PUBID - YTH ID CODE 1997                                                \n",
       "1                         16.0          3.0        0.0            NaN   \n",
       "2                         14.0          3.5        0.0       115000.0   \n",
       "3                         14.0          3.0        0.0            NaN   \n",
       "4                         12.0          4.0        0.0        45000.0   \n",
       "5                         12.0          2.5        0.0       150000.0   \n",
       "...                        ...          ...        ...            ...   \n",
       "9018                       8.0          2.0        0.0        90000.0   \n",
       "9019                      13.0          1.5        1.0        43000.0   \n",
       "9020                      14.0          3.5        0.0            NaN   \n",
       "9021                      13.0          1.5        0.0        47000.0   \n",
       "9022                      16.0          2.0        0.0        60000.0   \n",
       "\n",
       "                          total_weeks_exper  black  hispanic  white  \\\n",
       "PUBID - YTH ID CODE 1997                                              \n",
       "1                                       NaN    0.0       0.0    1.0   \n",
       "2                                     965.0    0.0       1.0    0.0   \n",
       "3                                     776.0    0.0       1.0    0.0   \n",
       "4                                    1008.0    0.0       1.0    0.0   \n",
       "5                                     890.0    0.0       1.0    0.0   \n",
       "...                                     ...    ...       ...    ...   \n",
       "9018                                  942.0    0.0       0.0    1.0   \n",
       "9019                                  824.0    0.0       1.0    0.0   \n",
       "9020                                  494.0    0.0       0.0    1.0   \n",
       "9021                                  965.0    0.0       0.0    1.0   \n",
       "9022                                 1009.0    0.0       0.0    1.0   \n",
       "\n",
       "                          mother_educ  minority  gender  \n",
       "PUBID - YTH ID CODE 1997                                 \n",
       "1                                 0.0       0.0  female  \n",
       "2                                 0.0       1.0    male  \n",
       "3                                 0.0       1.0  female  \n",
       "4                                 0.0       1.0  female  \n",
       "5                                 0.0       1.0    male  \n",
       "...                               ...       ...     ...  \n",
       "9018                              0.0       0.0  female  \n",
       "9019                              0.0       1.0    male  \n",
       "9020                              0.0       0.0    male  \n",
       "9021                              0.0       0.0    male  \n",
       "9022                              0.0       0.0  female  \n",
       "\n",
       "[8984 rows x 11 columns]"
      ]
     },
     "execution_count": 65,
     "metadata": {},
     "output_type": "execute_result"
    }
   ],
   "source": [
    "# Please write your executatble code here\n",
    "df = pd.read_excel(\"data_NLSY97.xlsx\", index_col=0)\n",
    "df"
   ]
  },
  {
   "cell_type": "markdown",
   "id": "c57ec239",
   "metadata": {},
   "source": [
    "2. Create two data series from the data frame, one with annual_income for females and one for males (4pts)"
   ]
  },
  {
   "cell_type": "code",
   "execution_count": 66,
   "id": "0fcdd3ff",
   "metadata": {},
   "outputs": [],
   "source": [
    "# Please write your executatble code here\n",
    "female = df[df['gender'] == 'female']['annual_income']\n",
    "male = df[df['gender'] == 'male']['annual_income']"
   ]
  },
  {
   "cell_type": "markdown",
   "id": "e87ab3da",
   "metadata": {},
   "source": [
    "3. Conduct a two sample hypothesis test to determine if there is a statistically significant difference between the annual incomes of males and females (6pts)  \n",
    "\n",
    "Hint: Because the series you created include NaN for missing values,  you need to set the keyword `nan_policy='omit'` in the  `scipy.stats.ttest_ind()` method. Also set the key word argument `equal_var=False` to assume that the variance in annual incomes are different for males and females.  To learn more about the scipy.stats.ttest_ind method, execute `scipy.stats.ttest_ind?`"
   ]
  },
  {
   "cell_type": "code",
   "execution_count": 2,
   "id": "53be18e3",
   "metadata": {},
   "outputs": [
    {
     "ename": "NameError",
     "evalue": "name 'stats' is not defined",
     "output_type": "error",
     "traceback": [
      "\u001b[0;31m---------------------------------------------------------------------------\u001b[0m",
      "\u001b[0;31mNameError\u001b[0m                                 Traceback (most recent call last)",
      "Cell \u001b[0;32mIn[2], line 3\u001b[0m\n\u001b[1;32m      1\u001b[0m \u001b[38;5;66;03m# Please write your executatble code here\u001b[39;00m\n\u001b[0;32m----> 3\u001b[0m results \u001b[38;5;241m=\u001b[39m \u001b[43mstats\u001b[49m\u001b[38;5;241m.\u001b[39mttest_ind(male, female, nan_policy\u001b[38;5;241m=\u001b[39m\u001b[38;5;124m'\u001b[39m\u001b[38;5;124momit\u001b[39m\u001b[38;5;124m'\u001b[39m, equal_var\u001b[38;5;241m=\u001b[39m\u001b[38;5;28;01mFalse\u001b[39;00m)\n\u001b[1;32m      4\u001b[0m results\n",
      "\u001b[0;31mNameError\u001b[0m: name 'stats' is not defined"
     ]
    }
   ],
   "source": [
    "# Please write your executatble code here\n",
    "\n",
    "results = stats.ttest_ind(male, female, nan_policy='omit', equal_var=False)\n",
    "results"
   ]
  },
  {
   "cell_type": "markdown",
   "id": "fa357c48",
   "metadata": {},
   "source": [
    "4. Interpret the result (4pts)\n"
   ]
  },
  {
   "cell_type": "raw",
   "id": "673e317e",
   "metadata": {},
   "source": [
    "There is strong statistical evidence to conclude that there is a significant difference between the annual incomes of males and females. For example at confidence levels of 90% or 95% we have alpha equal to 0.1 or 0.05. The p-value is less than either of these which means we can reject the null hypothesis at 90% and 95% confidence levels. So there is statistically significant difference between males and females annual income.\n",
    "\n",
    "This high t-statistic value indicates a substantial difference between the mean annual incomes of males and females."
   ]
  },
  {
   "cell_type": "markdown",
   "id": "0252e55e",
   "metadata": {},
   "source": [
    "5. Now conduct a two sample hypothesis to test if males earn more annual income than females. Again, you will need to set the keywords `equal_var=False` and `nan_policy='omit'` as well as the correct `alternative= ` (4pts)"
   ]
  },
  {
   "cell_type": "code",
   "execution_count": 55,
   "id": "0571ca1d",
   "metadata": {},
   "outputs": [
    {
     "data": {
      "text/plain": [
       "TtestResult(statistic=12.080281708450256, pvalue=1.0, df=4977.467789359935)"
      ]
     },
     "execution_count": 55,
     "metadata": {},
     "output_type": "execute_result"
    }
   ],
   "source": [
    "# Please write your code below\n",
    "\n",
    "results = stats.ttest_ind(male, female, nan_policy='omit', equal_var=False, alternative='less')\n",
    "results"
   ]
  },
  {
   "cell_type": "markdown",
   "id": "3edb05cd",
   "metadata": {},
   "source": [
    "6. Interpret the results (4pts). Specifically, what can you conclude and what can you _not_ conclude from the test?"
   ]
  },
  {
   "cell_type": "raw",
   "id": "7a89166e",
   "metadata": {},
   "source": [
    "Write your answer below\n",
    "\n",
    "The p-value is 1, which is extremely high, far higher than any common significance level (such as 0.05 or 0.01). We can conclude that there is no strong evidence to reject the null hypothesis which states that males earn more annual income than females.\n",
    "\n",
    "Just because we found no reason to reject the claim that males earn more than females, we cannot imply that being male means a higher income. In other words, this test does not prove any causation"
   ]
  },
  {
   "cell_type": "code",
   "execution_count": null,
   "id": "b8b6eed8-574f-4193-b854-8cd37e1eb97f",
   "metadata": {},
   "outputs": [],
   "source": []
  }
 ],
 "metadata": {
  "kernelspec": {
   "display_name": "Python 3 (ipykernel)",
   "language": "python",
   "name": "python3"
  },
  "language_info": {
   "codemirror_mode": {
    "name": "ipython",
    "version": 3
   },
   "file_extension": ".py",
   "mimetype": "text/x-python",
   "name": "python",
   "nbconvert_exporter": "python",
   "pygments_lexer": "ipython3",
   "version": "3.10.14"
  }
 },
 "nbformat": 4,
 "nbformat_minor": 5
}
