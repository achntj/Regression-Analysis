{
 "cells": [
  {
   "cell_type": "markdown",
   "id": "92f7c6b6",
   "metadata": {},
   "source": [
    "# Problem Set 1: Explore, Visualize and Describe a Data Set (90 pts)\n",
    "### Summary and Motivation\n",
    "Problem Set 1 provides a comprehensive introduction to key statistical concepts and their application using Python. This problem set focuses on fundamental techniques such as variance, standard deviation, covariance, and correlation, and extends to hypothesis testing and data visualization. By working through these problems, students will gain practical experience in statistical analysis and data interpretation, essential skills for tackling real-world economic and business issues. This hands-on practice with Python not only reinforces theoretical knowledge but also enhances computational proficiency, preparing students for advanced data analytics tasks.\n",
    "### Instruction\n",
    "- Please follow below questions and instructions to complete this problem set. In some questions, please write and execute Python code for data analysis in Cell mode. Comment your code to explain each step. And use `Shift+Enter` to excute your code.\n",
    "- Some questions need text discussion. Please Provide a detailed discussion of your results, including interpretations and answers to questions in Raw mode.\n",
    "\n",
    "- Once you have completed the assignment, save your Jupyter notebook with the following naming convention: ECN394_ProblemSetX_LastName_FirstName.ipynb (replace X with the assignment number).\n",
    "\n",
    "\n",
    "Questions 1 - 3 ask you to manually calculate sample statistics.  Do this on a piece of paper, scan, or take a picture. Upload it with your Python notebook. _You can submit multiple pages, if necessary._"
   ]
  },
  {
   "cell_type": "markdown",
   "id": "473873f7",
   "metadata": {},
   "source": [
    "# Part 1: Statistical Concepts (64 pts, 4 pts per question)"
   ]
  },
  {
   "cell_type": "markdown",
   "id": "ea19565d",
   "metadata": {},
   "source": [
    "### Problem 1: Variance and Standard Deviation\n",
    "\n",
    "Consider the following dataset sampled from a population.\n",
    "\n",
    "[4, 8, 6, 5, 3]"
   ]
  },
  {
   "cell_type": "markdown",
   "id": "338468d0-533a-4e7a-acd0-d357eeef293f",
   "metadata": {},
   "source": [
    "a. Calculate the mean of the dataset.  Show your work.  _Turn in on a sheet of paper, label 1a_"
   ]
  },
  {
   "cell_type": "markdown",
   "id": "014935fd",
   "metadata": {},
   "source": [
    "b. Calculate the sample variance of the dataset. Show your work.  _Turn in on a sheet of paper, label 1b_\n"
   ]
  },
  {
   "cell_type": "markdown",
   "id": "04c4155b",
   "metadata": {},
   "source": [
    "c. Calculate sample the standard deviation of the dataset.  Show your work. _Turn in on a sheet of paper, label 1c_.\n"
   ]
  },
  {
   "cell_type": "markdown",
   "id": "f01f1234",
   "metadata": {},
   "source": [
    "d. Recompute the mean, sample variance, and sample standard deviation using Python, performing this task in two distinct ways:\n",
    "\n",
    "- (i) Manually code the calculations for mean, sample variance, and sample standard deviation to calculate these statistics. Ensure your code accurately reflects the mathematical definitions of these measures. Please use `print()` to show your answers."
   ]
  },
  {
   "cell_type": "code",
   "execution_count": 2,
   "id": "c79ad95d-d7b7-48f4-8f4b-93dba5df2026",
   "metadata": {},
   "outputs": [],
   "source": [
    "import pandas as pd\n",
    "import numpy as np"
   ]
  },
  {
   "cell_type": "code",
   "execution_count": null,
   "id": "9860d6ec",
   "metadata": {},
   "outputs": [],
   "source": [
    "# Please write your executable code below\n",
    "data = [4, 8, 6, 5, 3]\n",
    "\n",
    "array_sum = sum(data)\n",
    "n = len(data)\n",
    "\n",
    "mean = array_sum/n\n",
    "mean\n",
    "\n",
    "squared_devs = 0\n",
    "for i in data:\n",
    "    squared_devs += (i-mean)**2\n",
    "\n",
    "var = squared_devs / (n-1)\n",
    "std_dev = var ** (1/2)\n",
    "\n",
    "mean, var, std_dev"
   ]
  },
  {
   "cell_type": "markdown",
   "id": "ce6dd624",
   "metadata": {},
   "source": [
    "- (ii) Utilize Python’s built-in functions or numpy or pandas to compute the mean, sample variance, and sample standard deviation. Please use `print()` to show your answers. Please use `print()` to show your answers."
   ]
  },
  {
   "cell_type": "code",
   "execution_count": null,
   "id": "401addba",
   "metadata": {},
   "outputs": [],
   "source": [
    "# Please write your executable code below\n",
    "\n",
    "\n",
    "mean = np.mean(data)\n",
    "var = np.var(data, ddof=1)\n",
    "std_dev = np.std(data, ddof=1)\n",
    "mean, var, std_dev"
   ]
  },
  {
   "cell_type": "markdown",
   "id": "32a57247",
   "metadata": {},
   "source": [
    "### Problem 2: Covariance \n",
    "Given a dataset with two variables sampled from a population.\n",
    "\n",
    "X: 1, 2, 3, 4, 5\n",
    "\n",
    "Y: 2, 3, 5, 7, 11\n",
    "\n",
    "a. Calculate the sample mean of X and Y. Show your work.  _Turn in on a separate piece of paper and label 2a._\n",
    "\n",
    "b. Calculate the sample covariance between X and Y.  Show your work. _Calculate on a separate piece of paper label 2b._"
   ]
  },
  {
   "cell_type": "markdown",
   "id": "d789307c",
   "metadata": {},
   "source": [
    "c. Recompute the mean of X and Y, and sample covariance using Python, performing this task in two distinct ways:\n",
    "\n",
    "- (i) Manually code the sample mean, and sample covariance formulas to calculate these statistics. Ensure your code accurately reflects the mathematical definitions of these measures.\n"
   ]
  },
  {
   "cell_type": "code",
   "execution_count": null,
   "id": "15c9a014",
   "metadata": {},
   "outputs": [],
   "source": [
    "# Please write your executable code here\n",
    "X = [1, 2, 3, 4, 5]\n",
    "Y = [2, 3, 5, 7, 11]\n",
    "\n",
    "# For X\n",
    "array_sum_X = sum(X)\n",
    "n_X = len(X)\n",
    "mean_X = array_sum_X/n_X\n",
    "\n",
    "# For Y\n",
    "array_sum_Y = sum(Y)\n",
    "n_Y = len(Y)\n",
    "mean_Y = array_sum_Y/n_Y\n",
    "\n",
    "# n_X is equal to n_Y\n",
    "covariance = sum((X[i] - mean_X) * (Y[i] - mean_Y) for i in range(n_X)) / (n_Y - 1)\n",
    "\n",
    "covariance"
   ]
  },
  {
   "cell_type": "markdown",
   "id": "1bfcaefb",
   "metadata": {},
   "source": [
    "- (ii) Utilize Python’s built-in functions or relevant libraries (e.g., NumPy) to compute the sample mean of X and Y and sample covariance. \n"
   ]
  },
  {
   "cell_type": "code",
   "execution_count": null,
   "id": "2406527d",
   "metadata": {},
   "outputs": [],
   "source": [
    "# Please write your executable code here\n",
    "mean_X = np.mean(X)\n",
    "mean_Y = np.mean(Y)\n",
    "# [0][1] needs to be specified because np.cov() returns a matrix\n",
    "covariance = np.cov(X, Y)[0][1]\n",
    "covariance"
   ]
  },
  {
   "cell_type": "markdown",
   "id": "f3de37b9",
   "metadata": {},
   "source": [
    "### Problem 3: Correlation \n",
    "Using the dataset from Problem 2:\n",
    "\n",
    "a. Calculate the correlation coefficient between X and Y.  _Do this manually and turn in on a separate piece of paper labeled 3a._\n"
   ]
  },
  {
   "cell_type": "markdown",
   "id": "fdd4c199",
   "metadata": {},
   "source": [
    "b. Utilize Python’s built-in functions or relevant libraries (e.g., NumPy) to compute the correlation.\n"
   ]
  },
  {
   "cell_type": "code",
   "execution_count": null,
   "id": "e1f5b137",
   "metadata": {},
   "outputs": [],
   "source": [
    "# Please write your executable code here\n",
    "correlation = np.corrcoef(X, Y) \n",
    "# the corrcoef() method produces a matrix so we need to use indexing to get the number\n",
    "correlation[1,0]"
   ]
  },
  {
   "cell_type": "markdown",
   "id": "8153b4f3",
   "metadata": {},
   "source": [
    "### Problem 4: Properties of Variances and Covariances\n",
    "\n",
    "a. If X and Y are independent, what is Cov(X,Y)? Explain your reasoning.\n"
   ]
  },
  {
   "cell_type": "raw",
   "id": "ebf1234e",
   "metadata": {},
   "source": [
    "Please type your explanation here.\n",
    "\n"
   ]
  },
  {
   "cell_type": "markdown",
   "id": "1ec525d9",
   "metadata": {},
   "source": [
    "\n"
   ]
  },
  {
   "cell_type": "markdown",
   "id": "b3547915",
   "metadata": {},
   "source": [
    "### Problem 5: Standard Errors\n",
    "\n",
    "Suppose you have a sample of size n=50 with a sample mean of x̄ = 10 and a standard deviation of s = 2.\n",
    "\n",
    "a. Calculate the standard error of the sample mean.  _Turn in on a separate sheet of paper and label 5a._\n"
   ]
  },
  {
   "cell_type": "markdown",
   "id": "a50d81fb",
   "metadata": {},
   "source": [
    "b. Recompute the standard error of the sample mean using Python.\n"
   ]
  },
  {
   "cell_type": "code",
   "execution_count": 3,
   "id": "b4734011",
   "metadata": {},
   "outputs": [
    {
     "data": {
      "text/plain": [
       "0.282842712474619"
      ]
     },
     "execution_count": 3,
     "metadata": {},
     "output_type": "execute_result"
    }
   ],
   "source": [
    "# Please write your executable code here\n",
    "\n",
    "n = 50\n",
    "x_bar = 10\n",
    "s = 2\n",
    "\n",
    "std_error = s / (n**0.5)\n",
    "std_error"
   ]
  },
  {
   "cell_type": "markdown",
   "id": "d2875872",
   "metadata": {},
   "source": [
    "### Problem 6: Application of Concepts \n",
    "\n",
    "a. If the variance of a dataset is 0, what can you say about the data?\n"
   ]
  },
  {
   "cell_type": "raw",
   "id": "e3ccc7d3",
   "metadata": {},
   "source": [
    "Please type your explanation below.\n"
   ]
  },
  {
   "cell_type": "markdown",
   "id": "3f1d9020",
   "metadata": {},
   "source": [
    "\n"
   ]
  },
  {
   "cell_type": "markdown",
   "id": "e9af34fb",
   "metadata": {},
   "source": [
    "b.  A study shows a correlation coefficient of -0.8 between the amount of time spent studying and the number of errors made on a test. Interpret this result.\n"
   ]
  },
  {
   "cell_type": "raw",
   "id": "96e333b6",
   "metadata": {},
   "source": [
    "Please type your explanation here.\n"
   ]
  },
  {
   "cell_type": "markdown",
   "id": "ec3b471a",
   "metadata": {},
   "source": [
    "c.  What is the intepretation of the standard error of sample mean?  Why is the standard error important to know?\n"
   ]
  },
  {
   "cell_type": "raw",
   "id": "3eb2a91f",
   "metadata": {},
   "source": [
    "Please type your explanation here.\n"
   ]
  },
  {
   "cell_type": "markdown",
   "id": "08d7178b",
   "metadata": {},
   "source": [
    "# Part 2: Data Visualization (26 pts)"
   ]
  },
  {
   "attachments": {},
   "cell_type": "markdown",
   "id": "556ed576",
   "metadata": {},
   "source": [
    "In this problem, you will draw 3 plots. It is designed to help you apply the analytical skills you have acquired to examine the relationship between educational attainment, background characteristics and income across different group. The dataset data NLSY97.xlsx, available on CANVAS, contains all necessary information. These data are sourced from the NLSY97, a representative national database of individuals born in the early 1980s in the United States. Below are some variables we will use:\n",
    "- educ: number of years of education completed\n",
    "- annual_income: Annual income from wages\n",
    "- gender: denotes the gender of the individual\n",
    "- minority: 1 if the individual belongs to a minority group, 0 otherwise.\n",
    "- mother_educ: 1 if the individual’s mother has a college degree, 0 otherwise.\n",
    "- gpa_grade_9: GPA in 8th grade.\n",
    "- retention: 1 if the individual was required to repeat a grade during middle school, 0 otherwise."
   ]
  },
  {
   "cell_type": "markdown",
   "id": "a23a4bad",
   "metadata": {},
   "source": [
    "1. Load the data and needed libraries.  _Hint_ `pd.read_excel(data_NLSY97.xlsx)` to read the data (2pts)"
   ]
  },
  {
   "cell_type": "code",
   "execution_count": 7,
   "id": "d86ad3e7",
   "metadata": {},
   "outputs": [
    {
     "data": {
      "text/html": [
       "<div>\n",
       "<style scoped>\n",
       "    .dataframe tbody tr th:only-of-type {\n",
       "        vertical-align: middle;\n",
       "    }\n",
       "\n",
       "    .dataframe tbody tr th {\n",
       "        vertical-align: top;\n",
       "    }\n",
       "\n",
       "    .dataframe thead th {\n",
       "        text-align: right;\n",
       "    }\n",
       "</style>\n",
       "<table border=\"1\" class=\"dataframe\">\n",
       "  <thead>\n",
       "    <tr style=\"text-align: right;\">\n",
       "      <th></th>\n",
       "      <th>educ</th>\n",
       "      <th>gpa_grade_8</th>\n",
       "      <th>retention</th>\n",
       "      <th>annual_income</th>\n",
       "      <th>total_weeks_exper</th>\n",
       "      <th>black</th>\n",
       "      <th>hispanic</th>\n",
       "      <th>white</th>\n",
       "      <th>mother_educ</th>\n",
       "      <th>minority</th>\n",
       "      <th>gender</th>\n",
       "    </tr>\n",
       "    <tr>\n",
       "      <th>PUBID - YTH ID CODE 1997</th>\n",
       "      <th></th>\n",
       "      <th></th>\n",
       "      <th></th>\n",
       "      <th></th>\n",
       "      <th></th>\n",
       "      <th></th>\n",
       "      <th></th>\n",
       "      <th></th>\n",
       "      <th></th>\n",
       "      <th></th>\n",
       "      <th></th>\n",
       "    </tr>\n",
       "  </thead>\n",
       "  <tbody>\n",
       "    <tr>\n",
       "      <th>1</th>\n",
       "      <td>16.0</td>\n",
       "      <td>3.0</td>\n",
       "      <td>0.0</td>\n",
       "      <td>NaN</td>\n",
       "      <td>NaN</td>\n",
       "      <td>0.0</td>\n",
       "      <td>0.0</td>\n",
       "      <td>1.0</td>\n",
       "      <td>0.0</td>\n",
       "      <td>0.0</td>\n",
       "      <td>female</td>\n",
       "    </tr>\n",
       "    <tr>\n",
       "      <th>2</th>\n",
       "      <td>14.0</td>\n",
       "      <td>3.5</td>\n",
       "      <td>0.0</td>\n",
       "      <td>115000.0</td>\n",
       "      <td>965.0</td>\n",
       "      <td>0.0</td>\n",
       "      <td>1.0</td>\n",
       "      <td>0.0</td>\n",
       "      <td>0.0</td>\n",
       "      <td>1.0</td>\n",
       "      <td>male</td>\n",
       "    </tr>\n",
       "    <tr>\n",
       "      <th>3</th>\n",
       "      <td>14.0</td>\n",
       "      <td>3.0</td>\n",
       "      <td>0.0</td>\n",
       "      <td>NaN</td>\n",
       "      <td>776.0</td>\n",
       "      <td>0.0</td>\n",
       "      <td>1.0</td>\n",
       "      <td>0.0</td>\n",
       "      <td>0.0</td>\n",
       "      <td>1.0</td>\n",
       "      <td>female</td>\n",
       "    </tr>\n",
       "    <tr>\n",
       "      <th>4</th>\n",
       "      <td>12.0</td>\n",
       "      <td>4.0</td>\n",
       "      <td>0.0</td>\n",
       "      <td>45000.0</td>\n",
       "      <td>1008.0</td>\n",
       "      <td>0.0</td>\n",
       "      <td>1.0</td>\n",
       "      <td>0.0</td>\n",
       "      <td>0.0</td>\n",
       "      <td>1.0</td>\n",
       "      <td>female</td>\n",
       "    </tr>\n",
       "    <tr>\n",
       "      <th>5</th>\n",
       "      <td>12.0</td>\n",
       "      <td>2.5</td>\n",
       "      <td>0.0</td>\n",
       "      <td>150000.0</td>\n",
       "      <td>890.0</td>\n",
       "      <td>0.0</td>\n",
       "      <td>1.0</td>\n",
       "      <td>0.0</td>\n",
       "      <td>0.0</td>\n",
       "      <td>1.0</td>\n",
       "      <td>male</td>\n",
       "    </tr>\n",
       "    <tr>\n",
       "      <th>...</th>\n",
       "      <td>...</td>\n",
       "      <td>...</td>\n",
       "      <td>...</td>\n",
       "      <td>...</td>\n",
       "      <td>...</td>\n",
       "      <td>...</td>\n",
       "      <td>...</td>\n",
       "      <td>...</td>\n",
       "      <td>...</td>\n",
       "      <td>...</td>\n",
       "      <td>...</td>\n",
       "    </tr>\n",
       "    <tr>\n",
       "      <th>9018</th>\n",
       "      <td>8.0</td>\n",
       "      <td>2.0</td>\n",
       "      <td>0.0</td>\n",
       "      <td>90000.0</td>\n",
       "      <td>942.0</td>\n",
       "      <td>0.0</td>\n",
       "      <td>0.0</td>\n",
       "      <td>1.0</td>\n",
       "      <td>0.0</td>\n",
       "      <td>0.0</td>\n",
       "      <td>female</td>\n",
       "    </tr>\n",
       "    <tr>\n",
       "      <th>9019</th>\n",
       "      <td>13.0</td>\n",
       "      <td>1.5</td>\n",
       "      <td>1.0</td>\n",
       "      <td>43000.0</td>\n",
       "      <td>824.0</td>\n",
       "      <td>0.0</td>\n",
       "      <td>1.0</td>\n",
       "      <td>0.0</td>\n",
       "      <td>0.0</td>\n",
       "      <td>1.0</td>\n",
       "      <td>male</td>\n",
       "    </tr>\n",
       "    <tr>\n",
       "      <th>9020</th>\n",
       "      <td>14.0</td>\n",
       "      <td>3.5</td>\n",
       "      <td>0.0</td>\n",
       "      <td>NaN</td>\n",
       "      <td>494.0</td>\n",
       "      <td>0.0</td>\n",
       "      <td>0.0</td>\n",
       "      <td>1.0</td>\n",
       "      <td>0.0</td>\n",
       "      <td>0.0</td>\n",
       "      <td>male</td>\n",
       "    </tr>\n",
       "    <tr>\n",
       "      <th>9021</th>\n",
       "      <td>13.0</td>\n",
       "      <td>1.5</td>\n",
       "      <td>0.0</td>\n",
       "      <td>47000.0</td>\n",
       "      <td>965.0</td>\n",
       "      <td>0.0</td>\n",
       "      <td>0.0</td>\n",
       "      <td>1.0</td>\n",
       "      <td>0.0</td>\n",
       "      <td>0.0</td>\n",
       "      <td>male</td>\n",
       "    </tr>\n",
       "    <tr>\n",
       "      <th>9022</th>\n",
       "      <td>16.0</td>\n",
       "      <td>2.0</td>\n",
       "      <td>0.0</td>\n",
       "      <td>60000.0</td>\n",
       "      <td>1009.0</td>\n",
       "      <td>0.0</td>\n",
       "      <td>0.0</td>\n",
       "      <td>1.0</td>\n",
       "      <td>0.0</td>\n",
       "      <td>0.0</td>\n",
       "      <td>female</td>\n",
       "    </tr>\n",
       "  </tbody>\n",
       "</table>\n",
       "<p>8984 rows × 11 columns</p>\n",
       "</div>"
      ],
      "text/plain": [
       "                          educ  gpa_grade_8  retention  annual_income  \\\n",
       "PUBID - YTH ID CODE 1997                                                \n",
       "1                         16.0          3.0        0.0            NaN   \n",
       "2                         14.0          3.5        0.0       115000.0   \n",
       "3                         14.0          3.0        0.0            NaN   \n",
       "4                         12.0          4.0        0.0        45000.0   \n",
       "5                         12.0          2.5        0.0       150000.0   \n",
       "...                        ...          ...        ...            ...   \n",
       "9018                       8.0          2.0        0.0        90000.0   \n",
       "9019                      13.0          1.5        1.0        43000.0   \n",
       "9020                      14.0          3.5        0.0            NaN   \n",
       "9021                      13.0          1.5        0.0        47000.0   \n",
       "9022                      16.0          2.0        0.0        60000.0   \n",
       "\n",
       "                          total_weeks_exper  black  hispanic  white  \\\n",
       "PUBID - YTH ID CODE 1997                                              \n",
       "1                                       NaN    0.0       0.0    1.0   \n",
       "2                                     965.0    0.0       1.0    0.0   \n",
       "3                                     776.0    0.0       1.0    0.0   \n",
       "4                                    1008.0    0.0       1.0    0.0   \n",
       "5                                     890.0    0.0       1.0    0.0   \n",
       "...                                     ...    ...       ...    ...   \n",
       "9018                                  942.0    0.0       0.0    1.0   \n",
       "9019                                  824.0    0.0       1.0    0.0   \n",
       "9020                                  494.0    0.0       0.0    1.0   \n",
       "9021                                  965.0    0.0       0.0    1.0   \n",
       "9022                                 1009.0    0.0       0.0    1.0   \n",
       "\n",
       "                          mother_educ  minority  gender  \n",
       "PUBID - YTH ID CODE 1997                                 \n",
       "1                                 0.0       0.0  female  \n",
       "2                                 0.0       1.0    male  \n",
       "3                                 0.0       1.0  female  \n",
       "4                                 0.0       1.0  female  \n",
       "5                                 0.0       1.0    male  \n",
       "...                               ...       ...     ...  \n",
       "9018                              0.0       0.0  female  \n",
       "9019                              0.0       1.0    male  \n",
       "9020                              0.0       0.0    male  \n",
       "9021                              0.0       0.0    male  \n",
       "9022                              0.0       0.0  female  \n",
       "\n",
       "[8984 rows x 11 columns]"
      ]
     },
     "execution_count": 7,
     "metadata": {},
     "output_type": "execute_result"
    }
   ],
   "source": [
    "# Please write your executatble code here\n",
    "df = pd.read_excel(\"data_NLSY97.xlsx\", index_col=0)\n",
    "df"
   ]
  },
  {
   "cell_type": "markdown",
   "id": "c57ec239",
   "metadata": {},
   "source": [
    "2. Create a histogram of annual nicome, and interpret the result (8pts)"
   ]
  },
  {
   "cell_type": "code",
   "execution_count": 10,
   "id": "0fcdd3ff",
   "metadata": {},
   "outputs": [
    {
     "data": {
      "text/plain": [
       "array([[<Axes: title={'center': 'annual_income'}>]], dtype=object)"
      ]
     },
     "execution_count": 10,
     "metadata": {},
     "output_type": "execute_result"
    },
    {
     "data": {
      "image/png": "[encoded data removed]",
      "text/plain": [
       "<Figure size 640x480 with 1 Axes>"
      ]
     },
     "metadata": {},
     "output_type": "display_data"
    }
   ],
   "source": [
    "# Please write your executatble code here\n",
    "import matplotlib.pyplot as plt\n",
    "\n",
    "hist_1 = df.hist('annual_income')\n",
    "hist_1"
   ]
  },
  {
   "cell_type": "raw",
   "id": "43767915",
   "metadata": {},
   "source": [
    "Type your interpretation of the histogram below\n"
   ]
  },
  {
   "cell_type": "markdown",
   "id": "fa357c48",
   "metadata": {},
   "source": [
    "3. Create boxplots of wages for males and females on the same axes.  (8pts)"
   ]
  },
  {
   "cell_type": "code",
   "execution_count": null,
   "id": "24079d55",
   "metadata": {},
   "outputs": [],
   "source": [
    "# Please write your executatble code here\n",
    "male_df = \n",
    "boxplot_m = df.boxplot(column='wages', by=) "
   ]
  },
  {
   "cell_type": "raw",
   "id": "2bd80f05",
   "metadata": {},
   "source": [
    "Type your interpretation of the plot below\n"
   ]
  },
  {
   "cell_type": "markdown",
   "id": "6ddcf45e",
   "metadata": {},
   "source": [
    "4. Create a scatter plot with completed education years `educ` in the x-axis and wage `annual_income` in the y-axis. And interpret the result. (8pts)"
   ]
  },
  {
   "cell_type": "code",
   "execution_count": null,
   "id": "f5284564",
   "metadata": {},
   "outputs": [],
   "source": [
    "# Please write your executatble code here\n"
   ]
  },
  {
   "cell_type": "raw",
   "id": "28fed366",
   "metadata": {},
   "source": [
    "Please type your interpretation of  the scatter plot here and what relationship you can see between education and wages"
   ]
  },
  {
   "cell_type": "code",
   "execution_count": null,
   "id": "c0fd2b60",
   "metadata": {},
   "outputs": [],
   "source": []
  }
 ],
 "metadata": {
  "kernelspec": {
   "display_name": "Python 3 (ipykernel)",
   "language": "python",
   "name": "python3"
  },
  "language_info": {
   "codemirror_mode": {
    "name": "ipython",
    "version": 3
   },
   "file_extension": ".py",
   "mimetype": "text/x-python",
   "name": "python",
   "nbconvert_exporter": "python",
   "pygments_lexer": "ipython3",
   "version": "3.10.14"
  }
 },
 "nbformat": 4,
 "nbformat_minor": 5
}
