{
 "cells": [
  {
   "cell_type": "markdown",
   "id": "5b95120a-94dd-42c1-9362-d1c7a91dfed8",
   "metadata": {},
   "source": [
    "# Plotting and visualization "
   ]
  },
  {
   "cell_type": "markdown",
   "id": "f508db28-8677-4e09-a68c-d4b8f1df4f13",
   "metadata": {},
   "source": [
    "## Learning objectives\n",
    "- Create an customize a basic line plot using matplotlib\n",
    "- Create a histogram from a Pandas dataframe or series\n",
    "- Create a scatter plot from two series in a dataframe\n",
    "- Create box plots from pandas dataframe or series\n",
    "- Add lines and annotations to plots\n",
    "\n",
    "## References \n",
    "- https://pandas.pydata.org/docs/user_guide/visualization.html\n",
    "- https://matplotlib.org/stable/users/index.html\n"
   ]
  },
  {
   "cell_type": "markdown",
   "id": "d8a4b2eb-217c-46cd-aea8-80bf54c0cfd6",
   "metadata": {},
   "source": [
    "We are going to use a Python plotting library called `matplotlib`. Under this library, there is a most commonly used subpackage called `pyplot`, which we will import and learn. "
   ]
  },
  {
   "cell_type": "code",
   "execution_count": null,
   "id": "e0722109-a4d5-4ed5-a257-f108ace28dfa",
   "metadata": {},
   "outputs": [],
   "source": [
    "# import pandas and nupmy and matplotlib\n",
    "import pandas as pd\n",
    "import numpy as np\n",
    "import matplotlib.pyplot as plt"
   ]
  },
  {
   "cell_type": "code",
   "execution_count": null,
   "id": "dc0d802c-4873-425f-8eee-870d57269a38",
   "metadata": {},
   "outputs": [],
   "source": [
    "# import the dataset attend.  It is saved in the folder with this notebook\n",
    "attend_df = pd.read_csv('attend.csv', index_col=0)"
   ]
  },
  {
   "cell_type": "raw",
   "id": "d076713e-5486-43e2-919b-d12d620d168f",
   "metadata": {},
   "source": [
    "+----------+------------------------------+\n",
    "| variable | label                        |\n",
    "+----------+------------------------------+\n",
    "| attend   | classes attended out of 32   |\n",
    "| termGPA  | GPA for term                 |\n",
    "| priGPA   | cumulative GPA prior to term |\n",
    "| ACT      | ACT score                    |\n",
    "| final    | final exam score             |\n",
    "| atndrte  | percent classes attended     |\n",
    "| hwrte    | percent homework turned in   |\n",
    "| frosh    | =1 if freshman               |\n",
    "| soph     | =1 if sophomore              |\n",
    "| missed   | number of classes missed     |\n",
    "| stndfnl  | (final - mean)/sd            |\n",
    "+----------+------------------------------+"
   ]
  },
  {
   "cell_type": "markdown",
   "id": "cd5e08f2-839a-471a-8e22-00f1c1cef9b5",
   "metadata": {},
   "source": [
    "### Matplotlib\n",
    "- Matplotlib is the plotting library in python.  Any plotting methods that are called in Pandas or other libraries use matplotib\n",
    "- Below, we create a figure `fig` and a set of axes `ax` using matplotlib.\n",
    "    - The figure object is the _entire_ figure and could include more than one set of axes\n",
    "    - We plot on the axes.  We can set the scale, ticks, grid, etc.\n",
    "- plt.subplots() creates a figure with a single set of axes. Most of the time in this class, we use one set of axes.\n",
    "    - `plt.subplots(_number of rows_,_number of columns_)` will create multiple subplots. "
   ]
  },
  {
   "cell_type": "code",
   "execution_count": null,
   "id": "4c9e403d-fa72-4033-a8df-efd2fdade929",
   "metadata": {},
   "outputs": [],
   "source": [
    "fig, ax = plt.subplots()  # creates a blank figure"
   ]
  },
  {
   "cell_type": "markdown",
   "id": "455b6ff4-8f7e-4e65-ba28-95fa2e23d6a4",
   "metadata": {},
   "source": [
    "#### Plotting data on the axes\n",
    "- The default plot type is a line plot\n",
    "- Create x and y values and plot on the axes\n",
    "- The `label` keyword is optional and used if you want to add a legend"
   ]
  },
  {
   "cell_type": "code",
   "execution_count": null,
   "id": "83738aa2-bdb9-4bbd-a8b9-c9970c1d8248",
   "metadata": {},
   "outputs": [],
   "source": [
    "# create x and y values and plot \n",
    "xdata = np.arange(10)  # creats an array from 0 to 10\n",
    "ydata = 2*xdata + 5  # create an array of y values \n",
    "ax.plot(xdata, ydata, label='first line')\n",
    "#  Make 'fig' the last line in the codeblock to display it. If writing a script, use fig.show()\n",
    "fig"
   ]
  },
  {
   "cell_type": "markdown",
   "id": "4ed76be1-a872-4abc-85a8-07e4c4732256",
   "metadata": {},
   "source": [
    "#### Customizing figures\n",
    "- add a title with `ax.set_title('Name')`\n",
    "- label the axes with `ax.set_xlabel('x label')` and `ax.set_ylabel(' ylabel')`\n",
    "- change the limits with `ax.set_ylim(_min value_, _max value_)` and `ax.set_xlim(_min value, max_value_)`\n",
    "- change tick mark values with `ax.set_ticks(_array of tickvals_)` and `ax.set_yticks(_array of ytick vals_)`\n",
    "- Not shown, you can change the labels of the ticks to strings with `ax.set_xticklabels(_list of strings_)` and `ax.set_yticklabels(_list of strings_)`"
   ]
  },
  {
   "cell_type": "code",
   "execution_count": null,
   "id": "26b5f39a-c15a-4d39-b7a2-adc89e3ad031",
   "metadata": {},
   "outputs": [],
   "source": [
    "ax.set_xlabel('Values of x')\n",
    "ax.set_ylabel('Values of y')\n",
    "ax.set_title('Plot x and y')\n",
    "ax.set_ylim(0,30)\n",
    "ax.set_xlim(0,10)\n",
    "ax.set_xticks(np.arange(0, 10, 1))\n",
    "ax.set_yticks(np.arange(-2, 32, 2))\n",
    "fig  # This will display the figure again"
   ]
  },
  {
   "cell_type": "markdown",
   "id": "d6b77216-eb4e-43f2-99d1-5377d1c3632f",
   "metadata": {},
   "source": [
    "#### Adding to the axes \n",
    "- Add additional lines by creating a new plot on the same set of axes\n",
    "    - Format the line with keywords `linewidth`, `linestyle` and `color` in the `ax.plot()` method\n",
    "- add a heavy, vertical, dashed red line at x=5.  \n",
    "- Add text labels with the method `ax.text(_x-coord_, _y-coord_, 'text string')`\n",
    "- Add a legend with that uses the labels defined with keywords with `ax.legend()`\n",
    "    - you can also add a legend and create labels at the same time with `ax.legend(['label1', 'label2', ...'])`"
   ]
  },
  {
   "cell_type": "code",
   "execution_count": null,
   "id": "6775134d-a45c-4baf-9931-6d9e5bf5dc17",
   "metadata": {},
   "outputs": [],
   "source": [
    "ax.plot([5, 5], [-2, 100], linestyle='dashed', linewidth=2, color='red', label='dashed line')\n",
    "ax.text(5.1, 25, 'add text')\n",
    "ax.legend()\n",
    "fig # include to show again"
   ]
  },
  {
   "cell_type": "markdown",
   "id": "242a0d8c-65b3-4022-970d-63c9dbf9939d",
   "metadata": {},
   "source": [
    "#### Saving figures \n",
    "- `fig.savefig(_file name_)` will save the figure in the folder with this notebook. If you want to save the figure elsewhere, specify the file path.\n",
    "    - You can save as .png, .esp, .pdf, .svg  \n",
    "- There are options for saving, like transparency, dots per inch (dpi), etc. See the options with `fig.savefig?`"
   ]
  },
  {
   "cell_type": "code",
   "execution_count": null,
   "id": "3adf7737-4fb5-4a9c-b5d5-45cddce3e0ef",
   "metadata": {},
   "outputs": [],
   "source": [
    "fig.savefig('test_figure.png')"
   ]
  },
  {
   "cell_type": "markdown",
   "id": "f82d7ebc-53e2-4191-9f72-364c31a7fa49",
   "metadata": {},
   "source": [
    "### Matplotlib recap\n",
    "- There are _so many_ things you can do to customize matplotlib figures and axes; see the reference link.\n",
    "-  Once you plot something on a set of axes, you can continue to customize it using matplotlib methods.  This is why we create the figure and axes matplotlib objects _before_ we use the convenient built in Pandas functions\n",
    "\n",
    "\n",
    "### Matplotlib methods included in the Pandas library\n",
    "- Pandas dataframes include methods for plotting,  \n",
    "    -  `dataframe.hist()` creates a histogram\n",
    "    -  `dataframe.plot.scatter()` creates a scatter plot\n",
    "    -  `dataframe.boxplot()` creates a boxplot\n",
    "\n",
    "#### Histograms\n",
    "- Pandas has a method `dataframe_.hist('column 1', **kwargs )` that will create histograms for column 1 in _dataframe_.\n",
    "    - For a histogram of one column, specify the column name as the first argument. \n",
    "- The \"bins\" are the bars of a histogram that show how many times a value falls in the range of the bin\n",
    "    - The default number of bins in `.hist()` is 10.  You can change the number of bins or specify the edges of each bin with the keyword `bins=`. "
   ]
  },
  {
   "cell_type": "code",
   "execution_count": null,
   "id": "b8a5bb89-e0d0-4880-a6f9-32961702695a",
   "metadata": {},
   "outputs": [],
   "source": [
    "# create matplotlib figures and axes\n",
    "fig2, ax2 = plt.subplots()\n",
    "bin_range = np.arange(10, 40, 2) # The default number of bins is 10, you can change the number of bins or create a bin range \n",
    "hist = attend_df.hist('final', bins=bin_range, ax=ax2)"
   ]
  },
  {
   "cell_type": "markdown",
   "id": "47f3dfcc-a108-4033-8dda-e63f63ff7ef4",
   "metadata": {},
   "source": [
    "#### Customizing the histogram\n",
    "- The title was created by default, we can reset it using `ax2.set_title('New Name')`\n",
    "- We can add axes labels, change the tick marks, add a line representing the mean score, and save the histogram"
   ]
  },
  {
   "cell_type": "code",
   "execution_count": null,
   "id": "6a2b56ba-b18c-45f1-bcc4-a4e8d51ca740",
   "metadata": {},
   "outputs": [],
   "source": [
    "ax2.set_title('Final exam scores')\n",
    "ax2.set_xlabel('Score range')\n",
    "ax2.set_ylabel('# of occurances')\n",
    "\n",
    "xticks = np.arange(8, 44, 4) # Since the final exam is out of 40, each tick mark is 10% and there are two bins per tick\n",
    "ax2.set_xticks(xticks)\n",
    "\n",
    "final_mean = attend_df['final'].mean()  # get the mean of the 'final' column\n",
    "ax2.plot([final_mean, final_mean], [0, 120], '--', color='orange', label='mean score')  # add a vertical line at the mean\n",
    "ax2.legend()\n",
    "\n",
    "fig2.savefig('histogram.png')  # saves in the directory \n",
    "fig2 # needed to display the histogram again"
   ]
  },
  {
   "cell_type": "markdown",
   "id": "64f2c71a-fe4f-483f-9a7d-4205153b9f2c",
   "metadata": {},
   "source": [
    "#### Scatter plots\n",
    "- `dataframe.plot.scatter(x='x column', y='y column')` will create a scatter plot\n",
    "- We can look at the scatter plot of the final exam score with the prior term gpa (or any other column we choose)\n",
    "- This method allows for some of the customizations, like title xlabel and ylabel, to be specified as keyword arguments, but we'll still set using `ax3.set_...`"
   ]
  },
  {
   "cell_type": "code",
   "execution_count": null,
   "id": "4aee9dc8-bff4-4979-8b86-decd785dffe4",
   "metadata": {},
   "outputs": [],
   "source": [
    "fig3, ax3 = plt.subplots()  \n",
    "scatter=attend_df.plot.scatter(x='priGPA', y='final', ax=ax3)  # create the scatter plot\n",
    "ax3.set_title('final/prior gpa scatter')\n",
    "ax3.set_xlabel('Prior Term GPA')\n",
    "ax3.set_ylabel('Final exam score')\n",
    "fig3.savefig('scatter.png')\n",
    "# note adding a trendline is covered another lesson"
   ]
  },
  {
   "cell_type": "markdown",
   "id": "cb8f7b85-01a1-4a46-a121-8d5e41625396",
   "metadata": {},
   "source": [
    "#### Box plots\n",
    "- `dataframe_.boxplot(column='column 1')` will create a box plot for the values in 'column 1' on one set of axes"
   ]
  },
  {
   "cell_type": "code",
   "execution_count": null,
   "id": "41daa40a-6ed3-43a4-b57e-d51289fe45df",
   "metadata": {},
   "outputs": [],
   "source": [
    "fig4, ax4 = plt.subplots()\n",
    "boxplot = attend_df.boxplot(column='final', ax=ax4) \n",
    "ax4.set_ylabel('Final score')\n",
    "ax4.set_title('Final box plot')\n",
    "fig4.savefig('boxplot.png')"
   ]
  },
  {
   "cell_type": "markdown",
   "id": "b2208a80-6633-4229-bb07-fe4e752213c6",
   "metadata": {},
   "source": [
    "#### Box plot of the same column with different categories\n",
    "- `dataframe_.boxplot(column='column 1', by='column 2')` will create box plots of column 1 for all the different values in column 2\n",
    "- The `attend_df` dataframe includes a column 'frosh' that has a value 1 of the exam was taken by a freshman and 0 otherwise"
   ]
  },
  {
   "cell_type": "code",
   "execution_count": null,
   "id": "085b0fe0-d15e-43d4-87a2-0fd348be39dd",
   "metadata": {},
   "outputs": [],
   "source": [
    "fig5, ax5 = plt.subplots()\n",
    "boxplot = attend_df.boxplot(column='final', by='frosh', ax=ax5) \n",
    "ax5.set_title(' Final exam by academic level')\n",
    "ax5.set_ylabel('Final score')\n",
    "ax5.set_xlabel('Academic level')\n",
    "ax5.set_xticklabels(['Not freshman', 'freshmen'])  # This will label the x values.  If you leave this out, the labels default to 0 and 1 \n",
    "fig5.savefig('grouped_boxplot.png')"
   ]
  },
  {
   "cell_type": "markdown",
   "id": "52a85d6d-255a-476c-ba4b-3ef55c3e082e",
   "metadata": {},
   "source": [
    "#### Box plots of multiple columns\n",
    "- We can create box plots for multiple columns on the same axis by specifying a list of column names in the column argument\n",
    "- The units on the y-axis will be the same for both, so choose columns that are in the same units\n",
    "    - termGPA and priGPA are the same units "
   ]
  },
  {
   "cell_type": "code",
   "execution_count": null,
   "id": "e06463b4-955e-4b53-bdb6-0f4297b62e33",
   "metadata": {},
   "outputs": [],
   "source": [
    "fig6, ax6 = plt.subplots()\n",
    "boxplot = attend_df.boxplot(column=['termGPA', 'priGPA'], ax=ax6)\n",
    "ax6.set_title('GPA boxplot')\n",
    "ax6.set_ylabel('Grade points')\n",
    "fig6.savefig('gpa_boxplot.png')"
   ]
  },
  {
   "cell_type": "markdown",
   "id": "863b64f2-70ff-4d12-a6ab-721e3d7f9e74",
   "metadata": {},
   "source": [
    "## Notebook notes\n",
    "There is more than one was to create histograms, scatter plots, and box plots using pandas methods or the maplotlib module.\n",
    "- `dataframe.plot.hist(column='column 1')`, `dataframe.plot(kind='hist, column='column 1')`, and `ax.hist(dataframe['column 1']) will all create a histogram of column 1 of a dataframe.\n",
    "- `dataframe.plot(kind='scatter', x='x column', y='y column')` and `ax.scatter(x=dataframe['x column'], y=dataframe['y column']) will also produce a scatter plot\n",
    "- `dataframe.plot(kind='box', column='column 1')` or  `ax.boxplot(dataframe['column 1'])` with both produce a boxplot of 'column 1' of a dataframe\n",
    "\n",
    "Why so many?  Many developers work on Python modules, and each is convenient under different circumstances.  If you are exploring data quickly, then the built-in Pandas methods are most convenient. If you are making figures for presentation, matplotlib allows for more customization. As you search documents or use AI tools to generate code, you may examples of each\n",
    "\n",
    "#### About the data set \"attend\"\n",
    "\n",
    "__Source__ J.M. Wooldridge (2019) _Introductory Econometrics: A Modern Approach_, Cengage Learning, 7th edition.\n",
    "Accessed from https://pypi.org/project/wooldridge/\n",
    "\n",
    "<small>\n",
    "These data were collected by Professors Ronald Fisher and Carl\n",
    "Liedholm during a term in which they both taught principles of\n",
    "microeconomics at Michigan State University. Professors Fisher and\n",
    "Liedholm kindly gave [Woolridge] permission to use a random subset of their\n",
    "data, and their research assistant at the time, Jeffrey Guilfoyle, who\n",
    "completed his Ph.D. in economics at MSU, provided helpful hints.</small>\n"
   ]
  },
  {
   "cell_type": "code",
   "execution_count": null,
   "id": "15c56f83-e94f-4ca1-99e4-f2dc9da755ee",
   "metadata": {},
   "outputs": [],
   "source": []
  }
 ],
 "metadata": {
  "kernelspec": {
   "display_name": "Python 3 (ipykernel)",
   "language": "python",
   "name": "python3"
  },
  "language_info": {
   "codemirror_mode": {
    "name": "ipython",
    "version": 3
   },
   "file_extension": ".py",
   "mimetype": "text/x-python",
   "name": "python",
   "nbconvert_exporter": "python",
   "pygments_lexer": "ipython3",
   "version": "3.12.4"
  }
 },
 "nbformat": 4,
 "nbformat_minor": 5
}
