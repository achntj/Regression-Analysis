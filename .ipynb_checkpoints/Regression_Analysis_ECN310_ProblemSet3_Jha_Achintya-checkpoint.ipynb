{
 "cells": [
  {
   "cell_type": "markdown",
   "id": "5a58f1c5",
   "metadata": {},
   "source": [
    "# Problem Set 3: Univariate Regressions\n",
    "\n",
    "### Summary and Motivation\n",
    "\n",
    "Problem Set 3 is designed to introduce students to the basics of regression analysis, a fundamental tool in data analytics and econometrics. By using the NLSY97 dataset, students will explore relationships between key variables such as education, gender, and annual income. This problem set emphasizes practical experience with Python and the statsmodels library, reinforcing theoretical knowledge through hands-on data manipulation and analysis. By completing these exercises, students will gain a deeper understanding of univariate regression techniques, preparing them for more advanced multivariate analyses and real-world applications in economics and business.\n",
    "\n",
    "### Instruction\n",
    "The dataset data_NLSY97.xlsx, available on CANVAS, contains all the necessary information. These data are sourced from\n",
    "the NLSY97, a representative national database of individuals born in the early 1980s in the United States. Below are some variables we will use:\n",
    "- educ: number of years of education completed\n",
    "- Annual_Income: annual income that these individuals perceived when an adults\n",
    "- gender: denotes the gender of the individual\n",
    "- minority: 1 if the individual belongs to a minority group, 0 otherwise.\n",
    "- m_degree_4: 1 if the individual’s mother has a college degree, 0 otherwise.\n",
    "- family income: Annual family income when these individuals were teenagers, reported in thousands.\n",
    "- gpain8: GPA in 8th grade.\n",
    "- retention: 1 if the individual was required to repeat a grade during middle school, 0 otherwise.\n",
    "\n",
    "Please follow the questions and instructions below to complete this problem set. For some questions, please write and execute Python code for data analysis in Cell mode. Comment your code to explain each step. Some questions need text discussion. Please provide a detailed discussion of your results, including interpretations and answers to questions in Raw mode.\n",
    "\n",
    "Once you have completed the assignment, save your Jupyter notebook with the following naming convention: ECN310_ProblemSetX_LastName_FirstName.ipynb (replace X with the assignment number)."
   ]
  },
  {
   "cell_type": "markdown",
   "id": "dea6a1ba",
   "metadata": {},
   "source": [
    "### Exercise 1: Load and Explore the Dataset"
   ]
  },
  {
   "cell_type": "markdown",
   "id": "77a67b4e",
   "metadata": {},
   "source": [
    "- This is the same database we used for our previous problem set. Each row contains information for each individual in the sample. (check the previous problem set for the definition of the variables).\n",
    "- Load the needed libraries and dataset data_NLSY97.xlsx.\n",
    "- Display the first 10 rows of the dataset."
   ]
  },
  {
   "cell_type": "markdown",
   "id": "bf0ace1e",
   "metadata": {},
   "source": [
    "1. Code that loads the needed libraries and dataset."
   ]
  },
  {
   "cell_type": "code",
   "execution_count": 1,
   "id": "ebfb9f8e",
   "metadata": {},
   "outputs": [],
   "source": [
    "# Please write your executable code here\n",
    "import pandas as pd\n",
    "import numpy as np\n",
    "\n",
    "df = pd.read_excel(\"data_NLSY97.xlsx\", index_col=0)"
   ]
  },
  {
   "cell_type": "markdown",
   "id": "cba2c19e",
   "metadata": {},
   "source": [
    "2. Code that displays the dataset variables names and types and display first 10 rows."
   ]
  },
  {
   "cell_type": "code",
   "execution_count": 2,
   "id": "849260b1",
   "metadata": {},
   "outputs": [
    {
     "name": "stdout",
     "output_type": "stream",
     "text": [
      "['educ', 'gpa_grade_8', 'retention', 'annual_income', 'total_weeks_exper', 'black', 'hispanic', 'white', 'mother_educ', 'minority', 'gender']\n"
     ]
    },
    {
     "data": {
      "text/html": [
       "<div>\n",
       "<style scoped>\n",
       "    .dataframe tbody tr th:only-of-type {\n",
       "        vertical-align: middle;\n",
       "    }\n",
       "\n",
       "    .dataframe tbody tr th {\n",
       "        vertical-align: top;\n",
       "    }\n",
       "\n",
       "    .dataframe thead th {\n",
       "        text-align: right;\n",
       "    }\n",
       "</style>\n",
       "<table border=\"1\" class=\"dataframe\">\n",
       "  <thead>\n",
       "    <tr style=\"text-align: right;\">\n",
       "      <th></th>\n",
       "      <th>educ</th>\n",
       "      <th>gpa_grade_8</th>\n",
       "      <th>retention</th>\n",
       "      <th>annual_income</th>\n",
       "      <th>total_weeks_exper</th>\n",
       "      <th>black</th>\n",
       "      <th>hispanic</th>\n",
       "      <th>white</th>\n",
       "      <th>mother_educ</th>\n",
       "      <th>minority</th>\n",
       "      <th>gender</th>\n",
       "    </tr>\n",
       "    <tr>\n",
       "      <th>PUBID - YTH ID CODE 1997</th>\n",
       "      <th></th>\n",
       "      <th></th>\n",
       "      <th></th>\n",
       "      <th></th>\n",
       "      <th></th>\n",
       "      <th></th>\n",
       "      <th></th>\n",
       "      <th></th>\n",
       "      <th></th>\n",
       "      <th></th>\n",
       "      <th></th>\n",
       "    </tr>\n",
       "  </thead>\n",
       "  <tbody>\n",
       "    <tr>\n",
       "      <th>1</th>\n",
       "      <td>16.0</td>\n",
       "      <td>3.0</td>\n",
       "      <td>0.0</td>\n",
       "      <td>NaN</td>\n",
       "      <td>NaN</td>\n",
       "      <td>0.0</td>\n",
       "      <td>0.0</td>\n",
       "      <td>1.0</td>\n",
       "      <td>0.0</td>\n",
       "      <td>0.0</td>\n",
       "      <td>female</td>\n",
       "    </tr>\n",
       "    <tr>\n",
       "      <th>2</th>\n",
       "      <td>14.0</td>\n",
       "      <td>3.5</td>\n",
       "      <td>0.0</td>\n",
       "      <td>115000.0</td>\n",
       "      <td>965.0</td>\n",
       "      <td>0.0</td>\n",
       "      <td>1.0</td>\n",
       "      <td>0.0</td>\n",
       "      <td>0.0</td>\n",
       "      <td>1.0</td>\n",
       "      <td>male</td>\n",
       "    </tr>\n",
       "    <tr>\n",
       "      <th>3</th>\n",
       "      <td>14.0</td>\n",
       "      <td>3.0</td>\n",
       "      <td>0.0</td>\n",
       "      <td>NaN</td>\n",
       "      <td>776.0</td>\n",
       "      <td>0.0</td>\n",
       "      <td>1.0</td>\n",
       "      <td>0.0</td>\n",
       "      <td>0.0</td>\n",
       "      <td>1.0</td>\n",
       "      <td>female</td>\n",
       "    </tr>\n",
       "    <tr>\n",
       "      <th>4</th>\n",
       "      <td>12.0</td>\n",
       "      <td>4.0</td>\n",
       "      <td>0.0</td>\n",
       "      <td>45000.0</td>\n",
       "      <td>1008.0</td>\n",
       "      <td>0.0</td>\n",
       "      <td>1.0</td>\n",
       "      <td>0.0</td>\n",
       "      <td>0.0</td>\n",
       "      <td>1.0</td>\n",
       "      <td>female</td>\n",
       "    </tr>\n",
       "    <tr>\n",
       "      <th>5</th>\n",
       "      <td>12.0</td>\n",
       "      <td>2.5</td>\n",
       "      <td>0.0</td>\n",
       "      <td>150000.0</td>\n",
       "      <td>890.0</td>\n",
       "      <td>0.0</td>\n",
       "      <td>1.0</td>\n",
       "      <td>0.0</td>\n",
       "      <td>0.0</td>\n",
       "      <td>1.0</td>\n",
       "      <td>male</td>\n",
       "    </tr>\n",
       "    <tr>\n",
       "      <th>6</th>\n",
       "      <td>12.0</td>\n",
       "      <td>1.5</td>\n",
       "      <td>0.0</td>\n",
       "      <td>25000.0</td>\n",
       "      <td>791.0</td>\n",
       "      <td>0.0</td>\n",
       "      <td>1.0</td>\n",
       "      <td>0.0</td>\n",
       "      <td>0.0</td>\n",
       "      <td>1.0</td>\n",
       "      <td>female</td>\n",
       "    </tr>\n",
       "    <tr>\n",
       "      <th>7</th>\n",
       "      <td>11.0</td>\n",
       "      <td>2.0</td>\n",
       "      <td>0.0</td>\n",
       "      <td>NaN</td>\n",
       "      <td>192.0</td>\n",
       "      <td>0.0</td>\n",
       "      <td>1.0</td>\n",
       "      <td>0.0</td>\n",
       "      <td>0.0</td>\n",
       "      <td>1.0</td>\n",
       "      <td>male</td>\n",
       "    </tr>\n",
       "    <tr>\n",
       "      <th>8</th>\n",
       "      <td>16.0</td>\n",
       "      <td>4.0</td>\n",
       "      <td>0.0</td>\n",
       "      <td>70000.0</td>\n",
       "      <td>906.0</td>\n",
       "      <td>0.0</td>\n",
       "      <td>0.0</td>\n",
       "      <td>1.0</td>\n",
       "      <td>0.0</td>\n",
       "      <td>0.0</td>\n",
       "      <td>female</td>\n",
       "    </tr>\n",
       "    <tr>\n",
       "      <th>9</th>\n",
       "      <td>17.0</td>\n",
       "      <td>3.5</td>\n",
       "      <td>0.0</td>\n",
       "      <td>120000.0</td>\n",
       "      <td>883.0</td>\n",
       "      <td>0.0</td>\n",
       "      <td>0.0</td>\n",
       "      <td>1.0</td>\n",
       "      <td>0.0</td>\n",
       "      <td>0.0</td>\n",
       "      <td>male</td>\n",
       "    </tr>\n",
       "    <tr>\n",
       "      <th>10</th>\n",
       "      <td>16.0</td>\n",
       "      <td>4.0</td>\n",
       "      <td>0.0</td>\n",
       "      <td>135000.0</td>\n",
       "      <td>680.0</td>\n",
       "      <td>0.0</td>\n",
       "      <td>0.0</td>\n",
       "      <td>1.0</td>\n",
       "      <td>0.0</td>\n",
       "      <td>0.0</td>\n",
       "      <td>male</td>\n",
       "    </tr>\n",
       "  </tbody>\n",
       "</table>\n",
       "</div>"
      ],
      "text/plain": [
       "                          educ  gpa_grade_8  retention  annual_income  \\\n",
       "PUBID - YTH ID CODE 1997                                                \n",
       "1                         16.0          3.0        0.0            NaN   \n",
       "2                         14.0          3.5        0.0       115000.0   \n",
       "3                         14.0          3.0        0.0            NaN   \n",
       "4                         12.0          4.0        0.0        45000.0   \n",
       "5                         12.0          2.5        0.0       150000.0   \n",
       "6                         12.0          1.5        0.0        25000.0   \n",
       "7                         11.0          2.0        0.0            NaN   \n",
       "8                         16.0          4.0        0.0        70000.0   \n",
       "9                         17.0          3.5        0.0       120000.0   \n",
       "10                        16.0          4.0        0.0       135000.0   \n",
       "\n",
       "                          total_weeks_exper  black  hispanic  white  \\\n",
       "PUBID - YTH ID CODE 1997                                              \n",
       "1                                       NaN    0.0       0.0    1.0   \n",
       "2                                     965.0    0.0       1.0    0.0   \n",
       "3                                     776.0    0.0       1.0    0.0   \n",
       "4                                    1008.0    0.0       1.0    0.0   \n",
       "5                                     890.0    0.0       1.0    0.0   \n",
       "6                                     791.0    0.0       1.0    0.0   \n",
       "7                                     192.0    0.0       1.0    0.0   \n",
       "8                                     906.0    0.0       0.0    1.0   \n",
       "9                                     883.0    0.0       0.0    1.0   \n",
       "10                                    680.0    0.0       0.0    1.0   \n",
       "\n",
       "                          mother_educ  minority  gender  \n",
       "PUBID - YTH ID CODE 1997                                 \n",
       "1                                 0.0       0.0  female  \n",
       "2                                 0.0       1.0    male  \n",
       "3                                 0.0       1.0  female  \n",
       "4                                 0.0       1.0  female  \n",
       "5                                 0.0       1.0    male  \n",
       "6                                 0.0       1.0  female  \n",
       "7                                 0.0       1.0    male  \n",
       "8                                 0.0       0.0  female  \n",
       "9                                 0.0       0.0    male  \n",
       "10                                0.0       0.0    male  "
      ]
     },
     "execution_count": 2,
     "metadata": {},
     "output_type": "execute_result"
    }
   ],
   "source": [
    "# Please write your executable code here\n",
    "# print all columns. Source - https://stackoverflow.com/questions/49188960/how-to-show-all-columns-names-on-a-large-pandas-dataframe\n",
    "print(df.columns.tolist())\n",
    "# Print first 10 rows - I am not using print because the display is not as neat and goes to new line.\n",
    "df[0:10]"
   ]
  },
  {
   "cell_type": "markdown",
   "id": "0ac8e3b6",
   "metadata": {},
   "source": [
    "3. Provide a summary, descriptive statistics, of the dataset. "
   ]
  },
  {
   "cell_type": "code",
   "execution_count": 3,
   "id": "36fce324",
   "metadata": {},
   "outputs": [
    {
     "name": "stdout",
     "output_type": "stream",
     "text": [
      "              educ  gpa_grade_8    retention  annual_income  \\\n",
      "count  8151.000000  8601.000000  8969.000000    5201.000000   \n",
      "mean     13.031162     2.803511     0.059204   62888.006729   \n",
      "std       2.589030     0.848489     0.236019   59616.290306   \n",
      "min       5.000000     0.500000     0.000000       0.000000   \n",
      "25%      12.000000     2.000000     0.000000   30000.000000   \n",
      "50%      12.000000     3.000000     0.000000   50000.000000   \n",
      "75%      15.000000     3.500000     0.000000   79000.000000   \n",
      "max      20.000000     4.000000     1.000000  380288.000000   \n",
      "\n",
      "       total_weeks_exper        black     hispanic        white  mother_educ  \\\n",
      "count        8030.000000  8649.000000  8649.000000  8649.000000  8290.000000   \n",
      "mean          668.770984     0.269973     0.219794     0.510232     0.169240   \n",
      "std           323.591953     0.443971     0.414131     0.499924     0.374986   \n",
      "min             0.000000     0.000000     0.000000     0.000000     0.000000   \n",
      "25%           443.250000     0.000000     0.000000     0.000000     0.000000   \n",
      "50%           771.000000     0.000000     0.000000     1.000000     0.000000   \n",
      "75%           924.000000     1.000000     0.000000     1.000000     0.000000   \n",
      "max          1180.000000     1.000000     1.000000     1.000000     1.000000   \n",
      "\n",
      "          minority  \n",
      "count  8649.000000  \n",
      "mean      0.489768  \n",
      "std       0.499924  \n",
      "min       0.000000  \n",
      "25%       0.000000  \n",
      "50%       0.000000  \n",
      "75%       1.000000  \n",
      "max       1.000000  \n"
     ]
    }
   ],
   "source": [
    "# Please write your executable code here\n",
    "\n",
    "# we can remove print for a neater view.\n",
    "print(df.describe())"
   ]
  },
  {
   "cell_type": "markdown",
   "id": "867a2a10",
   "metadata": {},
   "source": [
    "### Exercise 2: Data Cleaning"
   ]
  },
  {
   "cell_type": "markdown",
   "id": "20ca77b6",
   "metadata": {},
   "source": [
    "- Check for string variables."
   ]
  },
  {
   "cell_type": "markdown",
   "id": "f0dfb6f8",
   "metadata": {},
   "source": [
    "2. Convert strings variables into integer ones (you will need to create a new variable)"
   ]
  },
  {
   "cell_type": "code",
   "execution_count": 4,
   "id": "1912137b",
   "metadata": {},
   "outputs": [
    {
     "name": "stdout",
     "output_type": "stream",
     "text": [
      "String columns: Index(['gender'], dtype='object')\n"
     ]
    }
   ],
   "source": [
    "# Please write your executable code here\n",
    "\n",
    "# I used a pandas function to find which columns are strings.\n",
    "# this function returns columns of Object type.\n",
    "# In our case strings are the only objects in the data.\n",
    "# Source - https://saturncloud.io/blog/how-to-check-pandas-dataframe-column-for-string-type/#using-the-select_dtypes-method\n",
    "string_columns = df.select_dtypes(include=['object']).columns\n",
    "print(f\"String columns: {string_columns}\")\n",
    "\n",
    "# gender is the only string variable\n",
    "df['gender_as_a_number'] = df['gender'].map({'female': 0, 'male': 1})"
   ]
  },
  {
   "cell_type": "markdown",
   "id": "9b46d86b",
   "metadata": {},
   "source": [
    "### Exercise 3: Create New Variables"
   ]
  },
  {
   "cell_type": "markdown",
   "id": "d527b64d",
   "metadata": {},
   "source": [
    "- Create a new variable named `male` (using the variable gender) that takes value 1 if the individual is a male, 0 otherwise.\n",
    "- Create a new variable named `college` that takes value 1 if the individual completed at least 13 years of education, 0 otherwise"
   ]
  },
  {
   "cell_type": "markdown",
   "id": "2c924dc1",
   "metadata": {},
   "source": [
    "1. Code that creates `male` variable"
   ]
  },
  {
   "cell_type": "code",
   "execution_count": 5,
   "id": "6db955c3",
   "metadata": {},
   "outputs": [],
   "source": [
    "# Please write your executable code here\n",
    "\n",
    "# takes value 1 if the individual is a male, 0 otherwise (same as what I did in the last cell)\n",
    "df['male'] = df['gender'].map({'female': 0, 'male': 1})"
   ]
  },
  {
   "cell_type": "markdown",
   "id": "a73ae72f",
   "metadata": {},
   "source": [
    "2. Code that creates `college` variable"
   ]
  },
  {
   "cell_type": "code",
   "execution_count": 6,
   "id": "94f5dabe",
   "metadata": {},
   "outputs": [
    {
     "data": {
      "text/html": [
       "<div>\n",
       "<style scoped>\n",
       "    .dataframe tbody tr th:only-of-type {\n",
       "        vertical-align: middle;\n",
       "    }\n",
       "\n",
       "    .dataframe tbody tr th {\n",
       "        vertical-align: top;\n",
       "    }\n",
       "\n",
       "    .dataframe thead th {\n",
       "        text-align: right;\n",
       "    }\n",
       "</style>\n",
       "<table border=\"1\" class=\"dataframe\">\n",
       "  <thead>\n",
       "    <tr style=\"text-align: right;\">\n",
       "      <th></th>\n",
       "      <th>educ</th>\n",
       "      <th>gpa_grade_8</th>\n",
       "      <th>retention</th>\n",
       "      <th>annual_income</th>\n",
       "      <th>total_weeks_exper</th>\n",
       "      <th>black</th>\n",
       "      <th>hispanic</th>\n",
       "      <th>white</th>\n",
       "      <th>mother_educ</th>\n",
       "      <th>minority</th>\n",
       "      <th>gender</th>\n",
       "      <th>gender_as_a_number</th>\n",
       "      <th>male</th>\n",
       "      <th>college</th>\n",
       "    </tr>\n",
       "    <tr>\n",
       "      <th>PUBID - YTH ID CODE 1997</th>\n",
       "      <th></th>\n",
       "      <th></th>\n",
       "      <th></th>\n",
       "      <th></th>\n",
       "      <th></th>\n",
       "      <th></th>\n",
       "      <th></th>\n",
       "      <th></th>\n",
       "      <th></th>\n",
       "      <th></th>\n",
       "      <th></th>\n",
       "      <th></th>\n",
       "      <th></th>\n",
       "      <th></th>\n",
       "    </tr>\n",
       "  </thead>\n",
       "  <tbody>\n",
       "    <tr>\n",
       "      <th>1</th>\n",
       "      <td>16.0</td>\n",
       "      <td>3.0</td>\n",
       "      <td>0.0</td>\n",
       "      <td>NaN</td>\n",
       "      <td>NaN</td>\n",
       "      <td>0.0</td>\n",
       "      <td>0.0</td>\n",
       "      <td>1.0</td>\n",
       "      <td>0.0</td>\n",
       "      <td>0.0</td>\n",
       "      <td>female</td>\n",
       "      <td>0</td>\n",
       "      <td>0</td>\n",
       "      <td>1</td>\n",
       "    </tr>\n",
       "    <tr>\n",
       "      <th>2</th>\n",
       "      <td>14.0</td>\n",
       "      <td>3.5</td>\n",
       "      <td>0.0</td>\n",
       "      <td>115000.0</td>\n",
       "      <td>965.0</td>\n",
       "      <td>0.0</td>\n",
       "      <td>1.0</td>\n",
       "      <td>0.0</td>\n",
       "      <td>0.0</td>\n",
       "      <td>1.0</td>\n",
       "      <td>male</td>\n",
       "      <td>1</td>\n",
       "      <td>1</td>\n",
       "      <td>1</td>\n",
       "    </tr>\n",
       "    <tr>\n",
       "      <th>3</th>\n",
       "      <td>14.0</td>\n",
       "      <td>3.0</td>\n",
       "      <td>0.0</td>\n",
       "      <td>NaN</td>\n",
       "      <td>776.0</td>\n",
       "      <td>0.0</td>\n",
       "      <td>1.0</td>\n",
       "      <td>0.0</td>\n",
       "      <td>0.0</td>\n",
       "      <td>1.0</td>\n",
       "      <td>female</td>\n",
       "      <td>0</td>\n",
       "      <td>0</td>\n",
       "      <td>1</td>\n",
       "    </tr>\n",
       "    <tr>\n",
       "      <th>4</th>\n",
       "      <td>12.0</td>\n",
       "      <td>4.0</td>\n",
       "      <td>0.0</td>\n",
       "      <td>45000.0</td>\n",
       "      <td>1008.0</td>\n",
       "      <td>0.0</td>\n",
       "      <td>1.0</td>\n",
       "      <td>0.0</td>\n",
       "      <td>0.0</td>\n",
       "      <td>1.0</td>\n",
       "      <td>female</td>\n",
       "      <td>0</td>\n",
       "      <td>0</td>\n",
       "      <td>0</td>\n",
       "    </tr>\n",
       "    <tr>\n",
       "      <th>5</th>\n",
       "      <td>12.0</td>\n",
       "      <td>2.5</td>\n",
       "      <td>0.0</td>\n",
       "      <td>150000.0</td>\n",
       "      <td>890.0</td>\n",
       "      <td>0.0</td>\n",
       "      <td>1.0</td>\n",
       "      <td>0.0</td>\n",
       "      <td>0.0</td>\n",
       "      <td>1.0</td>\n",
       "      <td>male</td>\n",
       "      <td>1</td>\n",
       "      <td>1</td>\n",
       "      <td>0</td>\n",
       "    </tr>\n",
       "    <tr>\n",
       "      <th>...</th>\n",
       "      <td>...</td>\n",
       "      <td>...</td>\n",
       "      <td>...</td>\n",
       "      <td>...</td>\n",
       "      <td>...</td>\n",
       "      <td>...</td>\n",
       "      <td>...</td>\n",
       "      <td>...</td>\n",
       "      <td>...</td>\n",
       "      <td>...</td>\n",
       "      <td>...</td>\n",
       "      <td>...</td>\n",
       "      <td>...</td>\n",
       "      <td>...</td>\n",
       "    </tr>\n",
       "    <tr>\n",
       "      <th>9018</th>\n",
       "      <td>8.0</td>\n",
       "      <td>2.0</td>\n",
       "      <td>0.0</td>\n",
       "      <td>90000.0</td>\n",
       "      <td>942.0</td>\n",
       "      <td>0.0</td>\n",
       "      <td>0.0</td>\n",
       "      <td>1.0</td>\n",
       "      <td>0.0</td>\n",
       "      <td>0.0</td>\n",
       "      <td>female</td>\n",
       "      <td>0</td>\n",
       "      <td>0</td>\n",
       "      <td>0</td>\n",
       "    </tr>\n",
       "    <tr>\n",
       "      <th>9019</th>\n",
       "      <td>13.0</td>\n",
       "      <td>1.5</td>\n",
       "      <td>1.0</td>\n",
       "      <td>43000.0</td>\n",
       "      <td>824.0</td>\n",
       "      <td>0.0</td>\n",
       "      <td>1.0</td>\n",
       "      <td>0.0</td>\n",
       "      <td>0.0</td>\n",
       "      <td>1.0</td>\n",
       "      <td>male</td>\n",
       "      <td>1</td>\n",
       "      <td>1</td>\n",
       "      <td>1</td>\n",
       "    </tr>\n",
       "    <tr>\n",
       "      <th>9020</th>\n",
       "      <td>14.0</td>\n",
       "      <td>3.5</td>\n",
       "      <td>0.0</td>\n",
       "      <td>NaN</td>\n",
       "      <td>494.0</td>\n",
       "      <td>0.0</td>\n",
       "      <td>0.0</td>\n",
       "      <td>1.0</td>\n",
       "      <td>0.0</td>\n",
       "      <td>0.0</td>\n",
       "      <td>male</td>\n",
       "      <td>1</td>\n",
       "      <td>1</td>\n",
       "      <td>1</td>\n",
       "    </tr>\n",
       "    <tr>\n",
       "      <th>9021</th>\n",
       "      <td>13.0</td>\n",
       "      <td>1.5</td>\n",
       "      <td>0.0</td>\n",
       "      <td>47000.0</td>\n",
       "      <td>965.0</td>\n",
       "      <td>0.0</td>\n",
       "      <td>0.0</td>\n",
       "      <td>1.0</td>\n",
       "      <td>0.0</td>\n",
       "      <td>0.0</td>\n",
       "      <td>male</td>\n",
       "      <td>1</td>\n",
       "      <td>1</td>\n",
       "      <td>1</td>\n",
       "    </tr>\n",
       "    <tr>\n",
       "      <th>9022</th>\n",
       "      <td>16.0</td>\n",
       "      <td>2.0</td>\n",
       "      <td>0.0</td>\n",
       "      <td>60000.0</td>\n",
       "      <td>1009.0</td>\n",
       "      <td>0.0</td>\n",
       "      <td>0.0</td>\n",
       "      <td>1.0</td>\n",
       "      <td>0.0</td>\n",
       "      <td>0.0</td>\n",
       "      <td>female</td>\n",
       "      <td>0</td>\n",
       "      <td>0</td>\n",
       "      <td>1</td>\n",
       "    </tr>\n",
       "  </tbody>\n",
       "</table>\n",
       "<p>8984 rows × 14 columns</p>\n",
       "</div>"
      ],
      "text/plain": [
       "                          educ  gpa_grade_8  retention  annual_income  \\\n",
       "PUBID - YTH ID CODE 1997                                                \n",
       "1                         16.0          3.0        0.0            NaN   \n",
       "2                         14.0          3.5        0.0       115000.0   \n",
       "3                         14.0          3.0        0.0            NaN   \n",
       "4                         12.0          4.0        0.0        45000.0   \n",
       "5                         12.0          2.5        0.0       150000.0   \n",
       "...                        ...          ...        ...            ...   \n",
       "9018                       8.0          2.0        0.0        90000.0   \n",
       "9019                      13.0          1.5        1.0        43000.0   \n",
       "9020                      14.0          3.5        0.0            NaN   \n",
       "9021                      13.0          1.5        0.0        47000.0   \n",
       "9022                      16.0          2.0        0.0        60000.0   \n",
       "\n",
       "                          total_weeks_exper  black  hispanic  white  \\\n",
       "PUBID - YTH ID CODE 1997                                              \n",
       "1                                       NaN    0.0       0.0    1.0   \n",
       "2                                     965.0    0.0       1.0    0.0   \n",
       "3                                     776.0    0.0       1.0    0.0   \n",
       "4                                    1008.0    0.0       1.0    0.0   \n",
       "5                                     890.0    0.0       1.0    0.0   \n",
       "...                                     ...    ...       ...    ...   \n",
       "9018                                  942.0    0.0       0.0    1.0   \n",
       "9019                                  824.0    0.0       1.0    0.0   \n",
       "9020                                  494.0    0.0       0.0    1.0   \n",
       "9021                                  965.0    0.0       0.0    1.0   \n",
       "9022                                 1009.0    0.0       0.0    1.0   \n",
       "\n",
       "                          mother_educ  minority  gender  gender_as_a_number  \\\n",
       "PUBID - YTH ID CODE 1997                                                      \n",
       "1                                 0.0       0.0  female                   0   \n",
       "2                                 0.0       1.0    male                   1   \n",
       "3                                 0.0       1.0  female                   0   \n",
       "4                                 0.0       1.0  female                   0   \n",
       "5                                 0.0       1.0    male                   1   \n",
       "...                               ...       ...     ...                 ...   \n",
       "9018                              0.0       0.0  female                   0   \n",
       "9019                              0.0       1.0    male                   1   \n",
       "9020                              0.0       0.0    male                   1   \n",
       "9021                              0.0       0.0    male                   1   \n",
       "9022                              0.0       0.0  female                   0   \n",
       "\n",
       "                          male  college  \n",
       "PUBID - YTH ID CODE 1997                 \n",
       "1                            0        1  \n",
       "2                            1        1  \n",
       "3                            0        1  \n",
       "4                            0        0  \n",
       "5                            1        0  \n",
       "...                        ...      ...  \n",
       "9018                         0        0  \n",
       "9019                         1        1  \n",
       "9020                         1        1  \n",
       "9021                         1        1  \n",
       "9022                         0        1  \n",
       "\n",
       "[8984 rows x 14 columns]"
      ]
     },
     "execution_count": 6,
     "metadata": {},
     "output_type": "execute_result"
    }
   ],
   "source": [
    "# Please write your executable code here\n",
    "def college(years):\n",
    "    return (1 if years >= 13 else 0)\n",
    "\n",
    "# takes value 1 if the individual completed at least 13 years of education, 0 otherwise\n",
    "df['college'] = df['educ'].apply(college)\n",
    "df"
   ]
  },
  {
   "cell_type": "markdown",
   "id": "e18c2488",
   "metadata": {},
   "source": [
    "### Exercise 4: Perform a Univariate Regression Analysis"
   ]
  },
  {
   "cell_type": "markdown",
   "id": "eb530288",
   "metadata": {},
   "source": [
    "- Using statsmodels, perform a univariate regression analysis with annual income as the dependent variable and educ as the independent variable.\n",
    "- Print the summary of the regression model."
   ]
  },
  {
   "cell_type": "markdown",
   "id": "79bbc957",
   "metadata": {},
   "source": [
    "1. Code for fitting the regression model."
   ]
  },
  {
   "cell_type": "code",
   "execution_count": 7,
   "id": "ffa3ecb5",
   "metadata": {},
   "outputs": [],
   "source": [
    "# Please write your executable code here\n",
    "import statsmodels.api as sm\n",
    "import statsmodels.formula.api as smf\n",
    "\n",
    "# run simple linear regression\n",
    "results = smf.ols('annual_income ~ educ', data=df).fit()"
   ]
  },
  {
   "cell_type": "markdown",
   "id": "904f5f29",
   "metadata": {},
   "source": [
    "2. Output of the regression model summary."
   ]
  },
  {
   "cell_type": "code",
   "execution_count": 8,
   "id": "cdcb5d61-3f31-4cfd-b354-235326ce05e6",
   "metadata": {},
   "outputs": [
    {
     "name": "stdout",
     "output_type": "stream",
     "text": [
      "                            OLS Regression Results                            \n",
      "==============================================================================\n",
      "Dep. Variable:          annual_income   R-squared:                       0.116\n",
      "Model:                            OLS   Adj. R-squared:                  0.116\n",
      "Method:                 Least Squares   F-statistic:                     662.0\n",
      "Date:                Sun, 06 Oct 2024   Prob (F-statistic):          2.74e-137\n",
      "Time:                        22:59:56   Log-Likelihood:                -62448.\n",
      "No. Observations:                5054   AIC:                         1.249e+05\n",
      "Df Residuals:                    5052   BIC:                         1.249e+05\n",
      "Df Model:                           1                                         \n",
      "Covariance Type:            nonrobust                                         \n",
      "==============================================================================\n",
      "                 coef    std err          t      P>|t|      [0.025      0.975]\n",
      "------------------------------------------------------------------------------\n",
      "Intercept  -4.549e+04   4288.417    -10.607      0.000   -5.39e+04   -3.71e+04\n",
      "educ        8087.5882    314.337     25.729      0.000    7471.352    8703.825\n",
      "==============================================================================\n",
      "Omnibus:                     3441.420   Durbin-Watson:                   1.869\n",
      "Prob(Omnibus):                  0.000   Jarque-Bera (JB):            49424.818\n",
      "Skew:                           3.131   Prob(JB):                         0.00\n",
      "Kurtosis:                      16.982   Cond. No.                         74.3\n",
      "==============================================================================\n",
      "\n",
      "Notes:\n",
      "[1] Standard Errors assume that the covariance matrix of the errors is correctly specified.\n"
     ]
    }
   ],
   "source": [
    "print(results.summary())"
   ]
  },
  {
   "cell_type": "markdown",
   "id": "ace10189",
   "metadata": {},
   "source": [
    "### Exercise 5: Interpret the Regression Output"
   ]
  },
  {
   "cell_type": "markdown",
   "id": "a01a7699",
   "metadata": {},
   "source": [
    "- Based on the regression output from Exercise 4, answer the following:\n",
    "    - Interpret the coefficient corresponding to the constant; why does it not make sense?\n",
    "    - Interpret the coefficient for educ\n",
    "    - What is the R-squared value, and what does it tell you about the model?\n",
    "    - Is the relationship between annual income and educ statistically significant?"
   ]
  },
  {
   "cell_type": "markdown",
   "id": "7382d4e0",
   "metadata": {},
   "source": [
    "1. Interpretation of the coefficients."
   ]
  },
  {
   "cell_type": "raw",
   "id": "c55244d7",
   "metadata": {},
   "source": [
    "Please write your explanation here.\n",
    "\n",
    "The interpretation of the intercept in this context suggests that an individual with zero years of education would have an annual income of -$45,490. This does not make sense because someone with zero years of education can still make money and even if they make no money, a negative income does not mean anything.\n",
    "\n",
    "The coefficient for educ is 8087.5882. This means that for each additional year of education, the annual income is expected to increase by approximately $8,087.59, holding all other factors constant."
   ]
  },
  {
   "cell_type": "markdown",
   "id": "6c9ed2c3",
   "metadata": {},
   "source": [
    "2. Explanation of the R-squared value."
   ]
  },
  {
   "cell_type": "raw",
   "id": "2b4b1e78",
   "metadata": {},
   "source": [
    "Please write your explanation here.\n",
    "\n",
    "The R-squared value is 0.116. This indicates that approximately 11.6% of the variance in annual income can be explained by this model."
   ]
  },
  {
   "cell_type": "markdown",
   "id": "91bf1f19",
   "metadata": {},
   "source": [
    "3. Discussion on the statistical significance of the relationship between annual_income and educ."
   ]
  },
  {
   "cell_type": "raw",
   "id": "1cd8c0cc",
   "metadata": {},
   "source": [
    "Please write your explanation here.\n",
    "\n",
    "These p-values equal to zero for both intercept and educ indicate that both coefficients are statistically significant. This means that we can say that education is a significant predictor of annual income."
   ]
  },
  {
   "cell_type": "markdown",
   "id": "2043c158",
   "metadata": {},
   "source": [
    "4. Create the residual plot for this regression. And discuss on patterns of the plot. Any issue you observe. (Optional question)"
   ]
  },
  {
   "cell_type": "code",
   "execution_count": 9,
   "id": "abb1da0b",
   "metadata": {},
   "outputs": [],
   "source": [
    "# Please write your executable code here\n",
    "\n",
    "# OPTIONAL LEFT BLANK"
   ]
  },
  {
   "cell_type": "raw",
   "id": "dcf942b9",
   "metadata": {},
   "source": [
    "Please write your discussion here.\n",
    "\n",
    "OPTIONAL LEFT BLANK"
   ]
  },
  {
   "cell_type": "markdown",
   "id": "13cf8e81",
   "metadata": {},
   "source": [
    "### Exercise 6: Perform a Univariate Regression Analysis"
   ]
  },
  {
   "cell_type": "markdown",
   "id": "94814af6",
   "metadata": {},
   "source": [
    "- Now, perform a univariate regression analysis with educ as the dependent variable and male as the independent variable.\n",
    "- Print the summary of the regression model.\n",
    "- Interpret the results (i.e., coefficients, statistical significance, and R-squared)\n",
    "- Perform another univariate regression analysis with annual income as the dependent variable and male as the independent variable.\n",
    "- Print the summary of the regression model.\n",
    "- Interpret the results (i.e., coefficients, statistical significance, and R-squared)\n",
    "\n",
    "_Hints_: the variable male has a value of either 0 or 1. The \"one unit increase in x\" argument becomes much easier: \"if you change x from 0 to 1, what happens to y?\" "
   ]
  },
  {
   "cell_type": "markdown",
   "id": "4a1d2288",
   "metadata": {},
   "source": [
    "1. Code for fitting the regression model (educ ~ male)."
   ]
  },
  {
   "cell_type": "code",
   "execution_count": 10,
   "id": "78a56325",
   "metadata": {},
   "outputs": [],
   "source": [
    "# Please write your executable code here\n",
    "\n",
    "# run simple linear regression\n",
    "results = smf.ols('educ ~ male', data=df).fit()"
   ]
  },
  {
   "cell_type": "markdown",
   "id": "4541e3ce",
   "metadata": {},
   "source": [
    "2. Output of the regression model summary (educ ~ male)."
   ]
  },
  {
   "cell_type": "code",
   "execution_count": 11,
   "id": "d2cbccf6-de54-469d-9773-a223b5a18a55",
   "metadata": {},
   "outputs": [
    {
     "name": "stdout",
     "output_type": "stream",
     "text": [
      "                            OLS Regression Results                            \n",
      "==============================================================================\n",
      "Dep. Variable:                   educ   R-squared:                       0.014\n",
      "Model:                            OLS   Adj. R-squared:                  0.014\n",
      "Method:                 Least Squares   F-statistic:                     116.1\n",
      "Date:                Sun, 06 Oct 2024   Prob (F-statistic):           6.72e-27\n",
      "Time:                        22:59:56   Log-Likelihood:                -19262.\n",
      "No. Observations:                8151   AIC:                         3.853e+04\n",
      "Df Residuals:                    8149   BIC:                         3.854e+04\n",
      "Df Model:                           1                                         \n",
      "Covariance Type:            nonrobust                                         \n",
      "==============================================================================\n",
      "                 coef    std err          t      P>|t|      [0.025      0.975]\n",
      "------------------------------------------------------------------------------\n",
      "Intercept     13.3441      0.041    328.104      0.000      13.264      13.424\n",
      "male          -0.6139      0.057    -10.777      0.000      -0.726      -0.502\n",
      "==============================================================================\n",
      "Omnibus:                      226.356   Durbin-Watson:                   1.451\n",
      "Prob(Omnibus):                  0.000   Jarque-Bera (JB):              110.841\n",
      "Skew:                          -0.016   Prob(JB):                     8.54e-25\n",
      "Kurtosis:                       2.430   Cond. No.                         2.64\n",
      "==============================================================================\n",
      "\n",
      "Notes:\n",
      "[1] Standard Errors assume that the covariance matrix of the errors is correctly specified.\n"
     ]
    }
   ],
   "source": [
    "print(results.summary())"
   ]
  },
  {
   "cell_type": "markdown",
   "id": "0df3d7b1",
   "metadata": {},
   "source": [
    "3. Interpretation of the results (educ ~ male)."
   ]
  },
  {
   "cell_type": "raw",
   "id": "a95e8b71",
   "metadata": {},
   "source": [
    "Please write your explanation here.\n",
    "\n",
    "The coefficient for the intercept is 13.3441. This indicates that the average number of years of education (educ) for an individual who is female (male = 0) is approximately 13.34 years. \n",
    "The coefficient for the male variable is -0.6139. This suggests that, on average, males have about 0.61 less years of education than females.\n",
    "\n",
    "These p-values equal to zero for both intercept and male indicate that both coefficients are statistically significant. This means that we can say that there is a difference in years of education based on gender.\n",
    "\n",
    "The R-squared value is 0.014. This indicates that about 1.4% of the variance in the years of education (educ) can be explained by this model."
   ]
  },
  {
   "cell_type": "markdown",
   "id": "3f8a3623",
   "metadata": {},
   "source": [
    "4. Code for fitting the regression model (annual income ~ male)."
   ]
  },
  {
   "cell_type": "code",
   "execution_count": 12,
   "id": "46bf7187",
   "metadata": {},
   "outputs": [],
   "source": [
    "# Please write your executable code here\n",
    "\n",
    "# run simple linear regression\n",
    "results = smf.ols('annual_income ~ male', data=df).fit()"
   ]
  },
  {
   "cell_type": "markdown",
   "id": "abe9d9c4",
   "metadata": {},
   "source": [
    "5. Output of the regression model summary (annual income ~ male)."
   ]
  },
  {
   "cell_type": "code",
   "execution_count": 13,
   "id": "47244c7a-56b5-4d15-86bb-d61e679ab66a",
   "metadata": {},
   "outputs": [
    {
     "name": "stdout",
     "output_type": "stream",
     "text": [
      "                            OLS Regression Results                            \n",
      "==============================================================================\n",
      "Dep. Variable:          annual_income   R-squared:                       0.027\n",
      "Model:                            OLS   Adj. R-squared:                  0.027\n",
      "Method:                 Least Squares   F-statistic:                     145.2\n",
      "Date:                Sun, 06 Oct 2024   Prob (F-statistic):           5.20e-33\n",
      "Time:                        22:59:56   Log-Likelihood:                -64496.\n",
      "No. Observations:                5201   AIC:                         1.290e+05\n",
      "Df Residuals:                    5199   BIC:                         1.290e+05\n",
      "Df Model:                           1                                         \n",
      "Covariance Type:            nonrobust                                         \n",
      "==============================================================================\n",
      "                 coef    std err          t      P>|t|      [0.025      0.975]\n",
      "------------------------------------------------------------------------------\n",
      "Intercept   5.296e+04   1159.095     45.691      0.000    5.07e+04    5.52e+04\n",
      "male        1.966e+04   1630.919     12.052      0.000    1.65e+04    2.29e+04\n",
      "==============================================================================\n",
      "Omnibus:                     3596.870   Durbin-Watson:                   1.806\n",
      "Prob(Omnibus):                  0.000   Jarque-Bera (JB):            51700.527\n",
      "Skew:                           3.204   Prob(JB):                         0.00\n",
      "Kurtosis:                      17.054   Cond. No.                         2.63\n",
      "==============================================================================\n",
      "\n",
      "Notes:\n",
      "[1] Standard Errors assume that the covariance matrix of the errors is correctly specified.\n"
     ]
    }
   ],
   "source": [
    "print(results.summary())"
   ]
  },
  {
   "cell_type": "markdown",
   "id": "7ea84e26",
   "metadata": {},
   "source": [
    "6. Interpretation of the results (annual income ~ male)."
   ]
  },
  {
   "cell_type": "raw",
   "id": "316bd0ed",
   "metadata": {},
   "source": [
    "Please write your explanation here.\n",
    "The coefficient for the intercept is 52,960. This suggests that the average annual income for females (male = 0) is approximately $52,960.\n",
    "The coefficient for the male variable is 19,660. This indicates that the average annual income of males is approximately $19,660 higher compared to females, holding all other factors constant.\n",
    "\n",
    "These p-values equal to zero for both intercept and male indicate that both coefficients are statistically significant. This means that we can say that there is a difference in annual income based on gender.\n",
    "\n",
    "The R-squared value is 0.027. This indicates that about 2.7% of the variance in annual income can be explained by this model."
   ]
  },
  {
   "cell_type": "code",
   "execution_count": null,
   "id": "f31def4d-1bae-4d4e-a843-c2ecc4fd9d70",
   "metadata": {},
   "outputs": [],
   "source": []
  }
 ],
 "metadata": {
  "kernelspec": {
   "display_name": "Python 3 (ipykernel)",
   "language": "python",
   "name": "python3"
  },
  "language_info": {
   "codemirror_mode": {
    "name": "ipython",
    "version": 3
   },
   "file_extension": ".py",
   "mimetype": "text/x-python",
   "name": "python",
   "nbconvert_exporter": "python",
   "pygments_lexer": "ipython3",
   "version": "3.10.14"
  }
 },
 "nbformat": 4,
 "nbformat_minor": 5
}
