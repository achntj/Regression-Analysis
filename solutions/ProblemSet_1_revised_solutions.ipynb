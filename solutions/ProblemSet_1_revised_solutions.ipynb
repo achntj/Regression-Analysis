{
 "cells": [
  {
   "cell_type": "markdown",
   "id": "92f7c6b6",
   "metadata": {},
   "source": [
    "# Problem Set 1: Explore, Visualize and Describe a Data Set (90 pts)\n",
    "### Summary and Motivation\n",
    "Problem Set 1 provides a comprehensive introduction to key statistical concepts and their application using Python. This problem set focuses on fundamental techniques such as variance, standard deviation, covariance, and correlation, and extends to hypothesis testing and data visualization. By working through these problems, students will gain practical experience in statistical analysis and data interpretation, essential skills for tackling real-world economic and business issues. This hands-on practice with Python not only reinforces theoretical knowledge but also enhances computational proficiency, preparing students for advanced data analytics tasks.\n",
    "### Instruction\n",
    "- Please follow below questions and instructions to complete this problem set. In some questions, please write and execute Python code for data analysis in Cell mode. Comment your code to explain each step. And use `Shift+Enter` to excute your code.\n",
    "- Some questions need text discussion. Please Provide a detailed discussion of your results, including interpretations and answers to questions in Raw mode.\n",
    "\n",
    "- Once you have completed the assignment, save your Jupyter notebook with the following naming convention: ECN394_ProblemSetX_LastName_FirstName.ipynb (replace X with the assignment number)."
   ]
  },
  {
   "cell_type": "markdown",
   "id": "473873f7",
   "metadata": {},
   "source": [
    "# Part 1: Statistical Concepts (42 pts, 2 pts per question)"
   ]
  },
  {
   "cell_type": "markdown",
   "id": "ea19565d",
   "metadata": {},
   "source": [
    "### Problem 1: Variance and Standard Deviation (10 pts, 2 pts per question)\n",
    "For problem 1.1 - 1.3, the intent is for students to manually calculate these numbers using the given equations and a calculator, rather than relying on code. You may put the number in the answer box directly. This hands-on approach ensures a deeper understanding of the statistical formulas before comparing them with the answers obtained in section 1.4. It's a valuable exercise in grasping the fundamentals.\n",
    "\n",
    "This principle applies to other questions, such as 2.1 and 2.2. When you see the comments, `# Please direclty put your number answer here`. it means calculate the numbers manually.\n",
    "\n",
    "\n",
    "- \n",
    "\n",
    "Questions 1 - 3 ask you to manually calculate sample statistics.  Do this on a piece of paper, scan or take a picture and upload with your python notebook. _You can submit multiple pages, if necessary._\n",
    "\n",
    "Consider a dataset sampled from a popluation\n",
    "\n",
    "[4, 8, 6, 5, 3]"
   ]
  },
  {
   "cell_type": "markdown",
   "id": "338468d0-533a-4e7a-acd0-d357eeef293f",
   "metadata": {},
   "source": [
    "a. Calculate the mean of the dataset.  Show your work.  _Turn in on a sheet of paper, label 1a_"
   ]
  },
  {
   "cell_type": "markdown",
   "id": "014935fd",
   "metadata": {},
   "source": [
    "b. Calculate the sample variance of the dataset. Show your work.  _Turn in on a sheet of paper, label 1b_\n"
   ]
  },
  {
   "cell_type": "markdown",
   "id": "04c4155b",
   "metadata": {},
   "source": [
    "c. Calculate sample the standard deviation of the dataset.  Show your work. _Turn in on a sheet of paper, label 1c_.\n"
   ]
  },
  {
   "cell_type": "markdown",
   "id": "f01f1234",
   "metadata": {},
   "source": [
    "d. Recompute the mean, sample variance, and sample standard deviation using Python, performing this task in two distinct ways:\n",
    "\n",
    "   (i) Manually code the calculations for mean, sample variance, and sample standard deviation to calculate these statistics. Ensure your code accurately reflects the mathematical definitions of these measures.\n"
   ]
  },
  {
   "cell_type": "code",
   "execution_count": 2,
   "id": "9860d6ec",
   "metadata": {},
   "outputs": [
    {
     "name": "stdout",
     "output_type": "stream",
     "text": [
      "mean\n",
      "5.2\n",
      "sample var\n",
      "3.7\n",
      "3.7\n",
      "sample std\n",
      "1.9235384061671346\n",
      "1.9235384061671346\n"
     ]
    }
   ],
   "source": [
    "# Please write your executable code below\n",
    "import numpy as np\n",
    "p1 = np.array([4, 8, 6, 5, 3])\n",
    "p1mean = p1.mean()\n",
    "print('mean')\n",
    "print(p1mean)\n",
    "print('sample var')\n",
    "var_man = ((4-p1mean)**2 + (8-p1mean)**2 + (6-p1mean)**2 + (5-p1mean)**2 + (3-p1mean)**2)/(len(p1) - 1)\n",
    "print(var_man)\n",
    "var_py = np.var(p1, ddof=1)\n",
    "print(var_py)\n",
    "print('sample std')\n",
    "print(var_man**0.5)\n",
    "std_py = np.std(p1, ddof=1)\n",
    "print(std_py)"
   ]
  },
  {
   "cell_type": "markdown",
   "id": "ce6dd624",
   "metadata": {},
   "source": [
    "   (ii) Utilize Python’s built-in functions or numpy or pandas to compute the mean, sample variance, and sample standard deviation. \n"
   ]
  },
  {
   "cell_type": "code",
   "execution_count": 6,
   "id": "401addba",
   "metadata": {},
   "outputs": [
    {
     "data": {
      "text/plain": [
       "3.7"
      ]
     },
     "execution_count": 6,
     "metadata": {},
     "output_type": "execute_result"
    }
   ],
   "source": [
    "# Please write your executable code below\n",
    "#See above\n",
    "np.var(p1, ddof=1)"
   ]
  },
  {
   "cell_type": "markdown",
   "id": "32a57247",
   "metadata": {},
   "source": [
    "### Problem 2: Covariance (8 pts, 2 pts per question)\n",
    "Given two datasets.\n",
    "\n",
    "X: 1, 2, 3, 4, 5\n",
    "\n",
    "Y: 2, 3, 5, 7, 11\n",
    "\n",
    "a. Calculate the sample mean of X and Y. Show your work.  Turn in on a separate piece of paper and label 2a.\n"
   ]
  },
  {
   "cell_type": "markdown",
   "id": "3e507f7e",
   "metadata": {},
   "source": [
    "b. Calculate the sample covariance between X and Y.  Show your work. Calculate on a separate piece of paper label 2b.\n"
   ]
  },
  {
   "cell_type": "markdown",
   "id": "d789307c",
   "metadata": {},
   "source": [
    "c. Recompute the mean of X and Y, and sample covariance using Python, performing this task in two distinct ways:\n",
    "\n",
    "   (i) Manually code the sample mean, and sample covariance formulas to calculate these statistics. Ensure your code accurately reflects the mathematical definitions of these measures.\n"
   ]
  },
  {
   "cell_type": "code",
   "execution_count": 3,
   "id": "15c9a014",
   "metadata": {},
   "outputs": [
    {
     "name": "stdout",
     "output_type": "stream",
     "text": [
      "mean x\n",
      "3.0\n",
      "mean y\n",
      "5.6\n"
     ]
    }
   ],
   "source": [
    "# Please write your executable code here\n",
    "xdat = np.array([1, 2, 3, 4, 5])\n",
    "ydat = np.array([2, 3, 5, 7, 11])\n",
    "print('mean x')\n",
    "mean_x = xdat.mean()\n",
    "mean_y = ydat.mean()\n",
    "print(mean_x)\n",
    "print('mean y')\n",
    "print(mean_y)"
   ]
  },
  {
   "cell_type": "markdown",
   "id": "1bfcaefb",
   "metadata": {},
   "source": [
    "   (ii) Utilize Python’s built-in functions or relevant libraries (e.g., NumPy) to compute the sample mean of X and Y and sample covariance. \n"
   ]
  },
  {
   "cell_type": "code",
   "execution_count": 4,
   "id": "2406527d",
   "metadata": {},
   "outputs": [],
   "source": [
    "# Please write your executable code here\n",
    "\n"
   ]
  },
  {
   "cell_type": "markdown",
   "id": "f3de37b9",
   "metadata": {},
   "source": [
    "### Problem 3: Correlation (4 pts, 2 pts per question)\n",
    "Using the datasets from Problem 2:\n",
    "\n",
    "a. Calculate the correlation coefficient between X and Y.  Do this manually and turn in on a separate piece of paper labeled 3a.\n"
   ]
  },
  {
   "cell_type": "markdown",
   "id": "fdd4c199",
   "metadata": {},
   "source": [
    "b. Utilize Python’s built-in functions or relevant libraries (e.g., NumPy) to compute the correlation.\n"
   ]
  },
  {
   "cell_type": "code",
   "execution_count": 5,
   "id": "e1f5b137",
   "metadata": {},
   "outputs": [],
   "source": [
    "# Please write your executable code here\n",
    "\n"
   ]
  },
  {
   "cell_type": "markdown",
   "id": "8153b4f3",
   "metadata": {},
   "source": [
    "### Problem 4: Properties of Variances and Covariances (2 pts)\n",
    "\n",
    "a. If X and Y are independent, what is Cov(X,Y)? Explain your reasoning.\n"
   ]
  },
  {
   "cell_type": "raw",
   "id": "ebf1234e",
   "metadata": {},
   "source": [
    "Please type your explanation here.\n",
    "\n"
   ]
  },
  {
   "cell_type": "markdown",
   "id": "1ec525d9",
   "metadata": {},
   "source": [
    "\n"
   ]
  },
  {
   "cell_type": "markdown",
   "id": "b3547915",
   "metadata": {},
   "source": [
    "### Problem 5: Standard Errors (4 pts)\n",
    "\n",
    "Suppose you have a sample of size n=50 with a sample mean of x̄ = 10 and a standard deviation of s = 2.\n",
    "\n",
    "a. Calculate the standard error of the sample mean.  Turn in on a separate sheet of paper and label 5a.\n"
   ]
  },
  {
   "cell_type": "markdown",
   "id": "a50d81fb",
   "metadata": {},
   "source": [
    "b. Recompute the standard error of the sample mean using Python.\n"
   ]
  },
  {
   "cell_type": "code",
   "execution_count": 11,
   "id": "b4734011",
   "metadata": {},
   "outputs": [
    {
     "name": "stdout",
     "output_type": "stream",
     "text": [
      "0.282842712474619\n"
     ]
    }
   ],
   "source": [
    "# Please write your executable code here\n",
    "s=2\n",
    "n=50\n",
    "se = s/np.sqrt(50)\n",
    "print(se)\n"
   ]
  },
  {
   "cell_type": "markdown",
   "id": "d2875872",
   "metadata": {},
   "source": [
    "### Problem 6: Application of Concepts (6 pts, 2 pts per question)\n",
    "\n",
    "a. If the variance of a dataset is 0, what can you say about the data?\n"
   ]
  },
  {
   "cell_type": "raw",
   "id": "e3ccc7d3",
   "metadata": {},
   "source": [
    "Please type your explanation below.\n",
    "All data is the same value and equivalent to the mean"
   ]
  },
  {
   "cell_type": "markdown",
   "id": "3f1d9020",
   "metadata": {},
   "source": [
    "\n"
   ]
  },
  {
   "cell_type": "markdown",
   "id": "e9af34fb",
   "metadata": {},
   "source": [
    "b.  A study shows a correlation coefficient of -0.8 between the amount of time spent studying and the number of errors made on a test. Interpret this result.\n"
   ]
  },
  {
   "cell_type": "raw",
   "id": "96e333b6",
   "metadata": {},
   "source": [
    "Please type your explanation here.\n",
    "As time spent studying increases, there is a decrease in the number of errers."
   ]
  },
  {
   "cell_type": "markdown",
   "id": "ec3b471a",
   "metadata": {},
   "source": [
    "c.  What is the intepretation of the standard error of sample mean?  Why is the standard error important to know?\n"
   ]
  },
  {
   "cell_type": "raw",
   "id": "3eb2a91f",
   "metadata": {},
   "source": [
    "Please type your explanation here.\n",
    "This is the standard deviation of the sample means we could expect if we took numerous samples of size n"
   ]
  },
  {
   "cell_type": "markdown",
   "id": "08d7178b",
   "metadata": {},
   "source": [
    "# Part 2: Data Visualization (21 pts, 3 pts per question)"
   ]
  },
  {
   "cell_type": "markdown",
   "id": "556ed576",
   "metadata": {},
   "source": [
    "In this problem, you will draw 3 plots. It is designed to help you apply the analytical skills you have acquired to examine the relationship between educational attainment, background characteristics and income across different group. The dataset data NLSY97.xlsx, available on CANVAS, contains all necessary information. These data are sourced from the NLSY97, a representative national database of individuals born in the early 1980s in the United States. Below are some variables we will use:\n",
    "- educ: number of years of education completed\n",
    "- annual_income: Annual income from wages\n",
    "- gender: denotes the gender of the individual\n",
    "- minority: 1 if the individual belongs to a minority group, 0 otherwise.\n",
    "- mother_educ: 1 if the individual’s mother has a college degree, 0 otherwise.\n",
    "- gpa_grade_9: GPA in 8th grade.\n",
    "- retention: 1 if the individual was required to repeat a grade during middle school, 0 otherwise."
   ]
  },
  {
   "cell_type": "markdown",
   "id": "a23a4bad",
   "metadata": {},
   "source": [
    "1. Load the data and needed libraries.  _Hint_ `pd.read_excel('data_NLSY97.xlsx')` to read the data"
   ]
  },
  {
   "cell_type": "code",
   "execution_count": 13,
   "id": "d86ad3e7",
   "metadata": {},
   "outputs": [],
   "source": [
    "# Please write your executatble code here\n",
    "import pandas as pd\n",
    "import matplotlib.pyplot as plt\n",
    "df = pd.read_excel('data_NLSY97.xlsx')"
   ]
  },
  {
   "cell_type": "markdown",
   "id": "c57ec239",
   "metadata": {},
   "source": [
    "2. Create a histogram of annual nicome, `hourly_compensation`, and interpret the result"
   ]
  },
  {
   "cell_type": "code",
   "execution_count": 1,
   "id": "0fcdd3ff",
   "metadata": {},
   "outputs": [
    {
     "ename": "NameError",
     "evalue": "name 'plt' is not defined",
     "output_type": "error",
     "traceback": [
      "\u001b[0;31m---------------------------------------------------------------------------\u001b[0m",
      "\u001b[0;31mNameError\u001b[0m                                 Traceback (most recent call last)",
      "Cell \u001b[0;32mIn[1], line 2\u001b[0m\n\u001b[1;32m      1\u001b[0m \u001b[38;5;66;03m# Please write your executatble code here\u001b[39;00m\n\u001b[0;32m----> 2\u001b[0m fig, ax \u001b[38;5;241m=\u001b[39m \u001b[43mplt\u001b[49m\u001b[38;5;241m.\u001b[39msubplots() \n\u001b[1;32m      3\u001b[0m hist \u001b[38;5;241m=\u001b[39m df\u001b[38;5;241m.\u001b[39mhist(\u001b[38;5;124m'\u001b[39m\u001b[38;5;124mannual_income\u001b[39m\u001b[38;5;124m'\u001b[39m, ax\u001b[38;5;241m=\u001b[39max, bins\u001b[38;5;241m=\u001b[39m\u001b[38;5;241m10\u001b[39m)\n",
      "\u001b[0;31mNameError\u001b[0m: name 'plt' is not defined"
     ]
    }
   ],
   "source": [
    "# Please write your executatble code here\n",
    "fig, ax = plt.subplots() \n",
    "hist = df.hist('annual_income', ax=ax)"
   ]
  },
  {
   "cell_type": "raw",
   "id": "43767915",
   "metadata": {},
   "source": [
    "Type your interpretation of the histogram below\n"
   ]
  },
  {
   "cell_type": "markdown",
   "id": "fa357c48",
   "metadata": {},
   "source": [
    "3. Create boxplots of wages for males and females on the same axes.  "
   ]
  },
  {
   "cell_type": "code",
   "execution_count": null,
   "id": "29a8049a",
   "metadata": {},
   "outputs": [],
   "source": [
    "fig, ax = plt.subplot()\n",
    "hist = df.hist('annual_income', ax=ax)\n",
    "boxplot = df.boxplot(column='annual_income',  by='gender', ax=ax)\n",
    "scatter = df.plot.scatter(x='educ', y='annual_income', ax=ax)"
   ]
  },
  {
   "cell_type": "code",
   "execution_count": 20,
   "id": "24079d55",
   "metadata": {},
   "outputs": [
    {
     "data": {
      "text/plain": [
       "<Axes: title={'center': 'annual_income'}, xlabel='gender'>"
      ]
     },
     "execution_count": 20,
     "metadata": {},
     "output_type": "execute_result"
    },
    {
     "data": {
      "image/png": "[encoded data removed]",
      "text/plain": [
       "<Figure size 640x480 with 1 Axes>"
      ]
     },
     "metadata": {},
     "output_type": "display_data"
    }
   ],
   "source": [
    "# Please write your executatble code here\n",
    "fig2, ax2 = plt.subplots()\n",
    "df.boxplot(column='annual_income', by='gender', ax=ax2)"
   ]
  },
  {
   "cell_type": "code",
   "execution_count": null,
   "id": "9cd0ba56-c7fa-4706-941e-9bcfc0cada09",
   "metadata": {},
   "outputs": [],
   "source": []
  },
  {
   "cell_type": "raw",
   "id": "2bd80f05",
   "metadata": {},
   "source": [
    "Type your interpretation of the plot below\n",
    "- mean incomes are lower for femails \n",
    "- outliers are similar \n",
    "- there is more variation in male annual incomes "
   ]
  },
  {
   "cell_type": "markdown",
   "id": "6ddcf45e",
   "metadata": {},
   "source": [
    "4. Create a scatter plot with completed education years `educ` in the x-axis and wage `annual_income` in the y-axis. And interpret the result"
   ]
  },
  {
   "cell_type": "code",
   "execution_count": 21,
   "id": "f5284564",
   "metadata": {},
   "outputs": [
    {
     "data": {
      "text/plain": [
       "<Axes: xlabel='educ', ylabel='annual_income'>"
      ]
     },
     "execution_count": 21,
     "metadata": {},
     "output_type": "execute_result"
    },
    {
     "data": {
      "image/png": "[encoded data removed]",
      "text/plain": [
       "<Figure size 640x480 with 1 Axes>"
      ]
     },
     "metadata": {},
     "output_type": "display_data"
    }
   ],
   "source": [
    "# Please write your executatble code here\n",
    "fig3, ax3 = plt.subplots()\n",
    "df.plot.scatter(x='educ', y='annual_income', ax=ax3)"
   ]
  },
  {
   "cell_type": "raw",
   "id": "28fed366",
   "metadata": {},
   "source": [
    "Please type your interpretation of  the scatter plot here and what relationship you can see between education and wages"
   ]
  },
  {
   "cell_type": "raw",
   "id": "1b148d55",
   "metadata": {},
   "source": [
    "- there is a positive relationship between income and education, at lease until 18 years of education.  After that, incomes drop"
   ]
  }
 ],
 "metadata": {
  "kernelspec": {
   "display_name": "Python 3 (ipykernel)",
   "language": "python",
   "name": "python3"
  },
  "language_info": {
   "codemirror_mode": {
    "name": "ipython",
    "version": 3
   },
   "file_extension": ".py",
   "mimetype": "text/x-python",
   "name": "python",
   "nbconvert_exporter": "python",
   "pygments_lexer": "ipython3",
   "version": "3.10.14"
  }
 },
 "nbformat": 4,
 "nbformat_minor": 5
}
