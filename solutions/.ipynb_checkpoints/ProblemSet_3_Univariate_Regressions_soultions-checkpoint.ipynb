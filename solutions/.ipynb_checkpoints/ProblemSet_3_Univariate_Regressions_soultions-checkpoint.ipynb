{
 "cells": [
  {
   "cell_type": "markdown",
   "id": "5a58f1c5",
   "metadata": {},
   "source": [
    "# Problem Set 3: Univariate Regressions\n",
    "\n",
    "## 5 pts per question, 10 points out of 90 in total with 10 bonus points. \n",
    "\n",
    "### Summary and Motivation\n",
    "\n",
    "Problem Set 2 is designed to introduce students to the basics of regression analysis, a fundamental tool in data analytics and econometrics. By using the NLSY97 dataset, students will explore relationships between key variables such as education, gender, and hourly compensation. This problem set emphasizes practical experience with Python and the statsmodels library, reinforcing theoretical knowledge through hands-on data manipulation and analysis. By completing these exercises, students will gain a deeper understanding of univariate regression techniques, preparing them for more advanced multivariate analyses and real-world applications in economics and business.\n",
    "\n",
    "### Instruction\n",
    "The dataset data NLSY97.xlsx, available on CANVAS, contains all necessary information. These data are sourced from\n",
    "the NLSY97, a representative national database of individuals born in the early 1980s in the United States. Below are some variables we will use:\n",
    "- educ: number of years of education completed\n",
    "- gender: denotes the gender of the individual\n",
    "- minority: 1 if the individual belongs to a minority group, 0 otherwise.\n",
    "- mother_educ: 1 if the individual’s mother has a college degree, 0 otherwise.\n",
    "- annual_income: Annual income frome wages.\n",
    "- gpain8: GPA in 8th grade.\n",
    "- retention: 1 if the individual was required to repeat a grade during middle school, 0 otherwise.\n",
    "\n",
    "Please follow below questions and instructions to complete this problem set. In some questions, please write and execute Python code for data analysis in Cell mode. Comment your code to explain each step. Some questions need text discussion. Please Provide a detailed discussion of your results, including interpretations and answers to questions in Raw mode.\n",
    "\n",
    "Once you have completed the assignment, save your Jupyter notebook with the following naming convention: ECN394_ProblemSetX_LastName_FirstName.ipynb (replace X with the assignment number)."
   ]
  },
  {
   "cell_type": "markdown",
   "id": "dea6a1ba",
   "metadata": {},
   "source": [
    "### Exercise 1: Load and Explore the Dataset"
   ]
  },
  {
   "cell_type": "markdown",
   "id": "77a67b4e",
   "metadata": {},
   "source": [
    "- This is the same database we used for our previous problem set. Each row contains information for each individual in the sample. (check the previous problem set for the definition of the variables).\n",
    "- Load the needed libraries and dataset dataNLSY97.xlsx.\n",
    "- Display the first 10 rows of the dataset."
   ]
  },
  {
   "cell_type": "markdown",
   "id": "bf0ace1e",
   "metadata": {},
   "source": [
    "1. Code that loads the needed libraries and dataset."
   ]
  },
  {
   "cell_type": "code",
   "execution_count": 1,
   "id": "ebfb9f8e",
   "metadata": {},
   "outputs": [],
   "source": [
    "# Please write your executable code here\n",
    "import pandas as pd\n",
    "import numpy as np\n",
    "import matplotlib.pyplot as plt\n",
    "# import statsmodels\n",
    "import statsmodels.api as sm\n",
    "# import the module that allows us to use the formula notation\n",
    "import statsmodels.formula.api as smf\n",
    "df = pd.read_excel('data_NLSY97.xlsx')\n"
   ]
  },
  {
   "cell_type": "markdown",
   "id": "cba2c19e",
   "metadata": {},
   "source": [
    "2. Code that displays the dataset variables names and types and display first 10 rows."
   ]
  },
  {
   "cell_type": "code",
   "execution_count": 2,
   "id": "849260b1",
   "metadata": {},
   "outputs": [
    {
     "data": {
      "text/html": [
       "<div>\n",
       "<style scoped>\n",
       "    .dataframe tbody tr th:only-of-type {\n",
       "        vertical-align: middle;\n",
       "    }\n",
       "\n",
       "    .dataframe tbody tr th {\n",
       "        vertical-align: top;\n",
       "    }\n",
       "\n",
       "    .dataframe thead th {\n",
       "        text-align: right;\n",
       "    }\n",
       "</style>\n",
       "<table border=\"1\" class=\"dataframe\">\n",
       "  <thead>\n",
       "    <tr style=\"text-align: right;\">\n",
       "      <th></th>\n",
       "      <th>PUBID - YTH ID CODE 1997</th>\n",
       "      <th>educ</th>\n",
       "      <th>gpa_grade_8</th>\n",
       "      <th>retention</th>\n",
       "      <th>annual_income</th>\n",
       "      <th>total_weeks_exper</th>\n",
       "      <th>black</th>\n",
       "      <th>hispanic</th>\n",
       "      <th>white</th>\n",
       "      <th>mother_educ</th>\n",
       "      <th>minority</th>\n",
       "      <th>gender</th>\n",
       "    </tr>\n",
       "  </thead>\n",
       "  <tbody>\n",
       "    <tr>\n",
       "      <th>0</th>\n",
       "      <td>1</td>\n",
       "      <td>16.0</td>\n",
       "      <td>3.0</td>\n",
       "      <td>0.0</td>\n",
       "      <td>NaN</td>\n",
       "      <td>NaN</td>\n",
       "      <td>0.0</td>\n",
       "      <td>0.0</td>\n",
       "      <td>1.0</td>\n",
       "      <td>0.0</td>\n",
       "      <td>0.0</td>\n",
       "      <td>female</td>\n",
       "    </tr>\n",
       "    <tr>\n",
       "      <th>1</th>\n",
       "      <td>2</td>\n",
       "      <td>14.0</td>\n",
       "      <td>3.5</td>\n",
       "      <td>0.0</td>\n",
       "      <td>115000.0</td>\n",
       "      <td>965.0</td>\n",
       "      <td>0.0</td>\n",
       "      <td>1.0</td>\n",
       "      <td>0.0</td>\n",
       "      <td>0.0</td>\n",
       "      <td>1.0</td>\n",
       "      <td>male</td>\n",
       "    </tr>\n",
       "    <tr>\n",
       "      <th>2</th>\n",
       "      <td>3</td>\n",
       "      <td>14.0</td>\n",
       "      <td>3.0</td>\n",
       "      <td>0.0</td>\n",
       "      <td>NaN</td>\n",
       "      <td>776.0</td>\n",
       "      <td>0.0</td>\n",
       "      <td>1.0</td>\n",
       "      <td>0.0</td>\n",
       "      <td>0.0</td>\n",
       "      <td>1.0</td>\n",
       "      <td>female</td>\n",
       "    </tr>\n",
       "    <tr>\n",
       "      <th>3</th>\n",
       "      <td>4</td>\n",
       "      <td>12.0</td>\n",
       "      <td>4.0</td>\n",
       "      <td>0.0</td>\n",
       "      <td>45000.0</td>\n",
       "      <td>1008.0</td>\n",
       "      <td>0.0</td>\n",
       "      <td>1.0</td>\n",
       "      <td>0.0</td>\n",
       "      <td>0.0</td>\n",
       "      <td>1.0</td>\n",
       "      <td>female</td>\n",
       "    </tr>\n",
       "    <tr>\n",
       "      <th>4</th>\n",
       "      <td>5</td>\n",
       "      <td>12.0</td>\n",
       "      <td>2.5</td>\n",
       "      <td>0.0</td>\n",
       "      <td>150000.0</td>\n",
       "      <td>890.0</td>\n",
       "      <td>0.0</td>\n",
       "      <td>1.0</td>\n",
       "      <td>0.0</td>\n",
       "      <td>0.0</td>\n",
       "      <td>1.0</td>\n",
       "      <td>male</td>\n",
       "    </tr>\n",
       "  </tbody>\n",
       "</table>\n",
       "</div>"
      ],
      "text/plain": [
       "   PUBID - YTH ID CODE 1997  educ  gpa_grade_8  retention  annual_income  \\\n",
       "0                         1  16.0          3.0        0.0            NaN   \n",
       "1                         2  14.0          3.5        0.0       115000.0   \n",
       "2                         3  14.0          3.0        0.0            NaN   \n",
       "3                         4  12.0          4.0        0.0        45000.0   \n",
       "4                         5  12.0          2.5        0.0       150000.0   \n",
       "\n",
       "   total_weeks_exper  black  hispanic  white  mother_educ  minority  gender  \n",
       "0                NaN    0.0       0.0    1.0          0.0       0.0  female  \n",
       "1              965.0    0.0       1.0    0.0          0.0       1.0    male  \n",
       "2              776.0    0.0       1.0    0.0          0.0       1.0  female  \n",
       "3             1008.0    0.0       1.0    0.0          0.0       1.0  female  \n",
       "4              890.0    0.0       1.0    0.0          0.0       1.0    male  "
      ]
     },
     "execution_count": 2,
     "metadata": {},
     "output_type": "execute_result"
    }
   ],
   "source": [
    "# Please write your executable code here\n",
    "df.head()\n"
   ]
  },
  {
   "cell_type": "markdown",
   "id": "edbc2226",
   "metadata": {},
   "source": [
    "3. Print out information about the data set that shows how many values in each column an the data types"
   ]
  },
  {
   "cell_type": "code",
   "execution_count": 3,
   "id": "26ff4b0a",
   "metadata": {},
   "outputs": [
    {
     "name": "stdout",
     "output_type": "stream",
     "text": [
      "<class 'pandas.core.frame.DataFrame'>\n",
      "RangeIndex: 8984 entries, 0 to 8983\n",
      "Data columns (total 12 columns):\n",
      " #   Column                    Non-Null Count  Dtype  \n",
      "---  ------                    --------------  -----  \n",
      " 0   PUBID - YTH ID CODE 1997  8984 non-null   int64  \n",
      " 1   educ                      8151 non-null   float64\n",
      " 2   gpa_grade_8               8601 non-null   float64\n",
      " 3   retention                 8969 non-null   float64\n",
      " 4   annual_income             5201 non-null   float64\n",
      " 5   total_weeks_exper         8030 non-null   float64\n",
      " 6   black                     8649 non-null   float64\n",
      " 7   hispanic                  8649 non-null   float64\n",
      " 8   white                     8649 non-null   float64\n",
      " 9   mother_educ               8290 non-null   float64\n",
      " 10  minority                  8649 non-null   float64\n",
      " 11  gender                    8984 non-null   object \n",
      "dtypes: float64(10), int64(1), object(1)\n",
      "memory usage: 842.4+ KB\n"
     ]
    }
   ],
   "source": [
    "df.info()"
   ]
  },
  {
   "cell_type": "markdown",
   "id": "6d3cf371",
   "metadata": {},
   "source": [
    "4. Does everything look as expected?  `float64` are columns that include numbers with decimal points. `objects` are non-numeric data. `int` are integers, or numbers without decimal points.  Comment on what you see below. "
   ]
  },
  {
   "cell_type": "raw",
   "id": "ee3b29f7",
   "metadata": {},
   "source": [
    "Everything looks good.  Gender is non-numeric. annual_income has less values that others "
   ]
  },
  {
   "cell_type": "markdown",
   "id": "0ac8e3b6",
   "metadata": {},
   "source": [
    "5. Provide a summary, descriptive statistics, of the dataset. "
   ]
  },
  {
   "cell_type": "code",
   "execution_count": 4,
   "id": "36fce324",
   "metadata": {},
   "outputs": [
    {
     "data": {
      "text/html": [
       "<div>\n",
       "<style scoped>\n",
       "    .dataframe tbody tr th:only-of-type {\n",
       "        vertical-align: middle;\n",
       "    }\n",
       "\n",
       "    .dataframe tbody tr th {\n",
       "        vertical-align: top;\n",
       "    }\n",
       "\n",
       "    .dataframe thead th {\n",
       "        text-align: right;\n",
       "    }\n",
       "</style>\n",
       "<table border=\"1\" class=\"dataframe\">\n",
       "  <thead>\n",
       "    <tr style=\"text-align: right;\">\n",
       "      <th></th>\n",
       "      <th>PUBID - YTH ID CODE 1997</th>\n",
       "      <th>educ</th>\n",
       "      <th>gpa_grade_8</th>\n",
       "      <th>retention</th>\n",
       "      <th>annual_income</th>\n",
       "      <th>total_weeks_exper</th>\n",
       "      <th>black</th>\n",
       "      <th>hispanic</th>\n",
       "      <th>white</th>\n",
       "      <th>mother_educ</th>\n",
       "      <th>minority</th>\n",
       "    </tr>\n",
       "  </thead>\n",
       "  <tbody>\n",
       "    <tr>\n",
       "      <th>count</th>\n",
       "      <td>8984.000000</td>\n",
       "      <td>8151.000000</td>\n",
       "      <td>8601.000000</td>\n",
       "      <td>8969.000000</td>\n",
       "      <td>5201.000000</td>\n",
       "      <td>8030.000000</td>\n",
       "      <td>8649.000000</td>\n",
       "      <td>8649.000000</td>\n",
       "      <td>8649.000000</td>\n",
       "      <td>8290.000000</td>\n",
       "      <td>8649.000000</td>\n",
       "    </tr>\n",
       "    <tr>\n",
       "      <th>mean</th>\n",
       "      <td>4504.301759</td>\n",
       "      <td>13.031162</td>\n",
       "      <td>2.803511</td>\n",
       "      <td>0.059204</td>\n",
       "      <td>62888.006729</td>\n",
       "      <td>668.770984</td>\n",
       "      <td>0.269973</td>\n",
       "      <td>0.219794</td>\n",
       "      <td>0.510232</td>\n",
       "      <td>0.169240</td>\n",
       "      <td>0.489768</td>\n",
       "    </tr>\n",
       "    <tr>\n",
       "      <th>std</th>\n",
       "      <td>2603.135871</td>\n",
       "      <td>2.589030</td>\n",
       "      <td>0.848489</td>\n",
       "      <td>0.236019</td>\n",
       "      <td>59616.290306</td>\n",
       "      <td>323.591953</td>\n",
       "      <td>0.443971</td>\n",
       "      <td>0.414131</td>\n",
       "      <td>0.499924</td>\n",
       "      <td>0.374986</td>\n",
       "      <td>0.499924</td>\n",
       "    </tr>\n",
       "    <tr>\n",
       "      <th>min</th>\n",
       "      <td>1.000000</td>\n",
       "      <td>5.000000</td>\n",
       "      <td>0.500000</td>\n",
       "      <td>0.000000</td>\n",
       "      <td>0.000000</td>\n",
       "      <td>0.000000</td>\n",
       "      <td>0.000000</td>\n",
       "      <td>0.000000</td>\n",
       "      <td>0.000000</td>\n",
       "      <td>0.000000</td>\n",
       "      <td>0.000000</td>\n",
       "    </tr>\n",
       "    <tr>\n",
       "      <th>25%</th>\n",
       "      <td>2248.750000</td>\n",
       "      <td>12.000000</td>\n",
       "      <td>2.000000</td>\n",
       "      <td>0.000000</td>\n",
       "      <td>30000.000000</td>\n",
       "      <td>443.250000</td>\n",
       "      <td>0.000000</td>\n",
       "      <td>0.000000</td>\n",
       "      <td>0.000000</td>\n",
       "      <td>0.000000</td>\n",
       "      <td>0.000000</td>\n",
       "    </tr>\n",
       "    <tr>\n",
       "      <th>50%</th>\n",
       "      <td>4501.500000</td>\n",
       "      <td>12.000000</td>\n",
       "      <td>3.000000</td>\n",
       "      <td>0.000000</td>\n",
       "      <td>50000.000000</td>\n",
       "      <td>771.000000</td>\n",
       "      <td>0.000000</td>\n",
       "      <td>0.000000</td>\n",
       "      <td>1.000000</td>\n",
       "      <td>0.000000</td>\n",
       "      <td>0.000000</td>\n",
       "    </tr>\n",
       "    <tr>\n",
       "      <th>75%</th>\n",
       "      <td>6758.250000</td>\n",
       "      <td>15.000000</td>\n",
       "      <td>3.500000</td>\n",
       "      <td>0.000000</td>\n",
       "      <td>79000.000000</td>\n",
       "      <td>924.000000</td>\n",
       "      <td>1.000000</td>\n",
       "      <td>0.000000</td>\n",
       "      <td>1.000000</td>\n",
       "      <td>0.000000</td>\n",
       "      <td>1.000000</td>\n",
       "    </tr>\n",
       "    <tr>\n",
       "      <th>max</th>\n",
       "      <td>9022.000000</td>\n",
       "      <td>20.000000</td>\n",
       "      <td>4.000000</td>\n",
       "      <td>1.000000</td>\n",
       "      <td>380288.000000</td>\n",
       "      <td>1180.000000</td>\n",
       "      <td>1.000000</td>\n",
       "      <td>1.000000</td>\n",
       "      <td>1.000000</td>\n",
       "      <td>1.000000</td>\n",
       "      <td>1.000000</td>\n",
       "    </tr>\n",
       "  </tbody>\n",
       "</table>\n",
       "</div>"
      ],
      "text/plain": [
       "       PUBID - YTH ID CODE 1997         educ  gpa_grade_8    retention  \\\n",
       "count               8984.000000  8151.000000  8601.000000  8969.000000   \n",
       "mean                4504.301759    13.031162     2.803511     0.059204   \n",
       "std                 2603.135871     2.589030     0.848489     0.236019   \n",
       "min                    1.000000     5.000000     0.500000     0.000000   \n",
       "25%                 2248.750000    12.000000     2.000000     0.000000   \n",
       "50%                 4501.500000    12.000000     3.000000     0.000000   \n",
       "75%                 6758.250000    15.000000     3.500000     0.000000   \n",
       "max                 9022.000000    20.000000     4.000000     1.000000   \n",
       "\n",
       "       annual_income  total_weeks_exper        black     hispanic  \\\n",
       "count    5201.000000        8030.000000  8649.000000  8649.000000   \n",
       "mean    62888.006729         668.770984     0.269973     0.219794   \n",
       "std     59616.290306         323.591953     0.443971     0.414131   \n",
       "min         0.000000           0.000000     0.000000     0.000000   \n",
       "25%     30000.000000         443.250000     0.000000     0.000000   \n",
       "50%     50000.000000         771.000000     0.000000     0.000000   \n",
       "75%     79000.000000         924.000000     1.000000     0.000000   \n",
       "max    380288.000000        1180.000000     1.000000     1.000000   \n",
       "\n",
       "             white  mother_educ     minority  \n",
       "count  8649.000000  8290.000000  8649.000000  \n",
       "mean      0.510232     0.169240     0.489768  \n",
       "std       0.499924     0.374986     0.499924  \n",
       "min       0.000000     0.000000     0.000000  \n",
       "25%       0.000000     0.000000     0.000000  \n",
       "50%       1.000000     0.000000     0.000000  \n",
       "75%       1.000000     0.000000     1.000000  \n",
       "max       1.000000     1.000000     1.000000  "
      ]
     },
     "execution_count": 4,
     "metadata": {},
     "output_type": "execute_result"
    }
   ],
   "source": [
    "# Please write your executable code here\n",
    "df.describe()"
   ]
  },
  {
   "cell_type": "markdown",
   "id": "9b46d86b",
   "metadata": {},
   "source": [
    "### Exercise 2: Create New Variables"
   ]
  },
  {
   "cell_type": "markdown",
   "id": "2c924dc1",
   "metadata": {},
   "source": [
    "6. Create a new variable named `male` (using the variable gender) that takes value 1 if the individual is a male, 0 otherwise."
   ]
  },
  {
   "cell_type": "code",
   "execution_count": 5,
   "id": "6db955c3",
   "metadata": {},
   "outputs": [
    {
     "data": {
      "text/plain": [
       "0       0\n",
       "1       1\n",
       "2       0\n",
       "3       0\n",
       "4       1\n",
       "       ..\n",
       "8979    0\n",
       "8980    1\n",
       "8981    1\n",
       "8982    1\n",
       "8983    0\n",
       "Name: gender, Length: 8984, dtype: int64"
      ]
     },
     "execution_count": 5,
     "metadata": {},
     "output_type": "execute_result"
    }
   ],
   "source": [
    "# Please write your executable code here\n",
    "gender = pd.get_dummies(df['gender'])\n",
    "df['male'] = gender['male']\n",
    "(df['gender']=='male').astype(int)"
   ]
  },
  {
   "cell_type": "markdown",
   "id": "a73ae72f",
   "metadata": {},
   "source": [
    "7. Create a new variable named `college` that takes value 1 if the individual completed at least 13 years of education, 0 otherwise"
   ]
  },
  {
   "cell_type": "code",
   "execution_count": 6,
   "id": "94f5dabe",
   "metadata": {},
   "outputs": [
    {
     "data": {
      "text/plain": [
       "0       1\n",
       "1       1\n",
       "2       1\n",
       "3       0\n",
       "4       0\n",
       "       ..\n",
       "8979    0\n",
       "8980    1\n",
       "8981    1\n",
       "8982    1\n",
       "8983    1\n",
       "Name: college, Length: 8984, dtype: int64"
      ]
     },
     "execution_count": 6,
     "metadata": {},
     "output_type": "execute_result"
    }
   ],
   "source": [
    "# Please write your executable code here\n",
    "df['college'] = (df['educ'] >= 13).astype(int)\n",
    "df['college']\n"
   ]
  },
  {
   "cell_type": "markdown",
   "id": "e18c2488",
   "metadata": {},
   "source": [
    "### Exercise 4: Perform a Univariate Regression Analysis"
   ]
  },
  {
   "cell_type": "markdown",
   "id": "eb530288",
   "metadata": {},
   "source": [
    "- Using statsmodels, perform a univariate regression analysis with annual_income as the dependent variable and educ as the independent variable\n",
    "- Print the summary of the regression model."
   ]
  },
  {
   "cell_type": "markdown",
   "id": "79bbc957",
   "metadata": {},
   "source": [
    "8. Code for fitting the regression model using the formula notation"
   ]
  },
  {
   "cell_type": "code",
   "execution_count": 7,
   "id": "ffa3ecb5",
   "metadata": {},
   "outputs": [],
   "source": [
    "# Please write your executable code here\n",
    "results1 = smf.ols('annual_income ~ educ', data=df).fit()"
   ]
  },
  {
   "cell_type": "markdown",
   "id": "904f5f29",
   "metadata": {},
   "source": [
    "9. Write code to print a summary of the output"
   ]
  },
  {
   "cell_type": "code",
   "execution_count": 8,
   "id": "dcb4de78",
   "metadata": {},
   "outputs": [
    {
     "name": "stdout",
     "output_type": "stream",
     "text": [
      "                            OLS Regression Results                            \n",
      "==============================================================================\n",
      "Dep. Variable:          annual_income   R-squared:                       0.116\n",
      "Model:                            OLS   Adj. R-squared:                  0.116\n",
      "Method:                 Least Squares   F-statistic:                     662.0\n",
      "Date:                Thu, 03 Oct 2024   Prob (F-statistic):          2.74e-137\n",
      "Time:                        14:35:41   Log-Likelihood:                -62448.\n",
      "No. Observations:                5054   AIC:                         1.249e+05\n",
      "Df Residuals:                    5052   BIC:                         1.249e+05\n",
      "Df Model:                           1                                         \n",
      "Covariance Type:            nonrobust                                         \n",
      "==============================================================================\n",
      "                 coef    std err          t      P>|t|      [0.025      0.975]\n",
      "------------------------------------------------------------------------------\n",
      "Intercept  -4.549e+04   4288.417    -10.607      0.000   -5.39e+04   -3.71e+04\n",
      "educ        8087.5882    314.337     25.729      0.000    7471.352    8703.825\n",
      "==============================================================================\n",
      "Omnibus:                     3441.420   Durbin-Watson:                   1.869\n",
      "Prob(Omnibus):                  0.000   Jarque-Bera (JB):            49424.818\n",
      "Skew:                           3.131   Prob(JB):                         0.00\n",
      "Kurtosis:                      16.982   Cond. No.                         74.3\n",
      "==============================================================================\n",
      "\n",
      "Notes:\n",
      "[1] Standard Errors assume that the covariance matrix of the errors is correctly specified.\n"
     ]
    }
   ],
   "source": [
    "# Please write your code here\n",
    "print(results1.summary())"
   ]
  },
  {
   "cell_type": "markdown",
   "id": "ace10189",
   "metadata": {},
   "source": [
    "### Exercise 5: Interpret the Regression Output"
   ]
  },
  {
   "cell_type": "markdown",
   "id": "a01a7699",
   "metadata": {},
   "source": [
    "- Based on the regression output from Exercise 4, answer the following:\n"
   ]
  },
  {
   "cell_type": "markdown",
   "id": "7382d4e0",
   "metadata": {},
   "source": [
    "10. Interpret the coefficient corresponding to the constant"
   ]
  },
  {
   "cell_type": "raw",
   "id": "c55244d7",
   "metadata": {},
   "source": [
    "The constant is the intercept of the regression line. It captures all other determinants of annual income that are not education.  It provides as estimate of the baseline annual income for the lowest education level.  There is are no values of education equal to zero in the dataset."
   ]
  },
  {
   "cell_type": "markdown",
   "id": "8f6fcba8",
   "metadata": {},
   "source": [
    "11. Intepret the coefficient on `educ`"
   ]
  },
  {
   "cell_type": "raw",
   "id": "580a0627",
   "metadata": {},
   "source": [
    "Please write your explanation here\n",
    "\n",
    "For every year of additional education, annual income is predicted to increase 8087.59"
   ]
  },
  {
   "cell_type": "markdown",
   "id": "6c9ed2c3",
   "metadata": {},
   "source": [
    "12. Interpret the value of R squared"
   ]
  },
  {
   "cell_type": "raw",
   "id": "2b4b1e78",
   "metadata": {},
   "source": [
    "Please write your explanation here.\n",
    "\n",
    "Variation in levels of education explains 11.16% of the variation in annual incomes"
   ]
  },
  {
   "cell_type": "markdown",
   "id": "91bf1f19",
   "metadata": {},
   "source": [
    "13. Is the relationship between education and annual income statistically significant?  Explain how you came to this conclusion. "
   ]
  },
  {
   "cell_type": "raw",
   "id": "1cd8c0cc",
   "metadata": {},
   "source": [
    "Please write your explanation here.\n",
    "\n",
    "Yes, the pvalue on the coefficient. This means we reject the null hypothesis that the coefficient is equal to zero."
   ]
  },
  {
   "cell_type": "markdown",
   "id": "2043c158",
   "metadata": {},
   "source": [
    "14. Create the residual plot for this regression. And discuss on patterns of the plot. Any issue you observe.\n",
    "\n",
    "*Hint*:\n",
    "- stats models does not include a built in plot method for this, but the residuals are an attribute of results. If you named the object that contains the regression results `results` then  `results.resid` returns a pandas series of residuals. \n",
    "- You can plot these using matplotlib. As usual, start with `fig, ax = plt.subplots()` and then follow with `ax.plot(results.resid, 'o')`.  The 'o' will make the plot dots instead of a line."
   ]
  },
  {
   "cell_type": "code",
   "execution_count": 9,
   "id": "abb1da0b",
   "metadata": {},
   "outputs": [
    {
     "data": {
      "text/plain": [
       "[<matplotlib.lines.Line2D at 0x7fb113c73910>]"
      ]
     },
     "execution_count": 9,
     "metadata": {},
     "output_type": "execute_result"
    },
    {
     "data": {
      "image/png": "[encoded data removed]",
      "text/plain": [
       "<Figure size 640x480 with 1 Axes>"
      ]
     },
     "metadata": {},
     "output_type": "display_data"
    }
   ],
   "source": [
    "# Please write your executable code here\n",
    "fig, ax = plt.subplots()\n",
    "ax.plot(results1.resid, 'o')"
   ]
  },
  {
   "cell_type": "raw",
   "id": "dcf942b9",
   "metadata": {},
   "source": [
    "Please write your discussion here.\n",
    "Residuals look ok, except there are some obvious outliers. These are high levels of income that cannot be explained by education."
   ]
  },
  {
   "cell_type": "markdown",
   "id": "13cf8e81",
   "metadata": {},
   "source": [
    "### Exercise 6: Perform a Univariate Regression Analysis"
   ]
  },
  {
   "cell_type": "markdown",
   "id": "94814af6",
   "metadata": {},
   "source": [
    "- Perform a univariate regression analysis with educ as the dependent variable and male as the independent variable.\n",
    "- Perform another univariate regression analysis with annual income as the dependent variable and male as the independent variable.\n",
    "- Print the summary of the regression model.\n",
    "- Interpret the results (i.e., coefficients, statistical significance, and R-squared)"
   ]
  },
  {
   "cell_type": "markdown",
   "id": "4a1d2288",
   "metadata": {},
   "source": [
    "15. Write the coode for fitting a regression model with `educ` as the dependent variable and `male` as the independent variable using formula notation."
   ]
  },
  {
   "cell_type": "code",
   "execution_count": 10,
   "id": "78a56325",
   "metadata": {},
   "outputs": [],
   "source": [
    "# Please write your executable code here\n",
    "results2 = smf.ols('educ ~ male', data=df).fit()"
   ]
  },
  {
   "cell_type": "markdown",
   "id": "4541e3ce",
   "metadata": {},
   "source": [
    "16. Print the output of the regression model."
   ]
  },
  {
   "cell_type": "code",
   "execution_count": 11,
   "id": "528f5744",
   "metadata": {},
   "outputs": [
    {
     "name": "stdout",
     "output_type": "stream",
     "text": [
      "                            OLS Regression Results                            \n",
      "==============================================================================\n",
      "Dep. Variable:                   educ   R-squared:                       0.014\n",
      "Model:                            OLS   Adj. R-squared:                  0.014\n",
      "Method:                 Least Squares   F-statistic:                     116.1\n",
      "Date:                Thu, 03 Oct 2024   Prob (F-statistic):           6.72e-27\n",
      "Time:                        14:35:41   Log-Likelihood:                -19262.\n",
      "No. Observations:                8151   AIC:                         3.853e+04\n",
      "Df Residuals:                    8149   BIC:                         3.854e+04\n",
      "Df Model:                           1                                         \n",
      "Covariance Type:            nonrobust                                         \n",
      "==============================================================================\n",
      "                 coef    std err          t      P>|t|      [0.025      0.975]\n",
      "------------------------------------------------------------------------------\n",
      "Intercept     13.3441      0.041    328.104      0.000      13.264      13.424\n",
      "male          -0.6139      0.057    -10.777      0.000      -0.726      -0.502\n",
      "==============================================================================\n",
      "Omnibus:                      226.356   Durbin-Watson:                   1.451\n",
      "Prob(Omnibus):                  0.000   Jarque-Bera (JB):              110.841\n",
      "Skew:                          -0.016   Prob(JB):                     8.54e-25\n",
      "Kurtosis:                       2.430   Cond. No.                         2.64\n",
      "==============================================================================\n",
      "\n",
      "Notes:\n",
      "[1] Standard Errors assume that the covariance matrix of the errors is correctly specified.\n"
     ]
    }
   ],
   "source": [
    "# Please write your code to generate the summary here\n",
    "print(results2.summary())"
   ]
  },
  {
   "cell_type": "markdown",
   "id": "0df3d7b1",
   "metadata": {},
   "source": [
    "17. Interpret the results, including coefficients, statistical significance and $R^2$ "
   ]
  },
  {
   "cell_type": "raw",
   "id": "a95e8b71",
   "metadata": {},
   "source": [
    "Please write your explanation here.\n",
    "The intercept is the average education level of females. The coefficient is on males negative.  Males have less schooling of about 7.2 months or 0.6139 years.  This is statistically significant, meaning that there is a difference between average education of males and females in the sample. R squared is very small.  This is to be expected because variation in education is unlikely to influence the variation in gender in the population.\n"
   ]
  },
  {
   "cell_type": "markdown",
   "id": "3f8a3623",
   "metadata": {},
   "source": [
    "18. Write the coode for fitting a regression model with `annual income` as the dependent variable and `male` as the independent variable using formula notation."
   ]
  },
  {
   "cell_type": "code",
   "execution_count": 12,
   "id": "46bf7187",
   "metadata": {},
   "outputs": [],
   "source": [
    "# Please write your executable code here\n",
    "results3 = smf.ols('annual_income ~ male', data=df).fit()\n"
   ]
  },
  {
   "cell_type": "markdown",
   "id": "abe9d9c4",
   "metadata": {},
   "source": [
    "19. Print the output of the regression model."
   ]
  },
  {
   "cell_type": "code",
   "execution_count": 13,
   "id": "982ce664",
   "metadata": {},
   "outputs": [
    {
     "name": "stdout",
     "output_type": "stream",
     "text": [
      "                            OLS Regression Results                            \n",
      "==============================================================================\n",
      "Dep. Variable:          annual_income   R-squared:                       0.027\n",
      "Model:                            OLS   Adj. R-squared:                  0.027\n",
      "Method:                 Least Squares   F-statistic:                     145.2\n",
      "Date:                Thu, 03 Oct 2024   Prob (F-statistic):           5.20e-33\n",
      "Time:                        14:35:41   Log-Likelihood:                -64496.\n",
      "No. Observations:                5201   AIC:                         1.290e+05\n",
      "Df Residuals:                    5199   BIC:                         1.290e+05\n",
      "Df Model:                           1                                         \n",
      "Covariance Type:            nonrobust                                         \n",
      "==============================================================================\n",
      "                 coef    std err          t      P>|t|      [0.025      0.975]\n",
      "------------------------------------------------------------------------------\n",
      "Intercept   5.296e+04   1159.095     45.691      0.000    5.07e+04    5.52e+04\n",
      "male        1.966e+04   1630.919     12.052      0.000    1.65e+04    2.29e+04\n",
      "==============================================================================\n",
      "Omnibus:                     3596.870   Durbin-Watson:                   1.806\n",
      "Prob(Omnibus):                  0.000   Jarque-Bera (JB):            51700.527\n",
      "Skew:                           3.204   Prob(JB):                         0.00\n",
      "Kurtosis:                      17.054   Cond. No.                         2.63\n",
      "==============================================================================\n",
      "\n",
      "Notes:\n",
      "[1] Standard Errors assume that the covariance matrix of the errors is correctly specified.\n"
     ]
    }
   ],
   "source": [
    "# Please write your code to generate the summary here\n",
    "print(results3.summary())"
   ]
  },
  {
   "cell_type": "markdown",
   "id": "7ea84e26",
   "metadata": {},
   "source": [
    "20. Interpret the results, including coefficients, statistical significance and $R^2$ "
   ]
  },
  {
   "cell_type": "raw",
   "id": "316bd0ed",
   "metadata": {},
   "source": [
    "The average income for females is 52960.  Makes earn, on average, 19660 more.  This is statistically significant meaning that incomes of males and females are statistically significant from zero. Variation in gender explains about 2.7% of variation in incomes."
   ]
  },
  {
   "cell_type": "code",
   "execution_count": null,
   "id": "288b77b8",
   "metadata": {},
   "outputs": [],
   "source": []
  },
  {
   "cell_type": "code",
   "execution_count": null,
   "id": "611f486a",
   "metadata": {},
   "outputs": [],
   "source": []
  }
 ],
 "metadata": {
  "kernelspec": {
   "display_name": "Python 3 (ipykernel)",
   "language": "python",
   "name": "python3"
  },
  "language_info": {
   "codemirror_mode": {
    "name": "ipython",
    "version": 3
   },
   "file_extension": ".py",
   "mimetype": "text/x-python",
   "name": "python",
   "nbconvert_exporter": "python",
   "pygments_lexer": "ipython3",
   "version": "3.12.4"
  }
 },
 "nbformat": 4,
 "nbformat_minor": 5
}
