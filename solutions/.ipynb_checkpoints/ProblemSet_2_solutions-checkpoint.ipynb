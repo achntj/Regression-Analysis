{
 "cells": [
  {
   "cell_type": "markdown",
   "id": "92f7c6b6",
   "metadata": {},
   "source": [
    "## Problem Set 2: Hypothesis testing (90 pts)\n",
    "### Summary and Motivation\n",
    "Problem set 2 is about confidence intervals and hypothesis testing.  \n",
    "\n",
    "### Instructions\n",
    "- Please follow below questions and instructions to complete this problem set. In some questions, please write and execute Python code for data analysis in Cell mode. Comment your code to explain each step. And use `Shift+Enter` to excute your code.\n",
    "- Some questions need text discussion. Please Provide a detailed discussion of your results, including interpretations and answers to questions in Raw mode.\n",
    "\n",
    "- Once you have completed the assignment, save your Jupyter notebook with the following naming convention: ECN394_ProblemSetX_LastName_FirstName.ipynb (replace X with the assignment number).\n",
    "- _Hint_ If you want to use numpy, pandas, or scipy.stats be sure to import the modules `import numpy as np` and `import pandas as pd` and `import scipy.stats`. Import these libraries in the codeblock below"
   ]
  },
  {
   "cell_type": "markdown",
   "id": "0deed00a",
   "metadata": {},
   "source": [
    "## Problem 1 Unbiased Estimators and confidence interval (25 pts, 5pts per question)\n",
    "Suppose you are a data scientist working for a health research company. The company is interested in estimating the average resting heart rate (in beats per minute) for a population of adults aged 20-40 years in a certain city. Due to budget and time constraints, you cannot measure the heart rate of every adult in this age group in the city. Therefore, you decide to take a random sample.\n",
    "\n",
    "You randomly select 150 adults aged 20-40 years from the city and measure their resting heart rates. The data collected from these 150 individuals are as follows:\n",
    "\n",
    "- Sample mean (x̄) = 72 beats per minute\n",
    "\n",
    "- Sample standard deviation (s) = 12 beats per minute\n"
   ]
  },
  {
   "cell_type": "markdown",
   "id": "51421d61",
   "metadata": {},
   "source": [
    "a. Explain what is means for the sample mean $\\bar{x}$ to be an unbiased estimator of the population mean µ.\n"
   ]
  },
  {
   "cell_type": "raw",
   "id": "425f7ee4",
   "metadata": {},
   "source": [
    "Please write your explanation here.\n",
    "- If we take multiple samples of resting heart rates, we expect the mean of those samples to be equal to the population mean."
   ]
  },
  {
   "cell_type": "markdown",
   "id": "ecd3ecc1",
   "metadata": {},
   "source": [
    "b. Calculate the standard error of the mean (SE) for your sample. Use the formula: $$ SE = \\frac{s}{\\sqrt{n}}$$ where s is the sample standard deviation and n is the sample size.\n",
    "\n",
    "\n"
   ]
  },
  {
   "cell_type": "code",
   "execution_count": 1,
   "id": "68036bee",
   "metadata": {},
   "outputs": [
    {
     "name": "stdout",
     "output_type": "stream",
     "text": [
      "0.9797958971132713\n"
     ]
    }
   ],
   "source": [
    "# Please direclty put your number answer here.  You can code it or calculate it manually.\n",
    "import numpy as np\n",
    "s=12\n",
    "n=150\n",
    "se = s/np.sqrt(150)\n",
    "print(se)"
   ]
  },
  {
   "cell_type": "markdown",
   "id": "79c8805c",
   "metadata": {},
   "source": [
    "c. Discuss how increasing the sample size might affect the standard error of the mean and the reliability of your estimate.\n"
   ]
  },
  {
   "cell_type": "raw",
   "id": "8af9a0f0",
   "metadata": {},
   "source": [
    "Please write your explanation here.\n",
    "Increasing the sample size will reduce the standard error and the estimate will become more reliable."
   ]
  },
  {
   "cell_type": "markdown",
   "id": "ae517bf3-17b6-4683-a640-2bcd98ee2bcf",
   "metadata": {},
   "source": [
    "d. Assume significance level $\\alpha=0.05$ Use the scipy.stats module to find a critical t value for degrees of freedom of 49, `df=49` and \n",
    "significance $\\alpha/2$\n",
    "\n",
    "_hint:_ start by importing scipy.stats"
   ]
  },
  {
   "cell_type": "code",
   "execution_count": 2,
   "id": "782920f3-9639-4d36-b6a0-403760ed1158",
   "metadata": {},
   "outputs": [
    {
     "name": "stdout",
     "output_type": "stream",
     "text": [
      "-2.0095752344892093\n"
     ]
    }
   ],
   "source": [
    "# Type your code below and be sure to use print() to print the critical t value\n",
    "import scipy.stats\n",
    "tval = scipy.stats.t.ppf(.05/2, df=49)\n",
    "print(tval)"
   ]
  },
  {
   "cell_type": "markdown",
   "id": "f494475c-e4bd-4e89-af08-f1e446520ab4",
   "metadata": {},
   "source": [
    "e. Calcuate a 95% confidence interval for the population mean using a sample mean from above "
   ]
  },
  {
   "cell_type": "code",
   "execution_count": 3,
   "id": "5b797d9e-e75a-4ca7-9834-91c830cfe020",
   "metadata": {},
   "outputs": [
    {
     "name": "stdout",
     "output_type": "stream",
     "text": [
      "[70.03102643030704, 73.96897356969296]\n",
      "(70.03102643030704, 73.96897356969296)\n"
     ]
    }
   ],
   "source": [
    "# Type your code below and be sure to use print() to print your answer when the code is run\n",
    "# method 1\n",
    "xbar = 72\n",
    "ci_1 = [xbar +se*tval, xbar - se*tval]\n",
    "print(ci_1)\n",
    "ci_2 = scipy.stats.t.interval(confidence=.95, loc=xbar, scale=se, df=49)\n",
    "print(ci_2)"
   ]
  },
  {
   "cell_type": "markdown",
   "id": "04292007",
   "metadata": {},
   "source": [
    "# Hypothesis Testing (40 pts, 5 pts per question)\n"
   ]
  },
  {
   "cell_type": "code",
   "execution_count": null,
   "id": "01bcea96",
   "metadata": {},
   "outputs": [],
   "source": []
  },
  {
   "cell_type": "markdown",
   "id": "9164d15f",
   "metadata": {},
   "source": [
    "### Problem 1: T test and confidence intervals\n",
    "Scenario: An administractor is gathering information about student performance in two classes.  She randomly selects 10 students from each class. The scores are as follows:\n",
    "\n",
    "- Class A sample scores: 72, 85, 90, 70, 80, 92, 78, 84, 89, 73\n",
    "- Class B sample scores: 82, 80, 75, 86, 90, 87, 84, 83, 88, 85\n",
    "\n",
    "\n",
    "a. Write code to produce the sample mean and sample standard deviation of scores of each class.  Make sure to use the `print()` function to print out the mean and standard deviation in the code block. (4 pts).\n",
    "   _Hint_: You need to import numpy and create numpy arrays from the samples above first"
   ]
  },
  {
   "cell_type": "code",
   "execution_count": 4,
   "id": "e6949dd9-0908-49f0-9a8b-9c2ace852b1c",
   "metadata": {},
   "outputs": [
    {
     "name": "stdout",
     "output_type": "stream",
     "text": [
      "mean a\n",
      "81.3\n",
      "mean b\n",
      "84.0\n",
      "std a\n",
      "7.930952023559341\n",
      "std_b\n",
      "4.320493798938574\n"
     ]
    }
   ],
   "source": [
    "# Write the code for your answer in this codeblock\n",
    "class_a = np.array([72, 85, 90, 70, 80, 92, 78, 84, 89, 73])\n",
    "class_b = np.array([82, 80, 75, 86, 90, 87, 84, 83, 88, 85])\n",
    "mean_a = np.mean(class_a)\n",
    "mean_b = np.mean(class_b)\n",
    "print('mean a')\n",
    "print(mean_a)\n",
    "print('mean b')\n",
    "print(mean_b)\n",
    "print('std a')\n",
    "print(np.std(class_a, ddof=1))\n",
    "print('std_b')\n",
    "print(np.std(class_b, ddof=1))"
   ]
  },
  {
   "cell_type": "markdown",
   "id": "610fb6ac",
   "metadata": {},
   "source": [
    "b. Consider only the Class A sample.  With $\\alpha = 5%$ conduct a hypothesis test with a null hypothesis that $\\mu \\leq 83$.  Code the test in the block below and print either 'reject the null' or 'fail to reject'\n",
    "_hint:_ you want to import the scipy.stats module and make use of the  `scipy.stats.ttest_1samp()` method\n"
   ]
  },
  {
   "cell_type": "code",
   "execution_count": 5,
   "id": "54fa6cc6",
   "metadata": {},
   "outputs": [
    {
     "name": "stdout",
     "output_type": "stream",
     "text": [
      "TtestResult(statistic=-0.6778343894045661, pvalue=0.25746153583555265, df=9)\n",
      "fail to reject\n"
     ]
    }
   ],
   "source": [
    "# Code the answer to part b in this codeblock\n",
    "result = scipy.stats.ttest_1samp(class_a, 83, alternative='less')\n",
    "print(result)\n",
    "\n",
    "print('fail to reject')"
   ]
  },
  {
   "cell_type": "markdown",
   "id": "ec60498e-a069-47d8-bc66-7e71dc0994b5",
   "metadata": {},
   "source": [
    "c. Construct a 95% percent confidence interval for the population mean for class B."
   ]
  },
  {
   "cell_type": "code",
   "execution_count": 6,
   "id": "94ae6de9-d1ea-44c5-8967-530ca2ab45cc",
   "metadata": {},
   "outputs": [
    {
     "data": {
      "text/plain": [
       "ConfidenceInterval(low=80.90930492380403, high=87.09069507619597)"
      ]
     },
     "execution_count": 6,
     "metadata": {},
     "output_type": "execute_result"
    }
   ],
   "source": [
    "# Code your answer for part c in this codeblock\n",
    "result = scipy.stats.ttest_1samp(class_b, 83)\n",
    "result.confidence_interval(confidence_level=0.95)"
   ]
  },
  {
   "cell_type": "markdown",
   "id": "8230885c",
   "metadata": {},
   "source": [
    "d. At a signifigcance level of 5%, determine if there is difference between the scores of Class A and Class B. In the space below, the code, explain your answer. \n"
   ]
  },
  {
   "cell_type": "code",
   "execution_count": 7,
   "id": "f5661a3f-73b0-4b39-b6d3-d4a8e9c5cc74",
   "metadata": {},
   "outputs": [
    {
     "name": "stdout",
     "output_type": "stream",
     "text": [
      "Ttest_indResult(statistic=-0.9453821692056952, pvalue=0.35698249333842125)\n"
     ]
    }
   ],
   "source": [
    "# Code your answer here\n",
    "result = scipy.stats.ttest_ind(class_a, class_b)\n",
    "print(result)"
   ]
  },
  {
   "cell_type": "raw",
   "id": "0ba1aba3-3c0d-41bb-85b2-fcf2b8f046cf",
   "metadata": {},
   "source": [
    "Exlpain your answer below.\n",
    "- The pvalue suggests there is not a statistically significant different "
   ]
  },
  {
   "cell_type": "markdown",
   "id": "c812b249",
   "metadata": {},
   "source": [
    "### Problem 2: More two sample t-tests\n",
    "Scenario: A nutritionist claims that a new diet plan significantly reduces an individual's body mass index (BMI) over a period of 3 months. To test this claim, 12 participants were selected, and their BMIs were recorded before starting the diet plan and after completing 3 months on the diet. The BMIs are as follows:\n",
    "\n",
    "- Before: 25, 30, 28, 32, 24, 29, 27, 31, 23, 26, 28, 33\n",
    "- After: 24, 28, 27, 30, 23, 27, 25, 29, 22, 25, 27, 31\n",
    "\n",
    "Task: Use Python to perform a two sample t-test on the BMI data before and after the diet plan. Determine if the diet plan has the desired and significant effect on BMI.\n",
    "\n"
   ]
  },
  {
   "cell_type": "markdown",
   "id": "b0fdab58",
   "metadata": {},
   "source": [
    "1. Prepare the data for the t-test by creating numpy arrays for before and after\n"
   ]
  },
  {
   "cell_type": "code",
   "execution_count": 8,
   "id": "418529a2",
   "metadata": {},
   "outputs": [],
   "source": [
    "# Please write your executable code here\n",
    "before = np.array([ 25, 30, 28, 32, 24, 29, 27, 31, 23, 26, 28, 33])\n",
    "after = np.array([24, 28, 27, 30, 23, 27, 25, 29, 22, 25, 27, 31])"
   ]
  },
  {
   "cell_type": "markdown",
   "id": "0184cbf5",
   "metadata": {},
   "source": [
    "2. Perform the two sample t-test. "
   ]
  },
  {
   "cell_type": "code",
   "execution_count": 18,
   "id": "82b6b691",
   "metadata": {},
   "outputs": [
    {
     "name": "stdout",
     "output_type": "stream",
     "text": [
      "Ttest_indResult(statistic=-1.2341300268111635, pvalue=0.11508795162471362)\n"
     ]
    }
   ],
   "source": [
    "# Please write your executable code here\n",
    "result = scipy.stats.ttest_ind(after, before, alternative='less')\n",
    "print(result)"
   ]
  },
  {
   "cell_type": "markdown",
   "id": "c10f37e0",
   "metadata": {},
   "source": [
    "3. Interpret the results. Is there evidence that the diet plan had the desired result at a significance level of 5%, at 10%?"
   ]
  },
  {
   "cell_type": "raw",
   "id": "f4a4bebd",
   "metadata": {},
   "source": [
    "Please write your explanation here.\n",
    "No, fail to reject. \n"
   ]
  },
  {
   "cell_type": "markdown",
   "id": "08d7178b",
   "metadata": {},
   "source": [
    "# Part 3: Hypothesis testing with income data (25 pts)"
   ]
  },
  {
   "cell_type": "markdown",
   "id": "556ed576",
   "metadata": {},
   "source": [
    "In this problem, you will perform hypothesis tests using the database of individuals born in the early 1980s in the United States. Below are some variables we could use. We will only use gender, but feel free to explore on your own some other variables.\n",
    "- educ: number of years of education completed\n",
    "- annual_income: Annual income from wages\n",
    "- gender: denotes the gender of the individual\n",
    "- minority: 1 if the individual belongs to a minority group, 0 otherwise.\n",
    "- mother_educ: 1 if the individual’s mother has a college degree, 0 otherwise.\n",
    "- gpa_grade_9: GPA in 8th grade.\n",
    "- retention: 1 if the individual was required to repeat a grade during middle school, 0 otherwise."
   ]
  },
  {
   "cell_type": "markdown",
   "id": "a23a4bad",
   "metadata": {},
   "source": [
    "1. Load the data and needed libraries(3pts)."
   ]
  },
  {
   "cell_type": "code",
   "execution_count": 1,
   "id": "d86ad3e7",
   "metadata": {},
   "outputs": [
    {
     "data": {
      "text/plain": [
       "array(['female', 'male'], dtype=object)"
      ]
     },
     "execution_count": 1,
     "metadata": {},
     "output_type": "execute_result"
    }
   ],
   "source": [
    "# Please write your executatble code here\n",
    "import pandas as pd\n",
    "df = pd.read_excel('data_NLSY97.xlsx')\n",
    "df['gender'].unique()"
   ]
  },
  {
   "cell_type": "markdown",
   "id": "c57ec239",
   "metadata": {},
   "source": [
    "2. Create two data series from the data frame, one with annual_income for females and one for males (4pts)"
   ]
  },
  {
   "cell_type": "code",
   "execution_count": 11,
   "id": "0fcdd3ff",
   "metadata": {},
   "outputs": [],
   "source": [
    "# Please write your executatble code here\n",
    "females = df[df['gender']=='female']\n",
    "males = df[df['gender']=='male']"
   ]
  },
  {
   "cell_type": "markdown",
   "id": "fa357c48",
   "metadata": {},
   "source": [
    "3. Conduct a two sample hypothesis test to determine if there is a statistically significant difference between the annual incomes of males and females (6pts)  \n",
    "\n",
    "Hint: Because the series you created include NaN for missing values,  you need to set the keyword `nan_policy='omit'` in the  `scipy.stats.ttest_ind()` method. Also set the key word argument `equal_var=False` to assume that the variance in annual incomes are different for males and females.  To learn more about the scipy.stats.ttest_ind method, execute `scipy.stats.ttest_ind?`"
   ]
  },
  {
   "cell_type": "code",
   "execution_count": 12,
   "id": "24079d55",
   "metadata": {},
   "outputs": [
    {
     "name": "stdout",
     "output_type": "stream",
     "text": [
      "Ttest_indResult(statistic=12.080281708450256, pvalue=3.889142399866848e-33)\n"
     ]
    }
   ],
   "source": [
    "# Please write your executatble code here\n",
    "result = scipy.stats.ttest_ind(males['annual_income'], females['annual_income'], nan_policy='omit', equal_var=False)\n",
    "print(result)"
   ]
  },
  {
   "cell_type": "markdown",
   "id": "ec998791",
   "metadata": {},
   "source": [
    "4. Interpret the result (4pts)"
   ]
  },
  {
   "cell_type": "raw",
   "id": "eb111f53",
   "metadata": {},
   "source": [
    "Write your answer here\n",
    "\n"
   ]
  },
  {
   "cell_type": "markdown",
   "id": "7b56ba20",
   "metadata": {},
   "source": [
    "5. Now conduct a two sample hypothesis to test if males earn more annual income than males. Again, you will need to set the keywords `equal_var=False` and `nan_policy='omit'` as well as the correct `alternative= ` (4pts)"
   ]
  },
  {
   "cell_type": "code",
   "execution_count": 20,
   "id": "592d0299",
   "metadata": {},
   "outputs": [
    {
     "name": "stdout",
     "output_type": "stream",
     "text": [
      "Ttest_indResult(statistic=12.080281708450256, pvalue=1.944571199933424e-33)\n"
     ]
    }
   ],
   "source": [
    "# Please write your code below\n",
    "result = scipy.stats.ttest_ind(males['annual_income'], females['annual_income'], alternative='greater', nan_policy='omit', equal_var=False)\n",
    "print(result)"
   ]
  },
  {
   "cell_type": "markdown",
   "id": "7d950705",
   "metadata": {},
   "source": [
    "5. Interpret the results (4pts). Specifically, what can you conclude and what can you _not_ conclude from the test?"
   ]
  },
  {
   "cell_type": "code",
   "execution_count": null,
   "id": "fd766056",
   "metadata": {},
   "outputs": [],
   "source": []
  }
 ],
 "metadata": {
  "kernelspec": {
   "display_name": "Python 3 (ipykernel)",
   "language": "python",
   "name": "python3"
  },
  "language_info": {
   "codemirror_mode": {
    "name": "ipython",
    "version": 3
   },
   "file_extension": ".py",
   "mimetype": "text/x-python",
   "name": "python",
   "nbconvert_exporter": "python",
   "pygments_lexer": "ipython3",
   "version": "3.12.4"
  }
 },
 "nbformat": 4,
 "nbformat_minor": 5
}
