{
 "cells": [
  {
   "cell_type": "markdown",
   "id": "5a58f1c5",
   "metadata": {},
   "source": [
    "# Problem Set 3: Univariate Regressions\n",
    "\n",
    "## 5 pts per question, 10 points out of 90 in total with 10 bonus points. \n",
    "\n",
    "### Summary and Motivation\n",
    "\n",
    "Problem Set 2 is designed to introduce students to the basics of regression analysis, a fundamental tool in data analytics and econometrics. By using the NLSY97 dataset, students will explore relationships between key variables such as education, gender, and hourly compensation. This problem set emphasizes practical experience with Python and the statsmodels library, reinforcing theoretical knowledge through hands-on data manipulation and analysis. By completing these exercises, students will gain a deeper understanding of univariate regression techniques, preparing them for more advanced multivariate analyses and real-world applications in economics and business.\n",
    "\n",
    "### Instruction\n",
    "The dataset data NLSY97.xlsx, available on CANVAS, contains all necessary information. These data are sourced from\n",
    "the NLSY97, a representative national database of individuals born in the early 1980s in the United States. Below are some variables we will use:\n",
    "- educ: number of years of education completed\n",
    "- gender: denotes the gender of the individual\n",
    "- minority: 1 if the individual belongs to a minority group, 0 otherwise.\n",
    "- mother_educ: 1 if the individual’s mother has a college degree, 0 otherwise.\n",
    "- annual_income: Annual income frome wages.\n",
    "- gpain8: GPA in 8th grade.\n",
    "- retention: 1 if the individual was required to repeat a grade during middle school, 0 otherwise.\n",
    "\n",
    "Please follow below questions and instructions to complete this problem set. In some questions, please write and execute Python code for data analysis in Cell mode. Comment your code to explain each step. Some questions need text discussion. Please Provide a detailed discussion of your results, including interpretations and answers to questions in Raw mode.\n",
    "\n",
    "Once you have completed the assignment, save your Jupyter notebook with the following naming convention: ECN394_ProblemSetX_LastName_FirstName.ipynb (replace X with the assignment number)."
   ]
  },
  {
   "cell_type": "markdown",
   "id": "dea6a1ba",
   "metadata": {},
   "source": [
    "### Exercise 1: Load and Explore the Dataset"
   ]
  },
  {
   "cell_type": "markdown",
   "id": "77a67b4e",
   "metadata": {},
   "source": [
    "- This is the same database we used for our previous problem set. Each row contains information for each individual in the sample. (check the previous problem set for the definition of the variables).\n",
    "- Load the needed libraries and dataset dataNLSY97.xlsx.\n",
    "- Display the first 10 rows of the dataset."
   ]
  },
  {
   "cell_type": "markdown",
   "id": "bf0ace1e",
   "metadata": {},
   "source": [
    "1. Code that loads the needed libraries and dataset."
   ]
  },
  {
   "cell_type": "code",
   "execution_count": 1,
   "id": "ebfb9f8e",
   "metadata": {},
   "outputs": [
    {
     "ename": "FileNotFoundError",
     "evalue": "[Errno 2] No such file or directory: 'data_NLSY97.xlsx'",
     "output_type": "error",
     "traceback": [
      "\u001b[0;31m---------------------------------------------------------------------------\u001b[0m",
      "\u001b[0;31mFileNotFoundError\u001b[0m                         Traceback (most recent call last)",
      "Cell \u001b[0;32mIn[1], line 9\u001b[0m\n\u001b[1;32m      7\u001b[0m \u001b[38;5;66;03m# import the module that allows us to use the formula notation\u001b[39;00m\n\u001b[1;32m      8\u001b[0m \u001b[38;5;28;01mimport\u001b[39;00m \u001b[38;5;21;01mstatsmodels\u001b[39;00m\u001b[38;5;21;01m.\u001b[39;00m\u001b[38;5;21;01mformula\u001b[39;00m\u001b[38;5;21;01m.\u001b[39;00m\u001b[38;5;21;01mapi\u001b[39;00m \u001b[38;5;28;01mas\u001b[39;00m \u001b[38;5;21;01msmf\u001b[39;00m\n\u001b[0;32m----> 9\u001b[0m df \u001b[38;5;241m=\u001b[39m \u001b[43mpd\u001b[49m\u001b[38;5;241;43m.\u001b[39;49m\u001b[43mread_excel\u001b[49m\u001b[43m(\u001b[49m\u001b[38;5;124;43m'\u001b[39;49m\u001b[38;5;124;43mdata_NLSY97.xlsx\u001b[39;49m\u001b[38;5;124;43m'\u001b[39;49m\u001b[43m)\u001b[49m\n",
      "File \u001b[0;32m~/miniconda3/envs/ml/lib/python3.10/site-packages/pandas/io/excel/_base.py:495\u001b[0m, in \u001b[0;36mread_excel\u001b[0;34m(io, sheet_name, header, names, index_col, usecols, dtype, engine, converters, true_values, false_values, skiprows, nrows, na_values, keep_default_na, na_filter, verbose, parse_dates, date_parser, date_format, thousands, decimal, comment, skipfooter, storage_options, dtype_backend, engine_kwargs)\u001b[0m\n\u001b[1;32m    493\u001b[0m \u001b[38;5;28;01mif\u001b[39;00m \u001b[38;5;129;01mnot\u001b[39;00m \u001b[38;5;28misinstance\u001b[39m(io, ExcelFile):\n\u001b[1;32m    494\u001b[0m     should_close \u001b[38;5;241m=\u001b[39m \u001b[38;5;28;01mTrue\u001b[39;00m\n\u001b[0;32m--> 495\u001b[0m     io \u001b[38;5;241m=\u001b[39m \u001b[43mExcelFile\u001b[49m\u001b[43m(\u001b[49m\n\u001b[1;32m    496\u001b[0m \u001b[43m        \u001b[49m\u001b[43mio\u001b[49m\u001b[43m,\u001b[49m\n\u001b[1;32m    497\u001b[0m \u001b[43m        \u001b[49m\u001b[43mstorage_options\u001b[49m\u001b[38;5;241;43m=\u001b[39;49m\u001b[43mstorage_options\u001b[49m\u001b[43m,\u001b[49m\n\u001b[1;32m    498\u001b[0m \u001b[43m        \u001b[49m\u001b[43mengine\u001b[49m\u001b[38;5;241;43m=\u001b[39;49m\u001b[43mengine\u001b[49m\u001b[43m,\u001b[49m\n\u001b[1;32m    499\u001b[0m \u001b[43m        \u001b[49m\u001b[43mengine_kwargs\u001b[49m\u001b[38;5;241;43m=\u001b[39;49m\u001b[43mengine_kwargs\u001b[49m\u001b[43m,\u001b[49m\n\u001b[1;32m    500\u001b[0m \u001b[43m    \u001b[49m\u001b[43m)\u001b[49m\n\u001b[1;32m    501\u001b[0m \u001b[38;5;28;01melif\u001b[39;00m engine \u001b[38;5;129;01mand\u001b[39;00m engine \u001b[38;5;241m!=\u001b[39m io\u001b[38;5;241m.\u001b[39mengine:\n\u001b[1;32m    502\u001b[0m     \u001b[38;5;28;01mraise\u001b[39;00m \u001b[38;5;167;01mValueError\u001b[39;00m(\n\u001b[1;32m    503\u001b[0m         \u001b[38;5;124m\"\u001b[39m\u001b[38;5;124mEngine should not be specified when passing \u001b[39m\u001b[38;5;124m\"\u001b[39m\n\u001b[1;32m    504\u001b[0m         \u001b[38;5;124m\"\u001b[39m\u001b[38;5;124man ExcelFile - ExcelFile already has the engine set\u001b[39m\u001b[38;5;124m\"\u001b[39m\n\u001b[1;32m    505\u001b[0m     )\n",
      "File \u001b[0;32m~/miniconda3/envs/ml/lib/python3.10/site-packages/pandas/io/excel/_base.py:1550\u001b[0m, in \u001b[0;36mExcelFile.__init__\u001b[0;34m(self, path_or_buffer, engine, storage_options, engine_kwargs)\u001b[0m\n\u001b[1;32m   1548\u001b[0m     ext \u001b[38;5;241m=\u001b[39m \u001b[38;5;124m\"\u001b[39m\u001b[38;5;124mxls\u001b[39m\u001b[38;5;124m\"\u001b[39m\n\u001b[1;32m   1549\u001b[0m \u001b[38;5;28;01melse\u001b[39;00m:\n\u001b[0;32m-> 1550\u001b[0m     ext \u001b[38;5;241m=\u001b[39m \u001b[43minspect_excel_format\u001b[49m\u001b[43m(\u001b[49m\n\u001b[1;32m   1551\u001b[0m \u001b[43m        \u001b[49m\u001b[43mcontent_or_path\u001b[49m\u001b[38;5;241;43m=\u001b[39;49m\u001b[43mpath_or_buffer\u001b[49m\u001b[43m,\u001b[49m\u001b[43m \u001b[49m\u001b[43mstorage_options\u001b[49m\u001b[38;5;241;43m=\u001b[39;49m\u001b[43mstorage_options\u001b[49m\n\u001b[1;32m   1552\u001b[0m \u001b[43m    \u001b[49m\u001b[43m)\u001b[49m\n\u001b[1;32m   1553\u001b[0m     \u001b[38;5;28;01mif\u001b[39;00m ext \u001b[38;5;129;01mis\u001b[39;00m \u001b[38;5;28;01mNone\u001b[39;00m:\n\u001b[1;32m   1554\u001b[0m         \u001b[38;5;28;01mraise\u001b[39;00m \u001b[38;5;167;01mValueError\u001b[39;00m(\n\u001b[1;32m   1555\u001b[0m             \u001b[38;5;124m\"\u001b[39m\u001b[38;5;124mExcel file format cannot be determined, you must specify \u001b[39m\u001b[38;5;124m\"\u001b[39m\n\u001b[1;32m   1556\u001b[0m             \u001b[38;5;124m\"\u001b[39m\u001b[38;5;124man engine manually.\u001b[39m\u001b[38;5;124m\"\u001b[39m\n\u001b[1;32m   1557\u001b[0m         )\n",
      "File \u001b[0;32m~/miniconda3/envs/ml/lib/python3.10/site-packages/pandas/io/excel/_base.py:1402\u001b[0m, in \u001b[0;36minspect_excel_format\u001b[0;34m(content_or_path, storage_options)\u001b[0m\n\u001b[1;32m   1399\u001b[0m \u001b[38;5;28;01mif\u001b[39;00m \u001b[38;5;28misinstance\u001b[39m(content_or_path, \u001b[38;5;28mbytes\u001b[39m):\n\u001b[1;32m   1400\u001b[0m     content_or_path \u001b[38;5;241m=\u001b[39m BytesIO(content_or_path)\n\u001b[0;32m-> 1402\u001b[0m \u001b[38;5;28;01mwith\u001b[39;00m \u001b[43mget_handle\u001b[49m\u001b[43m(\u001b[49m\n\u001b[1;32m   1403\u001b[0m \u001b[43m    \u001b[49m\u001b[43mcontent_or_path\u001b[49m\u001b[43m,\u001b[49m\u001b[43m \u001b[49m\u001b[38;5;124;43m\"\u001b[39;49m\u001b[38;5;124;43mrb\u001b[39;49m\u001b[38;5;124;43m\"\u001b[39;49m\u001b[43m,\u001b[49m\u001b[43m \u001b[49m\u001b[43mstorage_options\u001b[49m\u001b[38;5;241;43m=\u001b[39;49m\u001b[43mstorage_options\u001b[49m\u001b[43m,\u001b[49m\u001b[43m \u001b[49m\u001b[43mis_text\u001b[49m\u001b[38;5;241;43m=\u001b[39;49m\u001b[38;5;28;43;01mFalse\u001b[39;49;00m\n\u001b[1;32m   1404\u001b[0m \u001b[43m\u001b[49m\u001b[43m)\u001b[49m \u001b[38;5;28;01mas\u001b[39;00m handle:\n\u001b[1;32m   1405\u001b[0m     stream \u001b[38;5;241m=\u001b[39m handle\u001b[38;5;241m.\u001b[39mhandle\n\u001b[1;32m   1406\u001b[0m     stream\u001b[38;5;241m.\u001b[39mseek(\u001b[38;5;241m0\u001b[39m)\n",
      "File \u001b[0;32m~/miniconda3/envs/ml/lib/python3.10/site-packages/pandas/io/common.py:882\u001b[0m, in \u001b[0;36mget_handle\u001b[0;34m(path_or_buf, mode, encoding, compression, memory_map, is_text, errors, storage_options)\u001b[0m\n\u001b[1;32m    873\u001b[0m         handle \u001b[38;5;241m=\u001b[39m \u001b[38;5;28mopen\u001b[39m(\n\u001b[1;32m    874\u001b[0m             handle,\n\u001b[1;32m    875\u001b[0m             ioargs\u001b[38;5;241m.\u001b[39mmode,\n\u001b[0;32m   (...)\u001b[0m\n\u001b[1;32m    878\u001b[0m             newline\u001b[38;5;241m=\u001b[39m\u001b[38;5;124m\"\u001b[39m\u001b[38;5;124m\"\u001b[39m,\n\u001b[1;32m    879\u001b[0m         )\n\u001b[1;32m    880\u001b[0m     \u001b[38;5;28;01melse\u001b[39;00m:\n\u001b[1;32m    881\u001b[0m         \u001b[38;5;66;03m# Binary mode\u001b[39;00m\n\u001b[0;32m--> 882\u001b[0m         handle \u001b[38;5;241m=\u001b[39m \u001b[38;5;28;43mopen\u001b[39;49m\u001b[43m(\u001b[49m\u001b[43mhandle\u001b[49m\u001b[43m,\u001b[49m\u001b[43m \u001b[49m\u001b[43mioargs\u001b[49m\u001b[38;5;241;43m.\u001b[39;49m\u001b[43mmode\u001b[49m\u001b[43m)\u001b[49m\n\u001b[1;32m    883\u001b[0m     handles\u001b[38;5;241m.\u001b[39mappend(handle)\n\u001b[1;32m    885\u001b[0m \u001b[38;5;66;03m# Convert BytesIO or file objects passed with an encoding\u001b[39;00m\n",
      "\u001b[0;31mFileNotFoundError\u001b[0m: [Errno 2] No such file or directory: 'data_NLSY97.xlsx'"
     ]
    }
   ],
   "source": [
    "# Please write your executable code here\n",
    "import pandas as pd\n",
    "import numpy as np\n",
    "import matplotlib.pyplot as plt\n",
    "# import statsmodels\n",
    "import statsmodels.api as sm\n",
    "# import the module that allows us to use the formula notation\n",
    "import statsmodels.formula.api as smf\n",
    "df = pd.read_excel('data_NLSY97.xlsx')\n"
   ]
  },
  {
   "cell_type": "markdown",
   "id": "cba2c19e",
   "metadata": {},
   "source": [
    "2. Code that displays the dataset variables names and types and display first 10 rows."
   ]
  },
  {
   "cell_type": "code",
   "execution_count": null,
   "id": "849260b1",
   "metadata": {},
   "outputs": [],
   "source": [
    "# Please write your executable code here\n",
    "df.head()\n"
   ]
  },
  {
   "cell_type": "markdown",
   "id": "edbc2226",
   "metadata": {},
   "source": [
    "3. Print out information about the data set that shows how many values in each column an the data types"
   ]
  },
  {
   "cell_type": "code",
   "execution_count": null,
   "id": "26ff4b0a",
   "metadata": {},
   "outputs": [],
   "source": [
    "df.info()"
   ]
  },
  {
   "cell_type": "markdown",
   "id": "6d3cf371",
   "metadata": {},
   "source": [
    "4. Does everything look as expected?  `float64` are columns that include numbers with decimal points. `objects` are non-numeric data. `int` are integers, or numbers without decimal points.  Comment on what you see below. "
   ]
  },
  {
   "cell_type": "raw",
   "id": "ee3b29f7",
   "metadata": {},
   "source": [
    "Everything looks good.  Gender is non-numeric. annual_income has less values that others "
   ]
  },
  {
   "cell_type": "markdown",
   "id": "0ac8e3b6",
   "metadata": {},
   "source": [
    "5. Provide a summary, descriptive statistics, of the dataset. "
   ]
  },
  {
   "cell_type": "code",
   "execution_count": null,
   "id": "36fce324",
   "metadata": {},
   "outputs": [],
   "source": [
    "# Please write your executable code here\n",
    "df.describe()"
   ]
  },
  {
   "cell_type": "markdown",
   "id": "9b46d86b",
   "metadata": {},
   "source": [
    "### Exercise 2: Create New Variables"
   ]
  },
  {
   "cell_type": "markdown",
   "id": "2c924dc1",
   "metadata": {},
   "source": [
    "6. Create a new variable named `male` (using the variable gender) that takes value 1 if the individual is a male, 0 otherwise."
   ]
  },
  {
   "cell_type": "code",
   "execution_count": null,
   "id": "6db955c3",
   "metadata": {},
   "outputs": [],
   "source": [
    "# Please write your executable code here\n",
    "gender = pd.get_dummies(df['gender'])\n",
    "df['male'] = gender['male']\n",
    "(df['gender']=='male').astype(int)"
   ]
  },
  {
   "cell_type": "markdown",
   "id": "a73ae72f",
   "metadata": {},
   "source": [
    "7. Create a new variable named `college` that takes value 1 if the individual completed at least 13 years of education, 0 otherwise"
   ]
  },
  {
   "cell_type": "code",
   "execution_count": null,
   "id": "94f5dabe",
   "metadata": {},
   "outputs": [],
   "source": [
    "# Please write your executable code here\n",
    "df['college'] = (df['educ'] >= 13).astype(int)\n",
    "df['college']\n"
   ]
  },
  {
   "cell_type": "markdown",
   "id": "e18c2488",
   "metadata": {},
   "source": [
    "### Exercise 4: Perform a Univariate Regression Analysis"
   ]
  },
  {
   "cell_type": "markdown",
   "id": "eb530288",
   "metadata": {},
   "source": [
    "- Using statsmodels, perform a univariate regression analysis with annual_income as the dependent variable and educ as the independent variable\n",
    "- Print the summary of the regression model."
   ]
  },
  {
   "cell_type": "markdown",
   "id": "79bbc957",
   "metadata": {},
   "source": [
    "8. Code for fitting the regression model using the formula notation"
   ]
  },
  {
   "cell_type": "code",
   "execution_count": null,
   "id": "ffa3ecb5",
   "metadata": {},
   "outputs": [],
   "source": [
    "# Please write your executable code here\n",
    "results1 = smf.ols('annual_income ~ educ', data=df).fit()"
   ]
  },
  {
   "cell_type": "markdown",
   "id": "904f5f29",
   "metadata": {},
   "source": [
    "9. Write code to print a summary of the output"
   ]
  },
  {
   "cell_type": "code",
   "execution_count": null,
   "id": "dcb4de78",
   "metadata": {},
   "outputs": [],
   "source": [
    "# Please write your code here\n",
    "print(results1.summary())"
   ]
  },
  {
   "cell_type": "markdown",
   "id": "ace10189",
   "metadata": {},
   "source": [
    "### Exercise 5: Interpret the Regression Output"
   ]
  },
  {
   "cell_type": "markdown",
   "id": "a01a7699",
   "metadata": {},
   "source": [
    "- Based on the regression output from Exercise 4, answer the following:\n"
   ]
  },
  {
   "cell_type": "markdown",
   "id": "7382d4e0",
   "metadata": {},
   "source": [
    "10. Interpret the coefficient corresponding to the constant"
   ]
  },
  {
   "cell_type": "raw",
   "id": "c55244d7",
   "metadata": {},
   "source": [
    "The constant is the intercept of the regression line. It captures all other determinants of annual income that are not education.  It provides as estimate of the baseline annual income for the lowest education level.  There is are no values of education equal to zero in the dataset."
   ]
  },
  {
   "cell_type": "markdown",
   "id": "8f6fcba8",
   "metadata": {},
   "source": [
    "11. Intepret the coefficient on `educ`"
   ]
  },
  {
   "cell_type": "raw",
   "id": "580a0627",
   "metadata": {},
   "source": [
    "Please write your explanation here\n",
    "\n",
    "For every year of additional education, annual income is predicted to increase 8087.59"
   ]
  },
  {
   "cell_type": "markdown",
   "id": "6c9ed2c3",
   "metadata": {},
   "source": [
    "12. Interpret the value of R squared"
   ]
  },
  {
   "cell_type": "raw",
   "id": "2b4b1e78",
   "metadata": {},
   "source": [
    "Please write your explanation here.\n",
    "\n",
    "Variation in levels of education explains 11.16% of the variation in annual incomes"
   ]
  },
  {
   "cell_type": "markdown",
   "id": "91bf1f19",
   "metadata": {},
   "source": [
    "13. Is the relationship between education and annual income statistically significant?  Explain how you came to this conclusion. "
   ]
  },
  {
   "cell_type": "raw",
   "id": "1cd8c0cc",
   "metadata": {},
   "source": [
    "Please write your explanation here.\n",
    "\n",
    "Yes, the pvalue on the coefficient. This means we reject the null hypothesis that the coefficient is equal to zero."
   ]
  },
  {
   "cell_type": "markdown",
   "id": "2043c158",
   "metadata": {},
   "source": [
    "14. Create the residual plot for this regression. And discuss on patterns of the plot. Any issue you observe.\n",
    "\n",
    "*Hint*:\n",
    "- stats models does not include a built in plot method for this, but the residuals are an attribute of results. If you named the object that contains the regression results `results` then  `results.resid` returns a pandas series of residuals. \n",
    "- You can plot these using matplotlib. As usual, start with `fig, ax = plt.subplots()` and then follow with `ax.plot(results.resid, 'o')`.  The 'o' will make the plot dots instead of a line."
   ]
  },
  {
   "cell_type": "code",
   "execution_count": null,
   "id": "abb1da0b",
   "metadata": {},
   "outputs": [],
   "source": [
    "# Please write your executable code here\n",
    "fig, ax = plt.subplots()\n",
    "ax.plot(results1.resid, 'o')"
   ]
  },
  {
   "cell_type": "raw",
   "id": "dcf942b9",
   "metadata": {},
   "source": [
    "Please write your discussion here.\n",
    "Residuals look ok, except there are some obvious outliers. These are high levels of income that cannot be explained by education."
   ]
  },
  {
   "cell_type": "markdown",
   "id": "13cf8e81",
   "metadata": {},
   "source": [
    "### Exercise 6: Perform a Univariate Regression Analysis"
   ]
  },
  {
   "cell_type": "markdown",
   "id": "94814af6",
   "metadata": {},
   "source": [
    "- Perform a univariate regression analysis with educ as the dependent variable and male as the independent variable.\n",
    "- Perform another univariate regression analysis with annual income as the dependent variable and male as the independent variable.\n",
    "- Print the summary of the regression model.\n",
    "- Interpret the results (i.e., coefficients, statistical significance, and R-squared)"
   ]
  },
  {
   "cell_type": "markdown",
   "id": "4a1d2288",
   "metadata": {},
   "source": [
    "15. Write the coode for fitting a regression model with `educ` as the dependent variable and `male` as the independent variable using formula notation."
   ]
  },
  {
   "cell_type": "code",
   "execution_count": null,
   "id": "78a56325",
   "metadata": {},
   "outputs": [],
   "source": [
    "# Please write your executable code here\n",
    "results2 = smf.ols('educ ~ male', data=df).fit()"
   ]
  },
  {
   "cell_type": "markdown",
   "id": "4541e3ce",
   "metadata": {},
   "source": [
    "16. Print the output of the regression model."
   ]
  },
  {
   "cell_type": "code",
   "execution_count": null,
   "id": "528f5744",
   "metadata": {},
   "outputs": [],
   "source": [
    "# Please write your code to generate the summary here\n",
    "print(results2.summary())"
   ]
  },
  {
   "cell_type": "markdown",
   "id": "0df3d7b1",
   "metadata": {},
   "source": [
    "17. Interpret the results, including coefficients, statistical significance and $R^2$ "
   ]
  },
  {
   "cell_type": "raw",
   "id": "a95e8b71",
   "metadata": {},
   "source": [
    "Please write your explanation here.\n",
    "The intercept is the average education level of females. The coefficient is on males negative.  Males have less schooling of about 7.2 months or 0.6139 years.  This is statistically significant, meaning that there is a difference between average education of males and females in the sample. R squared is very small.  This is to be expected because variation in education is unlikely to influence the variation in gender in the population.\n"
   ]
  },
  {
   "cell_type": "markdown",
   "id": "3f8a3623",
   "metadata": {},
   "source": [
    "18. Write the coode for fitting a regression model with `annual income` as the dependent variable and `male` as the independent variable using formula notation."
   ]
  },
  {
   "cell_type": "code",
   "execution_count": null,
   "id": "46bf7187",
   "metadata": {},
   "outputs": [],
   "source": [
    "# Please write your executable code here\n",
    "results3 = smf.ols('annual_income ~ male', data=df).fit()\n"
   ]
  },
  {
   "cell_type": "markdown",
   "id": "abe9d9c4",
   "metadata": {},
   "source": [
    "19. Print the output of the regression model."
   ]
  },
  {
   "cell_type": "code",
   "execution_count": null,
   "id": "982ce664",
   "metadata": {},
   "outputs": [],
   "source": [
    "# Please write your code to generate the summary here\n",
    "print(results3.summary())"
   ]
  },
  {
   "cell_type": "markdown",
   "id": "7ea84e26",
   "metadata": {},
   "source": [
    "20. Interpret the results, including coefficients, statistical significance and $R^2$ "
   ]
  },
  {
   "cell_type": "raw",
   "id": "316bd0ed",
   "metadata": {},
   "source": [
    "The average income for females is 52960.  Makes earn, on average, 19660 more.  This is statistically significant meaning that incomes of males and females are statistically significant from zero. Variation in gender explains about 2.7% of variation in incomes."
   ]
  },
  {
   "cell_type": "code",
   "execution_count": null,
   "id": "288b77b8",
   "metadata": {},
   "outputs": [],
   "source": []
  },
  {
   "cell_type": "code",
   "execution_count": null,
   "id": "611f486a",
   "metadata": {},
   "outputs": [],
   "source": []
  }
 ],
 "metadata": {
  "kernelspec": {
   "display_name": "Python 3 (ipykernel)",
   "language": "python",
   "name": "python3"
  },
  "language_info": {
   "codemirror_mode": {
    "name": "ipython",
    "version": 3
   },
   "file_extension": ".py",
   "mimetype": "text/x-python",
   "name": "python",
   "nbconvert_exporter": "python",
   "pygments_lexer": "ipython3",
   "version": "3.10.14"
  }
 },
 "nbformat": 4,
 "nbformat_minor": 5
}
