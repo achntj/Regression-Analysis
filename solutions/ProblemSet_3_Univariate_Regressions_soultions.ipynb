{
 "cells": [
  {
   "cell_type": "markdown",
   "id": "5a58f1c5",
   "metadata": {},
   "source": [
    "# Problem Set 3: Univariate Regressions\n",
    "\n",
    "## 5 pts per question, 10 points out of 90 in total with 10 bonus points. \n",
    "\n",
    "### Summary and Motivation\n",
    "\n",
    "Problem Set 2 is designed to introduce students to the basics of regression analysis, a fundamental tool in data analytics and econometrics. By using the NLSY97 dataset, students will explore relationships between key variables such as education, gender, and hourly compensation. This problem set emphasizes practical experience with Python and the statsmodels library, reinforcing theoretical knowledge through hands-on data manipulation and analysis. By completing these exercises, students will gain a deeper understanding of univariate regression techniques, preparing them for more advanced multivariate analyses and real-world applications in economics and business.\n",
    "\n",
    "### Instruction\n",
    "The dataset data NLSY97.xlsx, available on CANVAS, contains all necessary information. These data are sourced from\n",
    "the NLSY97, a representative national database of individuals born in the early 1980s in the United States. Below are some variables we will use:\n",
    "- educ: number of years of education completed\n",
    "- gender: denotes the gender of the individual\n",
    "- minority: 1 if the individual belongs to a minority group, 0 otherwise.\n",
    "- mother_educ: 1 if the individual’s mother has a college degree, 0 otherwise.\n",
    "- annual_income: Annual income frome wages.\n",
    "- gpain8: GPA in 8th grade.\n",
    "- retention: 1 if the individual was required to repeat a grade during middle school, 0 otherwise.\n",
    "\n",
    "Please follow below questions and instructions to complete this problem set. In some questions, please write and execute Python code for data analysis in Cell mode. Comment your code to explain each step. Some questions need text discussion. Please Provide a detailed discussion of your results, including interpretations and answers to questions in Raw mode.\n",
    "\n",
    "Once you have completed the assignment, save your Jupyter notebook with the following naming convention: ECN394_ProblemSetX_LastName_FirstName.ipynb (replace X with the assignment number)."
   ]
  },
  {
   "cell_type": "markdown",
   "id": "dea6a1ba",
   "metadata": {},
   "source": [
    "### Exercise 1: Load and Explore the Dataset"
   ]
  },
  {
   "cell_type": "markdown",
   "id": "77a67b4e",
   "metadata": {},
   "source": [
    "- This is the same database we used for our previous problem set. Each row contains information for each individual in the sample. (check the previous problem set for the definition of the variables).\n",
    "- Load the needed libraries and dataset dataNLSY97.xlsx.\n",
    "- Display the first 10 rows of the dataset."
   ]
  },
  {
   "cell_type": "markdown",
   "id": "bf0ace1e",
   "metadata": {},
   "source": [
    "1. Code that loads the needed libraries and dataset."
   ]
  },
  {
   "cell_type": "code",
   "execution_count": 2,
   "id": "ebfb9f8e",
   "metadata": {},
   "outputs": [],
   "source": [
    "# Please write your executable code here\n",
    "import pandas as pd\n",
    "import numpy as np\n",
    "import matplotlib.pyplot as plt\n",
    "# import statsmodels\n",
    "import statsmodels.api as sm\n",
    "# import the module that allows us to use the formula notation\n",
    "import statsmodels.formula.api as smf\n",
    "df = pd.read_excel('../data_NLSY97.xlsx')\n"
   ]
  },
  {
   "cell_type": "markdown",
   "id": "cba2c19e",
   "metadata": {},
   "source": [
    "2. Code that displays the dataset variables names and types and display first 10 rows."
   ]
  },
  {
   "cell_type": "code",
   "execution_count": null,
   "id": "849260b1",
   "metadata": {},
   "outputs": [],
   "source": [
    "# Please write your executable code here\n",
    "df.head()\n"
   ]
  },
  {
   "cell_type": "markdown",
   "id": "edbc2226",
   "metadata": {},
   "source": [
    "3. Print out information about the data set that shows how many values in each column an the data types"
   ]
  },
  {
   "cell_type": "code",
   "execution_count": null,
   "id": "26ff4b0a",
   "metadata": {},
   "outputs": [],
   "source": [
    "df.info()"
   ]
  },
  {
   "cell_type": "markdown",
   "id": "6d3cf371",
   "metadata": {},
   "source": [
    "4. Does everything look as expected?  `float64` are columns that include numbers with decimal points. `objects` are non-numeric data. `int` are integers, or numbers without decimal points.  Comment on what you see below. "
   ]
  },
  {
   "cell_type": "raw",
   "id": "ee3b29f7",
   "metadata": {},
   "source": [
    "Everything looks good.  Gender is non-numeric. annual_income has less values that others "
   ]
  },
  {
   "cell_type": "markdown",
   "id": "0ac8e3b6",
   "metadata": {},
   "source": [
    "5. Provide a summary, descriptive statistics, of the dataset. "
   ]
  },
  {
   "cell_type": "code",
   "execution_count": null,
   "id": "36fce324",
   "metadata": {},
   "outputs": [],
   "source": [
    "# Please write your executable code here\n",
    "df.describe()"
   ]
  },
  {
   "cell_type": "markdown",
   "id": "9b46d86b",
   "metadata": {},
   "source": [
    "### Exercise 2: Create New Variables"
   ]
  },
  {
   "cell_type": "markdown",
   "id": "2c924dc1",
   "metadata": {},
   "source": [
    "6. Create a new variable named `male` (using the variable gender) that takes value 1 if the individual is a male, 0 otherwise."
   ]
  },
  {
   "cell_type": "code",
   "execution_count": null,
   "id": "6db955c3",
   "metadata": {},
   "outputs": [],
   "source": [
    "# Please write your executable code here\n",
    "gender = pd.get_dummies(df['gender'])\n",
    "df['male'] = gender['male']\n",
    "(df['gender']=='male').astype(int)"
   ]
  },
  {
   "cell_type": "markdown",
   "id": "a73ae72f",
   "metadata": {},
   "source": [
    "7. Create a new variable named `college` that takes value 1 if the individual completed at least 13 years of education, 0 otherwise"
   ]
  },
  {
   "cell_type": "code",
   "execution_count": null,
   "id": "94f5dabe",
   "metadata": {},
   "outputs": [],
   "source": [
    "# Please write your executable code here\n",
    "df['college'] = (df['educ'] >= 13).astype(int)\n",
    "df['college']\n"
   ]
  },
  {
   "cell_type": "markdown",
   "id": "e18c2488",
   "metadata": {},
   "source": [
    "### Exercise 4: Perform a Univariate Regression Analysis"
   ]
  },
  {
   "cell_type": "markdown",
   "id": "eb530288",
   "metadata": {},
   "source": [
    "- Using statsmodels, perform a univariate regression analysis with annual_income as the dependent variable and educ as the independent variable\n",
    "- Print the summary of the regression model."
   ]
  },
  {
   "cell_type": "markdown",
   "id": "79bbc957",
   "metadata": {},
   "source": [
    "8. Code for fitting the regression model using the formula notation"
   ]
  },
  {
   "cell_type": "code",
   "execution_count": null,
   "id": "ffa3ecb5",
   "metadata": {},
   "outputs": [],
   "source": [
    "# Please write your executable code here\n",
    "results1 = smf.ols('annual_income ~ educ', data=df).fit()"
   ]
  },
  {
   "cell_type": "markdown",
   "id": "904f5f29",
   "metadata": {},
   "source": [
    "9. Write code to print a summary of the output"
   ]
  },
  {
   "cell_type": "code",
   "execution_count": null,
   "id": "dcb4de78",
   "metadata": {},
   "outputs": [],
   "source": [
    "# Please write your code here\n",
    "print(results1.summary())"
   ]
  },
  {
   "cell_type": "markdown",
   "id": "ace10189",
   "metadata": {},
   "source": [
    "### Exercise 5: Interpret the Regression Output"
   ]
  },
  {
   "cell_type": "markdown",
   "id": "a01a7699",
   "metadata": {},
   "source": [
    "- Based on the regression output from Exercise 4, answer the following:\n"
   ]
  },
  {
   "cell_type": "markdown",
   "id": "7382d4e0",
   "metadata": {},
   "source": [
    "10. Interpret the coefficient corresponding to the constant"
   ]
  },
  {
   "cell_type": "raw",
   "id": "c55244d7",
   "metadata": {},
   "source": [
    "The constant is the intercept of the regression line. It captures all other determinants of annual income that are not education.  It provides as estimate of the baseline annual income for the lowest education level.  There is are no values of education equal to zero in the dataset."
   ]
  },
  {
   "cell_type": "markdown",
   "id": "8f6fcba8",
   "metadata": {},
   "source": [
    "11. Intepret the coefficient on `educ`"
   ]
  },
  {
   "cell_type": "raw",
   "id": "580a0627",
   "metadata": {},
   "source": [
    "Please write your explanation here\n",
    "\n",
    "For every year of additional education, annual income is predicted to increase 8087.59"
   ]
  },
  {
   "cell_type": "markdown",
   "id": "6c9ed2c3",
   "metadata": {},
   "source": [
    "12. Interpret the value of R squared"
   ]
  },
  {
   "cell_type": "raw",
   "id": "2b4b1e78",
   "metadata": {},
   "source": [
    "Please write your explanation here.\n",
    "\n",
    "Variation in levels of education explains 11.16% of the variation in annual incomes"
   ]
  },
  {
   "cell_type": "markdown",
   "id": "91bf1f19",
   "metadata": {},
   "source": [
    "13. Is the relationship between education and annual income statistically significant?  Explain how you came to this conclusion. "
   ]
  },
  {
   "cell_type": "raw",
   "id": "1cd8c0cc",
   "metadata": {},
   "source": [
    "Please write your explanation here.\n",
    "\n",
    "Yes, the pvalue on the coefficient. This means we reject the null hypothesis that the coefficient is equal to zero."
   ]
  },
  {
   "cell_type": "markdown",
   "id": "2043c158",
   "metadata": {},
   "source": [
    "14. Create the residual plot for this regression. And discuss on patterns of the plot. Any issue you observe.\n",
    "\n",
    "*Hint*:\n",
    "- stats models does not include a built in plot method for this, but the residuals are an attribute of results. If you named the object that contains the regression results `results` then  `results.resid` returns a pandas series of residuals. \n",
    "- You can plot these using matplotlib. As usual, start with `fig, ax = plt.subplots()` and then follow with `ax.plot(results.resid, 'o')`.  The 'o' will make the plot dots instead of a line."
   ]
  },
  {
   "cell_type": "code",
   "execution_count": null,
   "id": "abb1da0b",
   "metadata": {},
   "outputs": [],
   "source": [
    "# Please write your executable code here\n",
    "fig, ax = plt.subplots()\n",
    "ax.plot(results1.resid, 'o')"
   ]
  },
  {
   "cell_type": "raw",
   "id": "dcf942b9",
   "metadata": {},
   "source": [
    "Please write your discussion here.\n",
    "Residuals look ok, except there are some obvious outliers. These are high levels of income that cannot be explained by education."
   ]
  },
  {
   "cell_type": "markdown",
   "id": "13cf8e81",
   "metadata": {},
   "source": [
    "### Exercise 6: Perform a Univariate Regression Analysis"
   ]
  },
  {
   "cell_type": "markdown",
   "id": "94814af6",
   "metadata": {},
   "source": [
    "- Perform a univariate regression analysis with educ as the dependent variable and male as the independent variable.\n",
    "- Perform another univariate regression analysis with annual income as the dependent variable and male as the independent variable.\n",
    "- Print the summary of the regression model.\n",
    "- Interpret the results (i.e., coefficients, statistical significance, and R-squared)"
   ]
  },
  {
   "cell_type": "markdown",
   "id": "4a1d2288",
   "metadata": {},
   "source": [
    "15. Write the coode for fitting a regression model with `educ` as the dependent variable and `male` as the independent variable using formula notation."
   ]
  },
  {
   "cell_type": "code",
   "execution_count": null,
   "id": "78a56325",
   "metadata": {},
   "outputs": [],
   "source": [
    "# Please write your executable code here\n",
    "results2 = smf.ols('educ ~ male', data=df).fit()"
   ]
  },
  {
   "cell_type": "markdown",
   "id": "4541e3ce",
   "metadata": {},
   "source": [
    "16. Print the output of the regression model."
   ]
  },
  {
   "cell_type": "code",
   "execution_count": null,
   "id": "528f5744",
   "metadata": {},
   "outputs": [],
   "source": [
    "# Please write your code to generate the summary here\n",
    "print(results2.summary())"
   ]
  },
  {
   "cell_type": "markdown",
   "id": "0df3d7b1",
   "metadata": {},
   "source": [
    "17. Interpret the results, including coefficients, statistical significance and $R^2$ "
   ]
  },
  {
   "cell_type": "raw",
   "id": "a95e8b71",
   "metadata": {},
   "source": [
    "Please write your explanation here.\n",
    "The intercept is the average education level of females. The coefficient is on males negative.  Males have less schooling of about 7.2 months or 0.6139 years.  This is statistically significant, meaning that there is a difference between average education of males and females in the sample. R squared is very small.  This is to be expected because variation in education is unlikely to influence the variation in gender in the population.\n"
   ]
  },
  {
   "cell_type": "markdown",
   "id": "3f8a3623",
   "metadata": {},
   "source": [
    "18. Write the coode for fitting a regression model with `annual income` as the dependent variable and `male` as the independent variable using formula notation."
   ]
  },
  {
   "cell_type": "code",
   "execution_count": null,
   "id": "46bf7187",
   "metadata": {},
   "outputs": [],
   "source": [
    "# Please write your executable code here\n",
    "results3 = smf.ols('annual_income ~ male', data=df).fit()\n"
   ]
  },
  {
   "cell_type": "markdown",
   "id": "abe9d9c4",
   "metadata": {},
   "source": [
    "19. Print the output of the regression model."
   ]
  },
  {
   "cell_type": "code",
   "execution_count": null,
   "id": "982ce664",
   "metadata": {},
   "outputs": [],
   "source": [
    "# Please write your code to generate the summary here\n",
    "print(results3.summary())"
   ]
  },
  {
   "cell_type": "markdown",
   "id": "7ea84e26",
   "metadata": {},
   "source": [
    "20. Interpret the results, including coefficients, statistical significance and $R^2$ "
   ]
  },
  {
   "cell_type": "raw",
   "id": "316bd0ed",
   "metadata": {},
   "source": [
    "The average income for females is 52960.  Makes earn, on average, 19660 more.  This is statistically significant meaning that incomes of males and females are statistically significant from zero. Variation in gender explains about 2.7% of variation in incomes."
   ]
  },
  {
   "cell_type": "code",
   "execution_count": null,
   "id": "288b77b8",
   "metadata": {},
   "outputs": [],
   "source": []
  },
  {
   "cell_type": "code",
   "execution_count": null,
   "id": "611f486a",
   "metadata": {},
   "outputs": [],
   "source": []
  }
 ],
 "metadata": {
  "kernelspec": {
   "display_name": "Python 3 (ipykernel)",
   "language": "python",
   "name": "python3"
  },
  "language_info": {
   "codemirror_mode": {
    "name": "ipython",
    "version": 3
   },
   "file_extension": ".py",
   "mimetype": "text/x-python",
   "name": "python",
   "nbconvert_exporter": "python",
   "pygments_lexer": "ipython3",
   "version": "3.10.14"
  }
 },
 "nbformat": 4,
 "nbformat_minor": 5
}
