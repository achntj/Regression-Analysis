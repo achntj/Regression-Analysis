{
 "cells": [
  {
   "cell_type": "markdown",
   "id": "dfd32717",
   "metadata": {},
   "source": [
    "# Problem Set 5: Multivariate Regressions 2: Categorical Variables and Interaction Terms\n",
    "\n",
    "### Summary and Motivation\n",
    "This problem sets continues practing with multiariate regressions. And it focuses on enhancing students' understanding of multivariate regression by incorporating categorical variables, dummy variables, and interaction terms. Using the NLSY97 dataset, students will learn to handle complex data structures and interpret the impacts of categorical variables and their interactions on dependent variables. This problem set aims to provide practical experience in Python, reinforcing the theoretical concepts learned in class. \n",
    "\n",
    "\n",
    "### Instructions\n",
    "The dataset, data_NLSY97v2, are sourced from the NLSY97, a representative national database of individuals born in the early 1980s in the United States. Below are some variables we will use:\n",
    "- educ: number of years of education completed\n",
    "- annual_income: annual income that these individuals earned as adults\n",
    "- TotalWeeksExp: Total weeks of work experience of the individual\n",
    "- gender: denotes the gender of the individual\n",
    "- minority: 1 if the individual belongs to a minority group, 0 otherwise.\n",
    "- m_college: 1 if the individual’s mother has a college degree, 0 otherwise.\n",
    "- family income: Annual family income when these individuals were teenagers, reported in thousands.\n",
    "- gpain8: GPA in 8th grade.\n",
    "- retention: 1 if the individual was required to repeat a grade during middle school, 0 otherwise.\n",
    "\n",
    "Columns of scores from the AFQT test.  The values are measured as standard deviations from the mean.  A value of '0' means the individual earned the average score.  A value of '-1' means the indivial earned a score one standard deviation below the average. \n",
    "- asvabAR: skills in arithmetic reasoning\n",
    "- asvabMK: skills in mathematical knowledge\n",
    "- asvabPC: skills in paragraph comprehension\n",
    "- asvabWK: skills in word knowledge\n",
    "- AFTQ: average of the above 4 scores \n",
    "\n",
    "Please follow the questions and instructions below to complete this problem set. For some questions, please write and execute Python code for data analysis in Cell mode. Comment your code to explain each step. Some questions need text discussion. Please provide a detailed discussion of your results, including interpretations and answers to questions in Raw mode.\n",
    "\n",
    "Once you have completed the assignment, save your Jupyter notebook with the following naming convention: ECN310_ProblemSetX_LastName_FirstName.ipynb (replace X with the assignment number)."
   ]
  },
  {
   "cell_type": "markdown",
   "id": "ece1c951",
   "metadata": {},
   "source": [
    "### Exercise 1: Load the Dataset and Libraries, Data Cleaning and Engineering\n",
    "\n",
    "1. Load needed libraries and the dataset data_NLSY97v2.xlsx, check the info about the datframe and get descritive statistics. "
   ]
  },
  {
   "cell_type": "code",
   "execution_count": 1,
   "id": "6d44a459",
   "metadata": {},
   "outputs": [],
   "source": [
    "# Write your code here"
   ]
  },
  {
   "cell_type": "markdown",
   "id": "6c3c2515",
   "metadata": {},
   "source": [
    "2. Add a column `college` to the data set that is an indicator variable that takes on a value of 1 if students have more than 13 years of education.  _Note_: This must be correct for the next question.  Please post in the discussion if you have trouble creating this variable.\n",
    "\n",
    "\n"
   ]
  },
  {
   "cell_type": "code",
   "execution_count": 2,
   "id": "1577e2e8",
   "metadata": {},
   "outputs": [],
   "source": [
    "# Please write your executable code here\n"
   ]
  },
  {
   "cell_type": "markdown",
   "id": "7705840c",
   "metadata": {},
   "source": [
    "3.   Later on in the  problem set, we will take the log of experience.  Since we cannot take the log of 0, we will assume that all workers who have 0 experience have at least 1 day.\n",
    "Create another variable called `exper` that transforms the variable TotalWeeksExp into years of experience by adding 1 to TotalWeeksExp and dividing by 52.14.\n",
    "\n",
    "Hint: `df['exper'] = (df['TotalWeeksExp'] + 1)/52.14` "
   ]
  },
  {
   "cell_type": "code",
   "execution_count": 3,
   "id": "754c1cbc",
   "metadata": {},
   "outputs": [],
   "source": [
    "# Please write your executable code here\n"
   ]
  },
  {
   "cell_type": "markdown",
   "id": "b43466fd-34b9-444e-a50d-3268a1b295d1",
   "metadata": {},
   "source": [
    "3. Create a new variable in the dataframe called `female` that takes on value of 1 if the individual is female and 0 otherwire "
   ]
  },
  {
   "cell_type": "code",
   "execution_count": 4,
   "id": "6d7b11b6-dab0-433e-a073-31ba501fc789",
   "metadata": {},
   "outputs": [],
   "source": [
    "# write your code here"
   ]
  },
  {
   "cell_type": "markdown",
   "id": "2d132704-2930-497b-8324-5cc0131cf3d4",
   "metadata": {},
   "source": [
    "### Exercise 2: A linear probability model\n",
    "In earlier problem sets, we have seend that years of education is a statistically significant determinant of annual income.  We can use the tools of multivariate regression to make inferences about the probability or likelihood that and individual attends college.\n",
    "\n",
    "1. Using statsmodels formula notation, perform a univariate regression with `college` and the dependent variable and `female` as the independent variable. Print the results and interpret the constant and the coefficient on female."
   ]
  },
  {
   "cell_type": "code",
   "execution_count": 5,
   "id": "8cc5cd6e-0f4d-413e-950e-4f5b955e767c",
   "metadata": {},
   "outputs": [],
   "source": [
    "# Write your executable code here\n"
   ]
  },
  {
   "cell_type": "raw",
   "id": "80339a19-3dab-4c3c-a49b-1f1b639d630d",
   "metadata": {},
   "source": [
    "Write your interpretation here"
   ]
  },
  {
   "cell_type": "markdown",
   "id": "9f72e5d2-9890-4285-88ec-339267c5b3d2",
   "metadata": {},
   "source": [
    "2. Now include the indicator variables `minority` and `m_college` in your regression. Your regession should be `college` as the dependent variable and `female`, `minority` and `m_college` as independent variables.  Run the regression and interpret the coefficients. \n",
    "\n",
    "In your interpretation, answer what the model suggests about probability a minority male whose mother has attended college has also attended college?"
   ]
  },
  {
   "cell_type": "code",
   "execution_count": 6,
   "id": "a01668d4-60fd-42b8-b613-1e8e08954640",
   "metadata": {},
   "outputs": [],
   "source": [
    "# Write your code here\n"
   ]
  },
  {
   "cell_type": "raw",
   "id": "854008e1-b889-4a35-a852-d5ac306d83a3",
   "metadata": {},
   "source": [
    "Write your interpretation here \n"
   ]
  },
  {
   "cell_type": "markdown",
   "id": "d98476cd-ee06-4820-8b67-9fa4dfbff6c8",
   "metadata": {},
   "source": [
    "3. What happens when you add the variable `White` to the regression.  Do you think it makes sense to include this variable?  Why or why not."
   ]
  },
  {
   "cell_type": "code",
   "execution_count": 7,
   "id": "d1d6622e-a985-4b2f-a3c9-e7cac8faee88",
   "metadata": {},
   "outputs": [],
   "source": [
    "# Write code here (optional) you can answer the question without code."
   ]
  },
  {
   "cell_type": "raw",
   "id": "b4ec2cd1-77f6-4174-b351-dfe19ea4227b",
   "metadata": {},
   "source": [
    "Provide your explanation here"
   ]
  },
  {
   "cell_type": "markdown",
   "id": "e7e3f0c1",
   "metadata": {},
   "source": [
    "### Exercise 3: Multivariate Regression Analysis\n",
    "\n",
    "#### Linear versus logged dependend variable\n",
    "\n",
    "1. Using statsmodels formula notation, perform a multivariate regression analysis with `Annual_Income` as the dependent variable and  `educ`, `exper`, `female`, and `AFQT` as the independent variables. A constant should be included by default.\n",
    "\n",
    "Interpret the coefficients and comment on siginifance of the coefficients in the space below.\n",
    "\n",
    "Write your code for fitting the model and print the summary of the regression model. "
   ]
  },
  {
   "cell_type": "code",
   "execution_count": 8,
   "id": "8c9088ec",
   "metadata": {},
   "outputs": [],
   "source": [
    "# Please write your executable code here\n"
   ]
  },
  {
   "cell_type": "markdown",
   "id": "a9b2ffea-c450-4258-8022-e2729f179ad4",
   "metadata": {},
   "source": [
    "Provide your comments here"
   ]
  },
  {
   "cell_type": "markdown",
   "id": "04a73028-9f0c-4e0e-ab21-c070b6a354f6",
   "metadata": {},
   "source": [
    "#### Logged variables"
   ]
  },
  {
   "cell_type": "markdown",
   "id": "9434ec0e-9a62-43fe-804a-5996d859c077",
   "metadata": {},
   "source": [
    "2a. Run the regression with `log(Annual_Income)` as the dependent variable and the same independent variables, that is `educ`, `exper`, `female`, and `AFQT`. Interpret each of the coefficients and note their significance."
   ]
  },
  {
   "cell_type": "code",
   "execution_count": 9,
   "id": "dc5b6e3f-47d0-47b2-9913-d9fcf538e90d",
   "metadata": {},
   "outputs": [],
   "source": [
    "# write your code here\n"
   ]
  },
  {
   "cell_type": "raw",
   "id": "bdf5ad6b-e4a2-468b-80ce-b325993be725",
   "metadata": {},
   "source": [
    "Write your interpretation here "
   ]
  },
  {
   "cell_type": "markdown",
   "id": "7a29ef66-3440-4a5b-9200-a739bb56a42f",
   "metadata": {},
   "source": [
    "2b. Run the regression again, but this time also take the log of `exper`. That is, `educ`, `log(exper)`, `female`, and `AFQT` as independent variables and `log(Annual_Income)` as the dependent variable. . \n",
    "\n",
    "Interpret the coefficient of `log(exper)`.  Compare the $R^2$ valuesthe model with logged experience and linear experience, which do you think a better choice?"
   ]
  },
  {
   "cell_type": "code",
   "execution_count": 10,
   "id": "489c4263-e126-497a-b329-7eab5d9aa49d",
   "metadata": {},
   "outputs": [],
   "source": [
    "# write your code here"
   ]
  },
  {
   "cell_type": "raw",
   "id": "91eddaa9",
   "metadata": {},
   "source": [
    "Add your interpretation here"
   ]
  },
  {
   "cell_type": "markdown",
   "id": "a2b4fead-0620-4b4b-aad8-64378c745057",
   "metadata": {},
   "source": [
    "#### Interaction Terms:\n",
    "\n",
    "4a. Create a new variable, `female_educ` that is equal to the column `female`  multiplied by the column `educ`. This will allow us to add an interaction term to our model"
   ]
  },
  {
   "cell_type": "code",
   "execution_count": 11,
   "id": "044d39b8",
   "metadata": {},
   "outputs": [],
   "source": [
    "# Write your executable code here\n"
   ]
  },
  {
   "cell_type": "markdown",
   "id": "d1ede8e3",
   "metadata": {},
   "source": [
    "4b. Return to the linear form of `exper` and add `female_educ` to the regression with the logged annual income and and comment on significance and interpetation of the coefficient `female_educ`.  \n",
    "\n",
    "Your dependent variable is `log(Annual_Income)` and independent variables should be `educ` , `exper`,   `AFQT`,  `female`, `minority`, `female_educ`.  Interpet the coefficients on `educ`, `female` and `female_educ`.  _Note:_ significance is important."
   ]
  },
  {
   "cell_type": "code",
   "execution_count": 12,
   "id": "5702b5b0",
   "metadata": {},
   "outputs": [],
   "source": [
    "# Please write your executable code here\n"
   ]
  },
  {
   "cell_type": "raw",
   "id": "de00263a",
   "metadata": {},
   "source": [
    "Please write your discussion here."
   ]
  },
  {
   "cell_type": "markdown",
   "id": "5592666d-f41f-4fb8-891b-bb94f94de289",
   "metadata": {},
   "source": [
    "4c. Create a new variable, `minority_educ` that is the column `minority` multiplied by the column `educ`"
   ]
  },
  {
   "cell_type": "code",
   "execution_count": 13,
   "id": "6f433895-1c79-4b8f-8bb3-d6d3639b1350",
   "metadata": {},
   "outputs": [],
   "source": [
    "# Write your executable code here\n"
   ]
  },
  {
   "cell_type": "markdown",
   "id": "b1ed2694-2d66-4a3e-a722-cd2e11ae2b7c",
   "metadata": {},
   "source": [
    "4d. Add `minority_educ` to the regression. Your independent variables should be `educ` , `exper`,   `AFQT`,  `female`, `minority`, `female_educ`, `minority_educ`.  Your dependent variable is `log(Annual_Income)`  \n",
    "\n",
    "\n",
    "Print the results and intepret the coefficients on `minority` and `minority_educ`. What do the coefficients suggest about the return to education for minorities?\n"
   ]
  },
  {
   "cell_type": "code",
   "execution_count": 14,
   "id": "e9dbba39-666d-4264-9ff4-15accf2554ec",
   "metadata": {},
   "outputs": [],
   "source": [
    "# Write your code here"
   ]
  },
  {
   "cell_type": "raw",
   "id": "f14dc489",
   "metadata": {},
   "source": [
    "Include your discussion here\n"
   ]
  },
  {
   "cell_type": "markdown",
   "id": "f54db02b",
   "metadata": {},
   "source": [
    "#### Exercise 4: Model Specification"
   ]
  },
  {
   "cell_type": "markdown",
   "id": "dc7a9a49",
   "metadata": {},
   "source": [
    "1. Compare all model specifications, e.g., logged dependent variable, logged independent variables, interactions, and variables to include (you can add more from the data set, if you choose), and select. the model that you think does the best job describing the effect of education on annual income. Run the regression and print the summary. _Create and run as many as you like, but only include one in your final submission_. Explain why you think it is the best."
   ]
  },
  {
   "cell_type": "code",
   "execution_count": 15,
   "id": "53850b8d",
   "metadata": {},
   "outputs": [],
   "source": [
    "# Please write your executable code here\n"
   ]
  },
  {
   "cell_type": "raw",
   "id": "ccf786eb-8873-49e8-a8d2-927af87d66c4",
   "metadata": {},
   "source": [
    "Add your discussion here"
   ]
  },
  {
   "cell_type": "markdown",
   "id": "2a72932a-d4c0-4bdb-815f-874747cddc81",
   "metadata": {},
   "source": [
    "#### Exercise 5: Omitted variables and Measurement errors"
   ]
  },
  {
   "cell_type": "markdown",
   "id": "dbc7bd99-194f-4d7c-8163-812a6805d503",
   "metadata": {},
   "source": [
    "_Research goal_: We want to understand how education affects annual income."
   ]
  },
  {
   "cell_type": "markdown",
   "id": "086632d5-b66c-4bd5-bfd0-3c454f38eb63",
   "metadata": {},
   "source": [
    "1. (a) Provide an example of an omitted variable that we want to include in the regression, but we don't have in the current dataset.  It can be something that data could be collected on, but was left out, or something that is difficult or impossible to collect data on.   "
   ]
  },
  {
   "cell_type": "raw",
   "id": "29f7a15b-0afc-4cdc-8118-a7c13e86e0d2",
   "metadata": {},
   "source": [
    "Please write your explanation here"
   ]
  },
  {
   "cell_type": "markdown",
   "id": "c57f49ab-e485-45d8-8221-0264c2c7a309",
   "metadata": {},
   "source": [
    "1. (b) Do you think that by omitting this variable our conclusions about the effect of education on annual income are biased? What direction is the bias (upward or downward)?"
   ]
  },
  {
   "cell_type": "code",
   "execution_count": null,
   "id": "84127779-7470-4782-be53-1e2f590deba9",
   "metadata": {},
   "outputs": [],
   "source": [
    "Please write your explanation here"
   ]
  },
  {
   "cell_type": "markdown",
   "id": "7fe6c704-9139-45e3-b167-c1931e2d8099",
   "metadata": {},
   "source": [
    "2. The annual income is self-reported. There is measurement error in it. Can you tell me your best guess on the direction of the bias?"
   ]
  },
  {
   "cell_type": "code",
   "execution_count": null,
   "id": "829069de-dc90-4439-90b6-e86900fc8a76",
   "metadata": {},
   "outputs": [],
   "source": [
    "Please write your explanation here"
   ]
  },
  {
   "cell_type": "code",
   "execution_count": 16,
   "id": "94ff8162-dc91-446d-b79a-d3191feb83a1",
   "metadata": {},
   "outputs": [],
   "source": [
    "# before submitting, run the by clicking the >> button at the top.  Make sure everything runs before you turn it in."
   ]
  }
 ],
 "metadata": {
  "kernelspec": {
   "display_name": "Python 3 (ipykernel)",
   "language": "python",
   "name": "python3"
  },
  "language_info": {
   "codemirror_mode": {
    "name": "ipython",
    "version": 3
   },
   "file_extension": ".py",
   "mimetype": "text/x-python",
   "name": "python",
   "nbconvert_exporter": "python",
   "pygments_lexer": "ipython3",
   "version": "3.12.4"
  }
 },
 "nbformat": 4,
 "nbformat_minor": 5
}
