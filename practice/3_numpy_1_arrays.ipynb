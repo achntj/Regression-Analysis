{
 "cells": [
  {
   "cell_type": "markdown",
   "id": "937d07c4-d4d2-4ebf-9e3c-1414ede4e63e",
   "metadata": {},
   "source": [
    "# Numpy part 1 - working with arrays"
   ]
  },
  {
   "cell_type": "markdown",
   "id": "0b7b034a-f371-4bab-a752-a65dac305ae4",
   "metadata": {},
   "source": [
    "## Prerequsites \n",
    "- Python basics part 1\n",
    "- Python basics part 2"
   ]
  },
  {
   "cell_type": "markdown",
   "id": "47116a25-de06-413e-93e0-3e18746c76c1",
   "metadata": {},
   "source": [
    "## Learning objectives \n",
    "- Import the numpy package\n",
    "- Create data arrays from lists\n",
    "- Generate data arrays using built-in numpy functions\n",
    "- Generate arrays of random numbers\n",
    "- Select and slice portions of data arrays"
   ]
  },
  {
   "cell_type": "markdown",
   "id": "04d8b8ab-f4f2-4986-9e88-b615567b72c8",
   "metadata": {},
   "source": [
    "## References\n",
    "- https://wesmckinney.com/book/numpy-basics (primary)\n",
    "- https://numpy.org/doc/stable/user/absolute_beginners.html (secondary)"
   ]
  },
  {
   "cell_type": "markdown",
   "id": "72a3747a-0128-4395-a233-baa44b2995a0",
   "metadata": {},
   "source": [
    "### Import the numpy package\n",
    "- A Python package contains multiple \"functions\" that help you do different more advanced computations, e.g., machine learning algorithms. \n",
    "- We start from the most basic (yet most popular) package: `numpy` -- array and matrix operations (more on this later)\n",
    "    - For those who know MATLAB (no worries at all if you don't), this package gives functionality comparable to MATLAB.\n",
    "- How to install/import the package?\n",
    "    - Simple: `import numpy as np`. What does it mean?\n",
    "    - It means: (i) I want to import `numpy`; (ii) I want to name the package as `np` -- so that every time I use this package, I only need to write `np.` (don't forget the dot after `np`). \n",
    "    - Import numpy by executing the code block below"
   ]
  },
  {
   "cell_type": "code",
   "execution_count": null,
   "id": "0ea343a2-bba8-4417-ba2d-316cce085715",
   "metadata": {},
   "outputs": [],
   "source": [
    "import numpy as np"
   ]
  },
  {
   "cell_type": "markdown",
   "id": "74bb03c5-cbac-4b47-9dc3-4ad883e88020",
   "metadata": {},
   "source": [
    "#### Create an array using numpy\n",
    "- Array is a power tool in numpy. It can be a vector (one-dimensional), a matrix (two-dimensional), or even a high-dimensional object.\n",
    "- Create an array: `np.array()`. What does the dot mean?\n",
    "    - In my own words: \"under the package numpy (np), we use a sub-package called array\". \n",
    "- Let's create a one-dimensional array -- Try both on your own. \n",
    "    - We can do it by using a (numeric) list -- recall from our last Python note -- my preferred way.\n",
    "    - `list_1 = [ 1, 20, 4.1, 5]`\n",
    "    - `array_1 = np.array(list_1)`\n",
    "    - Or we can create it directly.\n",
    "    - `array_1 = np.array([1, 20, 4.1, 5])`"
   ]
  },
  {
   "cell_type": "code",
   "execution_count": null,
   "id": "3cb3a0bf-2004-49f2-960d-a1c6b6b25f9c",
   "metadata": {},
   "outputs": [],
   "source": [
    "list_1 = [ 1, 20, 4.1, 5]\n",
    "array_1 = np.array(list_1)\n",
    "print(array_1)"
   ]
  },
  {
   "cell_type": "markdown",
   "id": "88cc4bdc-b47f-4a49-a89e-e56c2e833431",
   "metadata": {},
   "source": [
    "#### Create a multi-dimensional array from lists\n",
    "- Verify in the code block below that both of the following gives you an array with two rows and four columns\n",
    "- `list_1 = [ 1, 20, 4.1, 5]`\n",
    "- `list_2 = [3, 4.1, 2, 8]`\n",
    "- `array_2 = np.array([list_1, list_2])` or `array_2 = np.array([[ 1, 20, 4.1, 5], [3, 4.1, 2, 8]])`\n",
    "  - Note 1: you must put '`[]`' around list_1, list_2.\n",
    "  - Note 2: your lists must be the same length. Otherwise, you get an error."
   ]
  },
  {
   "cell_type": "code",
   "execution_count": null,
   "id": "2a0f806b-c808-458e-a036-6200e2a0bbde",
   "metadata": {},
   "outputs": [],
   "source": [
    "list_1 = [1, 20, 4.1, 5]\n",
    "list_2 = [3, 4.1, 2, 8]\n",
    "array_2 = np.array([list_1, list_2]) \n",
    "print(array_2)"
   ]
  },
  {
   "cell_type": "markdown",
   "id": "9b01a8d6-26d4-4999-9b1c-02147e7d226b",
   "metadata": {},
   "source": [
    "### Create arrays using built-in numpy functions "
   ]
  },
  {
   "cell_type": "markdown",
   "id": "69acaa49-be6e-4b50-82b8-f969d8b7b143",
   "metadata": {},
   "source": [
    "#### Create arrays with zeros -- `np.zeros()` \n",
    "- What if you want to create an array like `[0,0,0,0,0,0,0,0,0,0]`?\n",
    "- The function `np.zeros(10)` generates an array of 10 zeros -- note it creates `0.` (dot) indicating it is a float number.\n",
    "- What's more: the function `np.zeros([10, 2])` generates an array with 10 rows and two columns, all zeros."
   ]
  },
  {
   "cell_type": "code",
   "execution_count": null,
   "id": "31799d5b-4b8f-4dba-b149-3c96b4757065",
   "metadata": {},
   "outputs": [],
   "source": [
    "np.zeros(10)"
   ]
  },
  {
   "cell_type": "markdown",
   "id": "3a22d1bb-39fd-41fd-8b2f-6410079f81e4",
   "metadata": {},
   "source": [
    "#### Create arrays with ones -- `np.ones()`\n",
    "- What if you want to create an array like `[1,1,1,1,1,1,1,1,1,1]`?\n",
    "- The function `np.ones(10)` generates an array of 10 ones. -- try `np.ones([10, 2])` too."
   ]
  },
  {
   "cell_type": "code",
   "execution_count": null,
   "id": "a15db33e-5b1b-44e5-9f32-0b37c8585b79",
   "metadata": {},
   "outputs": [],
   "source": [
    "np.ones(10)"
   ]
  },
  {
   "cell_type": "markdown",
   "id": "680ac113-cd1f-4d17-bc0b-e3ac4c5aca99",
   "metadata": {},
   "source": [
    "#### Create arrays with twos -- np.twos() ???\n",
    "- NO.\n",
    "- A small twist: we can do it with `np.ones()`: try `np.ones(10)*2` -- same logic goes for other numbers. "
   ]
  },
  {
   "cell_type": "code",
   "execution_count": null,
   "id": "7ac38796-ca8b-444e-a465-aefed5f43b76",
   "metadata": {},
   "outputs": [],
   "source": [
    "np.ones(10)*2"
   ]
  },
  {
   "cell_type": "markdown",
   "id": "dee35747-ef69-469a-af62-c499c6303ae8",
   "metadata": {},
   "source": [
    "#### Create (slightly more complicated) arrays using `np.arange()`\n",
    "- What if you want to create an array like `[0,1,2,3,4,5,6,7,8,9]`?\n",
    "- Numpy has a built-in function for you: `np.arange(0,10,1)`. What it means?\n",
    "    - (i) it creates an array starting with _0_\n",
    "    - (ii) it terminates __before__ (!) 10 \n",
    "    - (iii) it increases by _1_.\n",
    "- Try this below. "
   ]
  },
  {
   "cell_type": "code",
   "execution_count": null,
   "id": "7d246127-3090-44a6-b535-17cce407af0e",
   "metadata": {},
   "outputs": [],
   "source": [
    "np.arange(0,10,1)"
   ]
  },
  {
   "cell_type": "markdown",
   "id": "7ae8166b-acbe-43d6-ab06-77e1c9703881",
   "metadata": {},
   "source": [
    "- Try `np.arange(0,10,0.1)` -- increment is 0.1\n",
    "- Try `np.arange(1,10,1)` -- starting from 1 with increment by 1"
   ]
  },
  {
   "cell_type": "code",
   "execution_count": null,
   "id": "e4a39e32-5277-4052-8cfd-ae2adb5a1d94",
   "metadata": {},
   "outputs": [],
   "source": []
  },
  {
   "cell_type": "code",
   "execution_count": null,
   "id": "da6ed87f-12f9-490d-96a8-823ff244a85b",
   "metadata": {},
   "outputs": [],
   "source": []
  },
  {
   "cell_type": "markdown",
   "id": "b7005567-634b-4781-b009-c628978748b5",
   "metadata": {},
   "source": [
    "#### Some additional notes about `np.arange()`\n",
    "- `np.arange(10)` is short for `np.arange(0,10,1)`\n",
    "    - because 0 is the default setting for the first argument, and 1 is the default setting for the third argument.\n",
    "- `np.arange(1, 10)` is short for `np.arange(1,10,1)`\n",
    "    - again, 1 is the default setting for the third argument.\n",
    "- It depends on your preference and tastes, but missing arguments is not my own preferred way of coding."
   ]
  },
  {
   "cell_type": "code",
   "execution_count": null,
   "id": "4799c039-dd7f-4362-bb0a-ef12c9a801cd",
   "metadata": {},
   "outputs": [],
   "source": []
  },
  {
   "cell_type": "markdown",
   "id": "9a281b3e-98a8-4dd2-8056-dba2cfcdb7e5",
   "metadata": {},
   "source": [
    "### Random numbers generators\n",
    "- numpy includes a module \"random\" that we can call with `np.random`.\n",
    "- The `np.random` module includes (not limited to) the following functions to generate random numbers:\n",
    "    - `np.random.rand()` returns a random uniformly drawn 0 and 1.\n",
    "    - `np.random.randint()` returns a random _integer_ uniformly drawn between two bounds (details below).\n",
    "    - `np.random.random()` returns a (pseudo) random number drawn from a uniform distribution ranging between 0 and 1\n",
    "    - `np.random.normal()` returns random numbers drawn from a normal distribution\n",
    "    - `np.random.standard_normal()` returns random numbers drawn from a _standard_ normal distribution"
   ]
  },
  {
   "cell_type": "markdown",
   "id": "c58d977a-24d3-4dbc-9b07-e912cd753f1b",
   "metadata": {},
   "source": [
    "#### Create random numbers and arrays of random numbers -- `np.random.randint()`\n",
    "- the function `np.random.randint(10)` returns a random integer uniformly drawn between __0__ and 10.  -- __Note__: The maximum possible number returned is 9 (not 10)\n",
    "- You can specify the lower bound (first argument/input) and upper bound (second argument)\n",
    "    - the function `np.random.randint(1,high=7)` returns a random integer uniformly drawn between 1 and 7 -- The highest integer returned is 6 (not 7).\n",
    "- You can generate an array instead of a single number:\n",
    "    - the function `np.random.randint(1,high=7, size=(5,3))` returns an array with 5 rows and 3 columns, each with a random number between 1 and 7.\n",
    "    - experiment with creating random integers of arrays of varying sizes.  Confirm that the 'high' values are never drawn."
   ]
  },
  {
   "cell_type": "code",
   "execution_count": null,
   "id": "bd0ea9a0-4bab-4435-8d4b-5fcc64deb4cb",
   "metadata": {},
   "outputs": [],
   "source": []
  },
  {
   "cell_type": "markdown",
   "id": "930b8824-d509-4cc0-9598-4ca0d2225bc2",
   "metadata": {},
   "source": [
    "#### Create arrays of random numbers from normal distributions - `np.random.random`, `np.random.standard_normal`, `np.random.normal`\n",
    "- Recall that the function `np.random.random()` returns a (pseudo)random number drawn from a uniform distribution ranging between 0 and 1\n",
    "    - `np.random.random(size=(4, 3))` returns an array with 4 rows and 3 columns, each with a random number drawn from a uniform distribution ranging between 0 and 1\n",
    "- `np.random.standard_normal(size=(2,2))` returns an array with 2 rows and 2 columns, each with a random number drawn from a standard normal distribution.\n",
    "    - _Recall_: a standard normal distribution is a normal distribution with a mean of 0 and a standard deviation of 1.\n",
    "- `np.random.normal(loc=4, scale=5, size=(3, 5))` returns an array with 3 rows and 5 columns,\n",
    "    - each with a random number drawn from a normal distribution with a mean of 4 and a standard deviation of 5.\n",
    "- Experiment with creating arrays of different sizes with random numbers drawn from uniform and normal distributions.  If you want only one number, do not specify the size.\n",
    "- execute `np.random?` (question mark included) in the code block below to learn more about the different distributions you could choose.\n",
    "    - Hint: the question mark `?` is also a built-in function in Python that works as asking Python \"What does xxx mean?\" In this case xxx refers to `np.random`"
   ]
  },
  {
   "cell_type": "code",
   "execution_count": null,
   "id": "fd4d43bb-38a3-457b-81b3-6257be573d89",
   "metadata": {},
   "outputs": [],
   "source": []
  },
  {
   "cell_type": "markdown",
   "id": "ec33fb7a-682c-4735-814b-933215090654",
   "metadata": {},
   "source": [
    "### Size and shape of numpy arrays"
   ]
  },
  {
   "cell_type": "code",
   "execution_count": null,
   "id": "7a46d872-88aa-4974-8de9-09c9e8b1a881",
   "metadata": {},
   "outputs": [],
   "source": [
    "# run this code block to create the example array called 'sta'\n",
    "# notice the array prints below the code block\n",
    "sta = np.array([[1, 2, 3, 4], [7, 8, 9, 10], [4, 5, 6, 12]])\n",
    "print(sta)"
   ]
  },
  {
   "cell_type": "markdown",
   "id": "414e70e9-4db0-4157-8239-b90e9446cf15",
   "metadata": {},
   "source": [
    "- The numpy array object `sta` carries a few _attributes_. The following codes help you find these attributes:\n",
    "- `sta` has the attribute 'size':  `sta.size` returns the number of elements in the array.\n",
    "    - This returns the number of elements without regard to the number of rows and columns\n",
    "- `sta` also has an attribute of 'shape'. `sta.shape` returns a tuple with the number of rows and columns of the array sta   \n",
    "    - Aside: the built-in function `len(sta)` returns the number of rows in the array, not the number of elements.\n",
    "- In the code block below, experiment with .size, .shape, and len()\n",
    "- create some new arrays with different names and check sizes and shapes "
   ]
  },
  {
   "cell_type": "code",
   "execution_count": null,
   "id": "7c52cdbc-f96a-4a89-bb50-3d09352fa4b6",
   "metadata": {},
   "outputs": [],
   "source": [
    "sta.size"
   ]
  },
  {
   "cell_type": "code",
   "execution_count": null,
   "id": "00d9dedb-ad82-47a1-bdb1-1b9471122609",
   "metadata": {},
   "outputs": [],
   "source": [
    "sta.shape"
   ]
  },
  {
   "cell_type": "code",
   "execution_count": null,
   "id": "4a81251c-ac84-4001-af30-b72830fe99ae",
   "metadata": {},
   "outputs": [],
   "source": [
    "len(sta)"
   ]
  },
  {
   "cell_type": "markdown",
   "id": "5b815982-d50b-416b-a3c1-369e20ebb3b1",
   "metadata": {},
   "source": [
    "### Selecting, indexing, and slicing numpy arrays\n",
    "#### Selecting ranges of arrays\n",
    "- Use square brackets `[]` when selecting elements of an array\n",
    "- Use a `:` to indicate a range of values.  A `:` on its own means take a whole row or column.\n",
    "- The first row or column is indexed with a '0', the last row or column is indexed with '-1'\n",
    "- `sta[0,0]` returns the first row and first column of sta\n",
    "- `sta[0,]`, `sta[0,:]`, `sta[0:1]` all return the first row and all columns of sta.\n",
    "- `sta[0:2]`, `sta[0:2,]`, `sta[0:2,:]` all return the first _two_ rows and all columns of sta.\n",
    "- `sta[1:3, 2:4]` retuns the 2nd and 3rd row of sta and the 3rd and 4th columns.\n",
    "- `sta[1:-1, -1]` returns the 2nd row and all rows after it (regardless of how many) and the last column of sta \n",
    "- experiment with indexing in the code block below.  What would you enter to get the 1st and second row and 2nd and 3rd columns?"
   ]
  },
  {
   "cell_type": "code",
   "execution_count": null,
   "id": "642bc4d7-b923-4ce9-9645-b82ae1d8f3ce",
   "metadata": {},
   "outputs": [],
   "source": [
    "sta[0:2,:]"
   ]
  },
  {
   "cell_type": "markdown",
   "id": "21af2c56-ba42-4088-b04a-1b1aecc24d38",
   "metadata": {},
   "source": [
    "#### Selecting specific rows and columns\n",
    "- `sta[[0,2],[0,3]]` returns elements in the 1st and 3rd row and the 1st and 4th columns.\n",
    "- experiment with creating lists of rows and lists of columns below"
   ]
  },
  {
   "cell_type": "code",
   "execution_count": null,
   "id": "28370605-ee36-4c76-8a86-f0823667288d",
   "metadata": {},
   "outputs": [],
   "source": [
    "sta[[0,2],[0,3]]"
   ]
  },
  {
   "cell_type": "markdown",
   "id": "40a6dfe8-b0ea-489e-8cc2-26db53aeacc5",
   "metadata": {},
   "source": [
    "#### selecting rows and columns conditional on values\n",
    "- `sta >4` returns an array with the same size and shape as sta with \"True\" in the places where elements are greater than 4 and \"False\" where they are not.\n",
    "- `sta[sta > 4]` returns a one-dimensional array with all the elements for sta that are greater than 4\n",
    "- Try >=  for greater than or equal to, <= for less than or equal to, == for equal to, < for less than, > for greater than.\n",
    "- Experiment below"
   ]
  },
  {
   "cell_type": "code",
   "execution_count": null,
   "id": "5463d2c2-2f16-42b7-920b-6d748736e15a",
   "metadata": {},
   "outputs": [],
   "source": [
    "sta>4"
   ]
  }
 ],
 "metadata": {
  "kernelspec": {
   "display_name": "Python 3 (ipykernel)",
   "language": "python",
   "name": "python3"
  },
  "language_info": {
   "codemirror_mode": {
    "name": "ipython",
    "version": 3
   },
   "file_extension": ".py",
   "mimetype": "text/x-python",
   "name": "python",
   "nbconvert_exporter": "python",
   "pygments_lexer": "ipython3",
   "version": "3.10.14"
  }
 },
 "nbformat": 4,
 "nbformat_minor": 5
}
