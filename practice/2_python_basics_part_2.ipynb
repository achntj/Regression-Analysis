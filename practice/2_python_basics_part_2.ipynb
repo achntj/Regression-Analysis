{
 "cells": [
  {
   "cell_type": "markdown",
   "id": "5b21a325",
   "metadata": {},
   "source": [
    "# Python Basics, part 2 - lists, dictionaries, sets"
   ]
  },
  {
   "cell_type": "code",
   "execution_count": null,
   "id": "c0fa421a-9bb4-4cac-82be-d93a196fdcf9",
   "metadata": {},
   "outputs": [],
   "source": []
  },
  {
   "cell_type": "markdown",
   "id": "c0cc8c64-300e-4b8c-9ac1-5fe2a7336f5c",
   "metadata": {},
   "source": [
    "## Prerequisites\n",
    "- Python basics, part 1"
   ]
  },
  {
   "cell_type": "markdown",
   "id": "125e42a5",
   "metadata": {},
   "source": [
    "## Learning objectives \n",
    "- Define a list\n",
    "- Explain list indexing and how to select elements from a list\n",
    "- Explain how to add or replace elements to a list\n",
    "- Define a set\n",
    "- Explain basic set operations"
   ]
  },
  {
   "cell_type": "markdown",
   "id": "2447bbbd-4444-494f-8d4b-cb797fb9f99f",
   "metadata": {},
   "source": [
    "### References\n",
    "- https://docs.python.org/3/tutorial/introduction.html"
   ]
  },
  {
   "cell_type": "markdown",
   "id": "e341a8a6-6a03-40b3-ac60-d287ca9c279f",
   "metadata": {},
   "source": [
    "### Lists"
   ]
  },
  {
   "cell_type": "markdown",
   "id": "18eb2355-347f-4ce6-81d4-95d85156aa72",
   "metadata": {},
   "source": [
    "#### Basics\n",
    "- Lists are written as a sequence of comma-separated values (items) between square brackets [].\n",
    "- Lists can be sorted, and the elements of a list removed, added, or re-arranged\n",
    "- Run the code in the block below to create the lists `olive_garden` and `carrabbba` "
   ]
  },
  {
   "cell_type": "code",
   "execution_count": 1,
   "id": "67fd5733-f2f3-4b7d-824e-3aba3eaafdb2",
   "metadata": {},
   "outputs": [],
   "source": [
    "# Here is a list of Olive Garden zip codes in Arizona (source: company website)\n",
    "# Notice how I broke up the list; you can create a line break after a comma between the brackets if your list is long\n",
    "olive_garden = [85085, 85254, 85206, 85051, 86301, 85382, 85015, 85202,\n",
    "                85374, 86001, 86301, 85382, 85374, 85051, 85254, 85305, 85015, 85035, 85395]\n",
    "\n",
    "# Here is a list of zip codes in Arizona that have a Carrabba's Italian Grill (source: company website)\n",
    "carrabba = [85296, 85226, 85737, 85208, 85308, 85374, 85323] "
   ]
  },
  {
   "cell_type": "markdown",
   "id": "ed0da786-db04-4e03-98e3-7a59832f2e57",
   "metadata": {},
   "source": [
    "#### List length\n",
    "- The length of a list is the number of elements in the list\n",
    "- The built in python function `len()` returns the length of a list, tuple, or set\n",
    "- In the code block below, enter `len(olive_garden)` and `len(carrabba)` to count the number of elements in the list"
   ]
  },
  {
   "cell_type": "code",
   "execution_count": 2,
   "id": "83b114b4-9077-4931-8780-9afb0a1ea55d",
   "metadata": {},
   "outputs": [
    {
     "data": {
      "text/plain": [
       "7"
      ]
     },
     "execution_count": 2,
     "metadata": {},
     "output_type": "execute_result"
    }
   ],
   "source": [
    "len(carrabba)"
   ]
  },
  {
   "cell_type": "code",
   "execution_count": 3,
   "id": "0f91c438-b9db-4cb6-b0df-8c3f297037e2",
   "metadata": {},
   "outputs": [
    {
     "data": {
      "text/plain": [
       "85085"
      ]
     },
     "execution_count": 3,
     "metadata": {},
     "output_type": "execute_result"
    }
   ],
   "source": [
    "olive_garden[-len(olive_garden)]"
   ]
  },
  {
   "cell_type": "markdown",
   "id": "630a3d0f-8635-4c11-b48a-507a702b3fbd",
   "metadata": {},
   "source": [
    "#### Select list elements\n",
    "- Select elements of a list using square brackets\n",
    "    - the first element of  `example_list` is `example_list[0]` (the starting number for Python is 0, not 1...)\n",
    "    - the second element of `example_list` is `example_list[1]`, third is `example_list[2]`, and so on\n",
    "- the last element of example_list is `example_list[-1]`, second to last: `example_list[-2]`\n",
    "- experiment with selecting elements of carrabba and olive_garden in the code block below"
   ]
  },
  {
   "cell_type": "code",
   "execution_count": null,
   "id": "25e39057-e93a-49b2-ad5a-db2818f94481",
   "metadata": {},
   "outputs": [],
   "source": []
  },
  {
   "cell_type": "markdown",
   "id": "9db6a006-8c7d-43ce-9c1d-e8f373d10a8d",
   "metadata": {},
   "source": [
    "#### Select ranges of lists\n",
    "- the first two elements of `example_list` are `example_list[0:2]` -- (reminder:) __Important!__ 0 is the starting value, 2 is the third element.\n",
    "- the 3rd through 10th elements of a example list are `example_list[2:11]`\n",
    "- Practice selecting ranges of lists of `olive_garden` and `carrabba` in the code block below"
   ]
  },
  {
   "cell_type": "code",
   "execution_count": null,
   "id": "a5b935c0-35d1-42f7-a861-0b37939f9a70",
   "metadata": {},
   "outputs": [],
   "source": []
  },
  {
   "cell_type": "markdown",
   "id": "15ebe9e2-7e1f-42eb-8185-b90b6d3b1374",
   "metadata": {},
   "source": [
    "#### Add and remove list elements\n",
    "- Add elements to a list using the `.append()` _method_\n",
    "    - _Note_ there is a dot `.` -- this is not a function.\n",
    "- How to use it? Suppose a new Carrabba's Italian Kitchen opens in the zip code 85282.\n",
    "    - Add this to the `carrabba` list with `carrabba.append(85282)`\n",
    "- Use the code block below to try this out and use the print function to print the list and note that 85282 has been added "
   ]
  },
  {
   "cell_type": "code",
   "execution_count": null,
   "id": "eeffdc25-511f-4bf3-b9f2-f0e5fbd7916d",
   "metadata": {},
   "outputs": [],
   "source": []
  },
  {
   "cell_type": "markdown",
   "id": "e95966ad-36a7-471f-aff9-898d8860fa04",
   "metadata": {},
   "source": [
    "- remove elements using the `.remove()` method.\n",
    "- suppose the restaurant in 85282 closes. Remove 85282 from the carrabba list by entering `carrabba.remove(85282)` in the code block below.\n",
    "    - Caveat: If 85282 was in the list more than once, all instances of 85282 will be removed\n",
    "- use the print function to verify 85282 has been removed.\n",
    "    - _If you get an error, check first that you correctly appended 85282 to the list in the code block above_"
   ]
  },
  {
   "cell_type": "code",
   "execution_count": null,
   "id": "5241f2fb-6a55-444d-aa64-8a7a5073618a",
   "metadata": {},
   "outputs": [],
   "source": []
  },
  {
   "cell_type": "markdown",
   "id": "69c7e461-96a7-4ec4-b070-fe10ec9586c5",
   "metadata": {},
   "source": [
    "#### Combining lists\n",
    "- adding two lists combines the two lists into one list\n",
    "    - _note_ subtracting to lists will give you an error \n",
    "- Code is simple: create a new list called `italian_zips = olive_garden + carrabba`.\n",
    "    - Try it on your own.\n",
    "    - Print the `italian_zips` and see what it looks like."
   ]
  },
  {
   "cell_type": "code",
   "execution_count": null,
   "id": "a4d4ffbd-4e88-4607-b8cb-a2360e2bb027",
   "metadata": {},
   "outputs": [],
   "source": []
  },
  {
   "cell_type": "markdown",
   "id": "f04a2706-1efe-4470-85cb-9521ae3da5d8",
   "metadata": {},
   "source": [
    "#### Misc on lists\n",
    "- List elements can be just about anything and can include a mix of text, numbers, other lists, and -- as we go on -- dictionaries, sets, or other python object types in python.\n",
    "- In the code block below, experiment with creating __creative__ lists."
   ]
  },
  {
   "cell_type": "code",
   "execution_count": null,
   "id": "17da6bc7-0a8a-4933-ae07-91e7c526bd79",
   "metadata": {},
   "outputs": [],
   "source": [
    "# my takes:\n",
    "a = [1,2,'text']\n",
    "print(a)\n",
    "b = [a,'this is fun']\n",
    "print(b)\n",
    "c = [a,b,3,5,'keep going']\n",
    "print(c)"
   ]
  },
  {
   "cell_type": "markdown",
   "id": "bee45f45-4bc8-4b19-95d0-56ada12ea260",
   "metadata": {},
   "source": [
    "### Sets \n",
    "- A set consists of the __unique__ elements of a sequence of numbers\n",
    "- Sets are useful for counting unique elements or looking for different/same elements of list-like sequences\n",
    "- You can create a set by typing comma-separated items between `{}` brackets "
   ]
  },
  {
   "cell_type": "code",
   "execution_count": null,
   "id": "5d7e4577-f120-4041-9077-8ea6f1269e43",
   "metadata": {},
   "outputs": [],
   "source": [
    "new_set = {1, 1, 2, 2, 3, 3}\n",
    "print(new_set)\n",
    "# only unique elements are stored."
   ]
  },
  {
   "cell_type": "markdown",
   "id": "eefaa359-d593-4e53-a8ff-ab6c0ca97320",
   "metadata": {},
   "source": [
    "- You can also create a set called `new_set` from an _existing_ list called `example_list` with the code `new_set=set(example_list)`\n",
    "- In the code block below, create a set from the lists `olive_garden` and `cabbarra`\n",
    "    - `set_olive_garden = set(olive_garden)`\n",
    "    - `set_carrabba = set(carrabba)`"
   ]
  },
  {
   "cell_type": "code",
   "execution_count": null,
   "id": "267fd06c-0906-4cc2-88bc-1655cdbbc1f2",
   "metadata": {},
   "outputs": [],
   "source": []
  },
  {
   "cell_type": "markdown",
   "id": "302600e1-69a4-4611-9249-a7f51271b35d",
   "metadata": {},
   "source": [
    "#### Set operations\n",
    "- Return to the Italian restaurants: `set_olive_garden` and `set_carrabba`\n",
    "- The union of these two sets is the elements, in this case, zip codes, that are included in `set_olive_garden` or `set_carrabba` (or both)\n",
    "    - Find the union by typing `set_olive_garden.union(set_carrabba)` or `set_olive_garden | set_carrabba` in the code block below"
   ]
  },
  {
   "cell_type": "code",
   "execution_count": null,
   "id": "57e959ee-9e56-479f-ad6e-b5768a2a17bc",
   "metadata": {},
   "outputs": [],
   "source": []
  },
  {
   "cell_type": "markdown",
   "id": "c12d2bf3-3853-4b08-9b95-c7883844119a",
   "metadata": {},
   "source": [
    "- The intersection of these two sets are the elements that are included in both sets\n",
    "    - Find the intersection by typing `set_olive_garden.intersection(set_carrabba)` or `set_olive_garden & set_carrabba` in the code block below"
   ]
  },
  {
   "cell_type": "code",
   "execution_count": null,
   "id": "f65983c2-493c-49de-afb2-4b9e846a7e40",
   "metadata": {},
   "outputs": [],
   "source": []
  },
  {
   "cell_type": "markdown",
   "id": "5eaf152a-ec7c-4bce-9dfa-eeaad9a1f47e",
   "metadata": {},
   "source": [
    "- The difference between `set_olive_garden` and `set_carrabba` are the elements of `set_olive_garden` that _are not_ in `set_carrabba`\n",
    "    - Find difference betwen set_olive_garden and set_carrabba by typing `set_olive_garden.difference(set_carrabba)` or `set_olive_garden - set_carrabba` in the code block "
   ]
  },
  {
   "cell_type": "code",
   "execution_count": null,
   "id": "3c0c47d5-9992-4984-b2bf-c6fcc84f041d",
   "metadata": {},
   "outputs": [],
   "source": []
  },
  {
   "cell_type": "markdown",
   "id": "f4124056-0588-42c8-be55-a88c1858830f",
   "metadata": {},
   "source": [
    "### dictionaries \n",
    "- dictionaries are useful for storing values or lists that are associated with key values\n",
    "- below is an example dictionary that associates a list of zip codes with Olive Garden restaurants and the state where they are located\n",
    "- run the code in the code block below to create the dictionary `olive_garden_dict`\n",
    "- the _keys_ of this dictionary are 'Arizona' and 'Oregon'\n",
    "- the values associated with a key in a dictionary are lists in this case, but can be single numeric or text values, dictionaries or other Python objects.\n",
    "- Dictionaries are not good for storing large amounts of tabular data; this is why we introduce the `pandas` module later"
   ]
  },
  {
   "cell_type": "code",
   "execution_count": null,
   "id": "0b304c7f-e66b-49fc-9fae-c36edfa9efc3",
   "metadata": {},
   "outputs": [],
   "source": [
    "olive_garden_dict = {'Arizona':[85085, 85254, 85206, 85051, 86301, 85382, 85015, 85202,\n",
    "                                85374, 86001, 86301, 85382, 85374, 85051, 85254, 85305,\n",
    "                                85015, 85035, 85395], \n",
    "                    'Oregon': [97015, 97035, 97216, 97005, 97080, 97301, 97401,97703]}"
   ]
  },
  {
   "cell_type": "markdown",
   "id": "15a327b0-2543-4bc1-86ba-644d384ad5cb",
   "metadata": {},
   "source": [
    "- In the block below, type `olive_garden_dict.keys()` in the code block to see the key values of the dictionary\n",
    "- To see the values for Arizona, type `olive_garden_dict['Arizona']` Try also for the key `'Oregon'`"
   ]
  },
  {
   "cell_type": "code",
   "execution_count": null,
   "id": "846a019d-5149-46ea-a198-a5849234d8a3",
   "metadata": {},
   "outputs": [],
   "source": []
  },
  {
   "cell_type": "markdown",
   "id": "c1595d66-5e34-43af-90f2-81902204de71",
   "metadata": {},
   "source": [
    "- Suppose you want to add New Mexico to the list of states with zip codes 87123, 87109\n",
    "- Type `olive_garden_dict['New Mexico'] = [87123, 87109]` in the code block below\n",
    "- Do that in the code block below and `print(olive_garden_dict)` to verify the dictionary now contains values for New Mexico"
   ]
  },
  {
   "cell_type": "code",
   "execution_count": null,
   "id": "390b3921-ff19-40dc-9ae9-7c3bafc10a2a",
   "metadata": {},
   "outputs": [],
   "source": []
  },
  {
   "cell_type": "markdown",
   "id": "f975fb4d-a1a8-4f90-bb5e-62b52a190432",
   "metadata": {},
   "source": [
    "- Experiment with dictionaries.\n",
    "- For example, Create a dictionary of all the towns you lived as keys and the years you lived there as associated values"
   ]
  },
  {
   "cell_type": "code",
   "execution_count": null,
   "id": "686983dc-a41a-4815-a330-d55c253a1d32",
   "metadata": {},
   "outputs": [],
   "source": []
  }
 ],
 "metadata": {
  "kernelspec": {
   "display_name": "Python 3 (ipykernel)",
   "language": "python",
   "name": "python3"
  },
  "language_info": {
   "codemirror_mode": {
    "name": "ipython",
    "version": 3
   },
   "file_extension": ".py",
   "mimetype": "text/x-python",
   "name": "python",
   "nbconvert_exporter": "python",
   "pygments_lexer": "ipython3",
   "version": "3.10.14"
  }
 },
 "nbformat": 4,
 "nbformat_minor": 5
}
