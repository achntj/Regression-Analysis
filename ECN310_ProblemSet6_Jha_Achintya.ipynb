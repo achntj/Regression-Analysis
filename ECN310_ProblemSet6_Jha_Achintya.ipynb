{
 "cells": [
  {
   "cell_type": "markdown",
   "id": "9b393a68",
   "metadata": {},
   "source": [
    "# Problem Set 6: Estimating Causal Effects\n",
    "\n",
    "## 7 pts per question, 91 points in total out of 90 points\n",
    "\n",
    "### Summary and Motivation\n",
    "This problem set aims to equip students with the skills needed to estimate and interpret causal relationships using statistical techniques. The problem set focuses on analyzing the impact of interventions, such as training programs and education policies, through methods like randomized controlled trials and difference-in-differences estimators.\n",
    "\n",
    "By engaging with these exercises, students will enhance their understanding of causal inference, learn to apply Python for data analysis, and develop the ability to draw meaningful conclusions from empirical data. This hands-on experience is crucial for conducting rigorous economic and business research.\n",
    "\n",
    "### Instruction\n",
    "\n",
    "Please follow below questions and instructions to complete this problem set. In some questions, please write and execute Python code for data analysis in Cell mode. Comment your code to explain each step. Some questions need text discussion. Please Provide a detailed discussion of your results, including interpretations and answers to questions in Raw mode.\n",
    "\n",
    "Once you have completed the assignment, save your Jupyter notebook with the following naming convention: ECN310_ProblemSetX_LastName_FirstName.ipynb (replace X with the assignment number).\n",
    "\n"
   ]
  },
  {
   "cell_type": "markdown",
   "id": "3aafd8f0",
   "metadata": {},
   "source": [
    "## Exercise 1: Estimating Causal Effects using Randomization\n",
    "\n",
    "**Introduction**\n",
    "\n",
    "In this problem set, you will estimate the causal effect of a training program on participants’ earnings. The dataset you will use is from a randomized controlled trial where participants were randomly assigned to either a treatment group (who received the training) or a control group (who did not receive the training). Randomization helps ensure that any differences in outcomes between the groups can be attributed to the training program.\n",
    "\n",
    "**Dataset Description**\n",
    "\n",
    "The dataset `training_program.csv` includes the following variables:\n",
    "\n",
    "- `id`: Unique identifier for each participant\n",
    "- `treatment`: Binary variable indicating treatment assignment (1 = treated, 0 = control)\n",
    "- `pre_earnings`: Earnings before the training program (in dollars)\n",
    "- `post_earnings`: Earnings after the training program (in dollars)\n",
    "\n",
    "**Objective**\n",
    "\n",
    "Your objective is to estimate the causal effect of the training program on participants’ post-training earnings."
   ]
  },
  {
   "cell_type": "markdown",
   "id": "a08eb1dd",
   "metadata": {},
   "source": [
    "### 1. Data Exploration\n",
    "\n",
    "- Load the dataset into Python and display the first few rows."
   ]
  },
  {
   "cell_type": "code",
   "execution_count": 1,
   "id": "e0dc6764",
   "metadata": {},
   "outputs": [
    {
     "data": {
      "text/html": [
       "<div>\n",
       "<style scoped>\n",
       "    .dataframe tbody tr th:only-of-type {\n",
       "        vertical-align: middle;\n",
       "    }\n",
       "\n",
       "    .dataframe tbody tr th {\n",
       "        vertical-align: top;\n",
       "    }\n",
       "\n",
       "    .dataframe thead th {\n",
       "        text-align: right;\n",
       "    }\n",
       "</style>\n",
       "<table border=\"1\" class=\"dataframe\">\n",
       "  <thead>\n",
       "    <tr style=\"text-align: right;\">\n",
       "      <th></th>\n",
       "      <th>treatment</th>\n",
       "      <th>pre_earnings</th>\n",
       "      <th>post_earnings</th>\n",
       "    </tr>\n",
       "    <tr>\n",
       "      <th>id</th>\n",
       "      <th></th>\n",
       "      <th></th>\n",
       "      <th></th>\n",
       "    </tr>\n",
       "  </thead>\n",
       "  <tbody>\n",
       "    <tr>\n",
       "      <th>1</th>\n",
       "      <td>0</td>\n",
       "      <td>47794.61771</td>\n",
       "      <td>46260.52957</td>\n",
       "    </tr>\n",
       "    <tr>\n",
       "      <th>2</th>\n",
       "      <td>1</td>\n",
       "      <td>42669.67004</td>\n",
       "      <td>41214.43663</td>\n",
       "    </tr>\n",
       "    <tr>\n",
       "      <th>3</th>\n",
       "      <td>1</td>\n",
       "      <td>46571.21138</td>\n",
       "      <td>61175.58348</td>\n",
       "    </tr>\n",
       "    <tr>\n",
       "      <th>4</th>\n",
       "      <td>1</td>\n",
       "      <td>40048.51518</td>\n",
       "      <td>47712.55661</td>\n",
       "    </tr>\n",
       "    <tr>\n",
       "      <th>5</th>\n",
       "      <td>0</td>\n",
       "      <td>73079.16251</td>\n",
       "      <td>65406.00875</td>\n",
       "    </tr>\n",
       "    <tr>\n",
       "      <th>...</th>\n",
       "      <td>...</td>\n",
       "      <td>...</td>\n",
       "      <td>...</td>\n",
       "    </tr>\n",
       "    <tr>\n",
       "      <th>2996</th>\n",
       "      <td>1</td>\n",
       "      <td>54720.02271</td>\n",
       "      <td>55589.44020</td>\n",
       "    </tr>\n",
       "    <tr>\n",
       "      <th>2997</th>\n",
       "      <td>0</td>\n",
       "      <td>62024.51248</td>\n",
       "      <td>55689.92879</td>\n",
       "    </tr>\n",
       "    <tr>\n",
       "      <th>2998</th>\n",
       "      <td>0</td>\n",
       "      <td>89262.37706</td>\n",
       "      <td>91723.96269</td>\n",
       "    </tr>\n",
       "    <tr>\n",
       "      <th>2999</th>\n",
       "      <td>0</td>\n",
       "      <td>34164.11610</td>\n",
       "      <td>33922.30292</td>\n",
       "    </tr>\n",
       "    <tr>\n",
       "      <th>3000</th>\n",
       "      <td>1</td>\n",
       "      <td>56056.06233</td>\n",
       "      <td>60001.46713</td>\n",
       "    </tr>\n",
       "  </tbody>\n",
       "</table>\n",
       "<p>3000 rows × 3 columns</p>\n",
       "</div>"
      ],
      "text/plain": [
       "      treatment  pre_earnings  post_earnings\n",
       "id                                          \n",
       "1             0   47794.61771    46260.52957\n",
       "2             1   42669.67004    41214.43663\n",
       "3             1   46571.21138    61175.58348\n",
       "4             1   40048.51518    47712.55661\n",
       "5             0   73079.16251    65406.00875\n",
       "...         ...           ...            ...\n",
       "2996          1   54720.02271    55589.44020\n",
       "2997          0   62024.51248    55689.92879\n",
       "2998          0   89262.37706    91723.96269\n",
       "2999          0   34164.11610    33922.30292\n",
       "3000          1   56056.06233    60001.46713\n",
       "\n",
       "[3000 rows x 3 columns]"
      ]
     },
     "execution_count": 1,
     "metadata": {},
     "output_type": "execute_result"
    }
   ],
   "source": [
    "# Please write your executable code here\n",
    "import pandas as pd\n",
    "import numpy as np\n",
    "import matplotlib.pyplot as plt\n",
    "import scipy.stats as stats\n",
    "import statsmodels.api as sm\n",
    "import statsmodels.formula.api as smf\n",
    "\n",
    "df = pd.read_csv(\"training_program.csv\", index_col=0)\n",
    "df"
   ]
  },
  {
   "cell_type": "markdown",
   "id": "22a20c71",
   "metadata": {},
   "source": [
    "- Provide summary statistics for the variables `pre_earnings` and `post_earnings` for both treatment and control groups."
   ]
  },
  {
   "cell_type": "code",
   "execution_count": 2,
   "id": "a5486584",
   "metadata": {},
   "outputs": [],
   "source": [
    "# Please write your executable code here\n",
    "treatment_df = df[df['treatment'] == 1]\n",
    "control_df = df[df['treatment'] == 0]"
   ]
  },
  {
   "cell_type": "code",
   "execution_count": 3,
   "id": "99a1ba60",
   "metadata": {},
   "outputs": [
    {
     "name": "stdout",
     "output_type": "stream",
     "text": [
      "       treatment  pre_earnings  post_earnings\n",
      "count     1515.0   1515.000000    1515.000000\n",
      "mean         1.0  49954.768143   54890.146825\n",
      "std          0.0  10270.143913   11440.655848\n",
      "min          1.0  18295.742640   18599.235880\n",
      "25%          1.0  42814.858290   46757.529740\n",
      "50%          1.0  50078.801850   55169.527670\n",
      "75%          1.0  56956.331570   62797.068740\n",
      "max          1.0  82430.929700   91574.126590\n",
      "       treatment  pre_earnings  post_earnings\n",
      "count     1485.0   1485.000000    1485.000000\n",
      "mean         0.0  49643.954627   49663.405851\n",
      "std          0.0   9727.297819   10952.873242\n",
      "min          0.0  18232.961870    9992.943974\n",
      "25%          0.0  43094.589480   42833.018700\n",
      "50%          0.0  49641.744210   49350.187610\n",
      "75%          0.0  55904.220610   57016.673040\n",
      "max          0.0  89262.377060   91723.962690\n"
     ]
    }
   ],
   "source": [
    "print(treatment_df.describe())\n",
    "print(control_df.describe())"
   ]
  },
  {
   "cell_type": "markdown",
   "id": "c82856c9",
   "metadata": {},
   "source": [
    "### 2. Randomization Check\n",
    "\n",
    "- Verify that the randomization was successful by comparing the `pre_earnings` between the treatment and control groups. Use a t-test to check for any statistically significant differences."
   ]
  },
  {
   "cell_type": "code",
   "execution_count": 16,
   "id": "1dd9ebc3",
   "metadata": {},
   "outputs": [
    {
     "name": "stdout",
     "output_type": "stream",
     "text": [
      "0.3949929406481365\n",
      "There is no no statistically significant difference because p-value is much larger than most values of alpha.\n"
     ]
    }
   ],
   "source": [
    "# Please write your executable code here\n",
    "t_stat, p_value = stats.ttest_ind(treatment_df['pre_earnings'], control_df['pre_earnings'], equal_var=True)\n",
    "print(p_value)\n",
    "print(\"There is no no statistically significant difference because p-value is much larger than most values of alpha.\")"
   ]
  },
  {
   "cell_type": "markdown",
   "id": "7ede239b",
   "metadata": {},
   "source": [
    "### 3. Estimating the Causal Effect\n",
    "\n",
    "- Estimate the effect of the training program on `post_earnings` using the difference in means between the treatment and control groups."
   ]
  },
  {
   "cell_type": "code",
   "execution_count": 17,
   "id": "b3a046d0",
   "metadata": {},
   "outputs": [
    {
     "name": "stdout",
     "output_type": "stream",
     "text": [
      "5226.740973481668\n"
     ]
    }
   ],
   "source": [
    "# Please write your executable code here\n",
    "diff = treatment_df['post_earnings'].mean() - control_df['post_earnings'].mean()\n",
    "print(diff)"
   ]
  },
  {
   "cell_type": "markdown",
   "id": "c7d5553c",
   "metadata": {},
   "source": [
    "- Conduct a regression analysis where `post_earnings` is the dependent variable and `treatment` is the independent variable. Interpret the coefficient on the treatment variable."
   ]
  },
  {
   "cell_type": "code",
   "execution_count": 6,
   "id": "82fd7f9e",
   "metadata": {},
   "outputs": [
    {
     "name": "stdout",
     "output_type": "stream",
     "text": [
      "                            OLS Regression Results                            \n",
      "==============================================================================\n",
      "Dep. Variable:          post_earnings   R-squared:                       0.052\n",
      "Model:                            OLS   Adj. R-squared:                  0.051\n",
      "Method:                 Least Squares   F-statistic:                     163.3\n",
      "Date:                Tue, 03 Dec 2024   Prob (F-statistic):           1.92e-36\n",
      "Time:                        22:24:20   Log-Likelihood:                -32227.\n",
      "No. Observations:                3000   AIC:                         6.446e+04\n",
      "Df Residuals:                    2998   BIC:                         6.447e+04\n",
      "Df Model:                           1                                         \n",
      "Covariance Type:            nonrobust                                         \n",
      "=====================================================================================\n",
      "                        coef    std err          t      P>|t|      [0.025      0.975]\n",
      "-------------------------------------------------------------------------------------\n",
      "Intercept          4.966e+04    290.688    170.848      0.000    4.91e+04    5.02e+04\n",
      "C(treatment)[T.1]  5226.7410    409.055     12.778      0.000    4424.685    6028.797\n",
      "==============================================================================\n",
      "Omnibus:                        1.611   Durbin-Watson:                   1.999\n",
      "Prob(Omnibus):                  0.447   Jarque-Bera (JB):                1.540\n",
      "Skew:                          -0.041   Prob(JB):                        0.463\n",
      "Kurtosis:                       3.075   Cond. No.                         2.63\n",
      "==============================================================================\n",
      "\n",
      "Notes:\n",
      "[1] Standard Errors assume that the covariance matrix of the errors is correctly specified.\n"
     ]
    }
   ],
   "source": [
    "# Please write your executable code here\n",
    "\n",
    "results = smf.ols(\"post_earnings ~ C(treatment)\", data=df).fit()\n",
    "print(results.summary())"
   ]
  },
  {
   "cell_type": "code",
   "execution_count": 7,
   "id": "64d2a931-12b2-4e9c-830a-7df5e6e8c578",
   "metadata": {},
   "outputs": [
    {
     "name": "stdout",
     "output_type": "stream",
     "text": [
      "                            OLS Regression Results                            \n",
      "==============================================================================\n",
      "Dep. Variable:          post_earnings   R-squared:                       0.807\n",
      "Model:                            OLS   Adj. R-squared:                  0.807\n",
      "Method:                 Least Squares   F-statistic:                     6256.\n",
      "Date:                Tue, 03 Dec 2024   Prob (F-statistic):               0.00\n",
      "Time:                        22:24:20   Log-Likelihood:                -29841.\n",
      "No. Observations:                3000   AIC:                         5.969e+04\n",
      "Df Residuals:                    2997   BIC:                         5.971e+04\n",
      "Df Model:                           2                                         \n",
      "Covariance Type:            nonrobust                                         \n",
      "=====================================================================================\n",
      "                        coef    std err          t      P>|t|      [0.025      0.975]\n",
      "-------------------------------------------------------------------------------------\n",
      "Intercept            66.2665    476.719      0.139      0.889    -868.463    1000.997\n",
      "C(treatment)[T.1]  4916.2206    184.699     26.617      0.000    4554.071    5278.370\n",
      "pre_earnings          0.9991      0.009    108.220      0.000       0.981       1.017\n",
      "==============================================================================\n",
      "Omnibus:                        2.544   Durbin-Watson:                   2.037\n",
      "Prob(Omnibus):                  0.280   Jarque-Bera (JB):                2.468\n",
      "Skew:                          -0.035   Prob(JB):                        0.291\n",
      "Kurtosis:                       2.878   Cond. No.                     2.63e+05\n",
      "==============================================================================\n",
      "\n",
      "Notes:\n",
      "[1] Standard Errors assume that the covariance matrix of the errors is correctly specified.\n",
      "[2] The condition number is large, 2.63e+05. This might indicate that there are\n",
      "strong multicollinearity or other numerical problems.\n"
     ]
    }
   ],
   "source": [
    "results2 = smf.ols(\"post_earnings ~ C(treatment) + pre_earnings\", data=df).fit()\n",
    "print(results2.summary())"
   ]
  },
  {
   "cell_type": "markdown",
   "id": "adfd1f77",
   "metadata": {},
   "source": [
    "### 4. Conclusion\n",
    "\n",
    "- Summarize your findings. Discuss whether the training program had a statistically significant effect on post-training earnings and whether controlling for pre-training earnings influenced your results."
   ]
  },
  {
   "cell_type": "raw",
   "id": "fe92c290",
   "metadata": {},
   "source": [
    "Please write your explanation here.\n",
    "\n",
    "The training program had a statistically significant and positive effect on post-training earnings, increasing average earnings by about $5,227.\n",
    "I ran a second regression including pre-training earnings as a control variable and that improves the model’s accuracy by a lot as shown by the much higher R-squared value."
   ]
  },
  {
   "cell_type": "markdown",
   "id": "4c0c2130",
   "metadata": {},
   "source": [
    "## Exercise 2: Implementing The Difference-in-Differences Estimator"
   ]
  },
  {
   "cell_type": "markdown",
   "id": "3fa62642",
   "metadata": {},
   "source": [
    "#### Background\n",
    "You are an economist studying the impact of a new education policy implemented in a specific region on student performance. The policy was introduced in 2022, aiming to improve the quality of education in public schools. You have data from 2019 to 2023 for both the treated region (where the policy was implemented) and a control region (where the policy was not implemented)."
   ]
  },
  {
   "cell_type": "markdown",
   "id": "cf1df372",
   "metadata": {},
   "source": [
    "#### Data Description\n",
    "You are provided with a dataset (`student_performance_dataDID.csv`) containing the following variables:\n",
    "- `year`: The year of the observation (2019-2023).\n",
    "- `region`: The region identifier (treated or control).\n",
    "- `student_performance`: Average performance score of students in the school."
   ]
  },
  {
   "cell_type": "markdown",
   "id": "7d7531ee",
   "metadata": {},
   "source": [
    "#### Tasks"
   ]
  },
  {
   "cell_type": "markdown",
   "id": "c831fba2",
   "metadata": {},
   "source": [
    "### 1: Load the Data\n",
    "- Read the dataset into a pandas DataFrame."
   ]
  },
  {
   "cell_type": "code",
   "execution_count": 8,
   "id": "c9f47c0c",
   "metadata": {},
   "outputs": [
    {
     "data": {
      "text/html": [
       "<div>\n",
       "<style scoped>\n",
       "    .dataframe tbody tr th:only-of-type {\n",
       "        vertical-align: middle;\n",
       "    }\n",
       "\n",
       "    .dataframe tbody tr th {\n",
       "        vertical-align: top;\n",
       "    }\n",
       "\n",
       "    .dataframe thead th {\n",
       "        text-align: right;\n",
       "    }\n",
       "</style>\n",
       "<table border=\"1\" class=\"dataframe\">\n",
       "  <thead>\n",
       "    <tr style=\"text-align: right;\">\n",
       "      <th></th>\n",
       "      <th>year</th>\n",
       "      <th>region</th>\n",
       "      <th>students_performance</th>\n",
       "    </tr>\n",
       "  </thead>\n",
       "  <tbody>\n",
       "    <tr>\n",
       "      <th>0</th>\n",
       "      <td>2019</td>\n",
       "      <td>control</td>\n",
       "      <td>73.652969</td>\n",
       "    </tr>\n",
       "    <tr>\n",
       "      <th>1</th>\n",
       "      <td>2019</td>\n",
       "      <td>control</td>\n",
       "      <td>72.430664</td>\n",
       "    </tr>\n",
       "    <tr>\n",
       "      <th>2</th>\n",
       "      <td>2019</td>\n",
       "      <td>control</td>\n",
       "      <td>67.759575</td>\n",
       "    </tr>\n",
       "    <tr>\n",
       "      <th>3</th>\n",
       "      <td>2019</td>\n",
       "      <td>control</td>\n",
       "      <td>74.221611</td>\n",
       "    </tr>\n",
       "    <tr>\n",
       "      <th>4</th>\n",
       "      <td>2019</td>\n",
       "      <td>control</td>\n",
       "      <td>78.163910</td>\n",
       "    </tr>\n",
       "    <tr>\n",
       "      <th>...</th>\n",
       "      <td>...</td>\n",
       "      <td>...</td>\n",
       "      <td>...</td>\n",
       "    </tr>\n",
       "    <tr>\n",
       "      <th>2995</th>\n",
       "      <td>2023</td>\n",
       "      <td>treated</td>\n",
       "      <td>70.771416</td>\n",
       "    </tr>\n",
       "    <tr>\n",
       "      <th>2996</th>\n",
       "      <td>2023</td>\n",
       "      <td>treated</td>\n",
       "      <td>73.878273</td>\n",
       "    </tr>\n",
       "    <tr>\n",
       "      <th>2997</th>\n",
       "      <td>2023</td>\n",
       "      <td>treated</td>\n",
       "      <td>82.847946</td>\n",
       "    </tr>\n",
       "    <tr>\n",
       "      <th>2998</th>\n",
       "      <td>2023</td>\n",
       "      <td>treated</td>\n",
       "      <td>77.429466</td>\n",
       "    </tr>\n",
       "    <tr>\n",
       "      <th>2999</th>\n",
       "      <td>2023</td>\n",
       "      <td>treated</td>\n",
       "      <td>87.442215</td>\n",
       "    </tr>\n",
       "  </tbody>\n",
       "</table>\n",
       "<p>3000 rows × 3 columns</p>\n",
       "</div>"
      ],
      "text/plain": [
       "      year   region  students_performance\n",
       "0     2019  control             73.652969\n",
       "1     2019  control             72.430664\n",
       "2     2019  control             67.759575\n",
       "3     2019  control             74.221611\n",
       "4     2019  control             78.163910\n",
       "...    ...      ...                   ...\n",
       "2995  2023  treated             70.771416\n",
       "2996  2023  treated             73.878273\n",
       "2997  2023  treated             82.847946\n",
       "2998  2023  treated             77.429466\n",
       "2999  2023  treated             87.442215\n",
       "\n",
       "[3000 rows x 3 columns]"
      ]
     },
     "execution_count": 8,
     "metadata": {},
     "output_type": "execute_result"
    }
   ],
   "source": [
    "# Please write your executable code here\n",
    "\n",
    "df = pd.read_csv(\"student_performance_data_DID.csv\")\n",
    "df"
   ]
  },
  {
   "cell_type": "markdown",
   "id": "55ae86e9",
   "metadata": {},
   "source": [
    "### 2: Descriptive Statistics\n",
    "- Calculate and interpret descriptive statistics for student performance in both regions before and after the policy implementation."
   ]
  },
  {
   "cell_type": "code",
   "execution_count": 9,
   "id": "562b6e12",
   "metadata": {},
   "outputs": [
    {
     "name": "stdout",
     "output_type": "stream",
     "text": [
      "Before\n",
      "         count       mean       std        min        25%        50%  \\\n",
      "region                                                                 \n",
      "control  900.0  75.279510  4.929699  60.518723  72.003105  75.238709   \n",
      "treated  900.0  75.280607  4.964220  58.793663  71.882202  75.284157   \n",
      "\n",
      "               75%        max  \n",
      "region                         \n",
      "control  78.542590  91.205536  \n",
      "treated  78.400365  94.263657  \n",
      "====================\n",
      "After\n",
      "         count       mean       std        min        25%        50%  \\\n",
      "region                                                                 \n",
      "control  600.0  75.014179  4.968003  60.044319  71.837136  74.843754   \n",
      "treated  600.0  77.065666  4.869755  61.902439  73.764141  77.024494   \n",
      "\n",
      "               75%        max  \n",
      "region                         \n",
      "control  78.271593  94.631187  \n",
      "treated  80.307597  92.688744  \n"
     ]
    }
   ],
   "source": [
    "# Please write your executable code here\n",
    "\n",
    "before = df[df['year'] < 2022]\n",
    "after = df[df['year'] >= 2022]\n",
    "\n",
    "# Groupby and describe source - https://stackoverflow.com/questions/33575587/pandas-dataframe-how-to-apply-describe-to-each-group-and-add-to-new-columns\n",
    "print(\"Before\")\n",
    "print(before.groupby('region')['students_performance'].describe())\n",
    "print(\"====================\")\n",
    "print(\"After\")\n",
    "print(after.groupby('region')['students_performance'].describe())"
   ]
  },
  {
   "cell_type": "markdown",
   "id": "16ab4e5b",
   "metadata": {},
   "source": [
    "### 3: Parallel Trends Check\n",
    "- Create a plot showing the average student performance over time for both regions to visually inspect the parallel trends assumption."
   ]
  },
  {
   "cell_type": "code",
   "execution_count": 19,
   "id": "7f6a2e28",
   "metadata": {},
   "outputs": [
    {
     "data": {
      "image/png": "[encoded data removed]",
      "text/plain": [
       "<Figure size 1000x600 with 1 Axes>"
      ]
     },
     "metadata": {},
     "output_type": "display_data"
    }
   ],
   "source": [
    "# Please write your executable code here\n",
    "\n",
    "import matplotlib.pyplot as plt\n",
    "\n",
    "# Index needs to be reset as getting data from data gives them indices that are not ordered 1 through n\n",
    "# Source - https://pandas.pydata.org/docs/reference/api/pandas.DataFrame.reset_index.html\n",
    "avg_perf = df.groupby(['year', 'region'])['students_performance'].mean().reset_index()\n",
    "\n",
    "plt.figure(figsize=(10, 6))\n",
    "for region in avg_perf['region'].unique():\n",
    "    region_data = avg_perf[avg_perf['region'] == region]\n",
    "    plt.plot(region_data['year'], region_data['students_performance'], label=region)\n",
    "\n",
    "plt.xlabel('Year')\n",
    "plt.ylabel('Average Student Performance')\n",
    "plt.legend(title='Region')\n",
    "plt.grid(True)\n",
    "\n",
    "plt.show()"
   ]
  },
  {
   "cell_type": "code",
   "execution_count": 25,
   "id": "4f4d8127-2389-43a7-928f-6aeec4c166af",
   "metadata": {},
   "outputs": [
    {
     "data": {
      "image/png": "[encoded data removed]",
      "text/plain": [
       "<Figure size 1000x600 with 1 Axes>"
      ]
     },
     "metadata": {},
     "output_type": "display_data"
    }
   ],
   "source": [
    "data = df\n",
    "\n",
    "# Using unstack to pivot the grouped data so that each region becomes a separate column\n",
    "# Source - https://towardsdatascience.com/reshaping-a-dataframe-with-pandas-stack-and-unstack-925dc9ce1289\n",
    "avg_perf = data.groupby(['year', 'region'])['students_performance'].mean().unstack()\n",
    "\n",
    "# Plot the data\n",
    "avg_perf.plot(marker='o', figsize=(10, 6))\n",
    "\n",
    "# Add labels and title\n",
    "plt.title('Average Student Performance Over Time by Region')\n",
    "plt.xlabel('Year')\n",
    "plt.ylabel('Average Performance Score')\n",
    "plt.grid(True)\n",
    "\n",
    "# Show the plot\n",
    "plt.tight_layout()\n",
    "plt.show()\n"
   ]
  },
  {
   "cell_type": "code",
   "execution_count": null,
   "id": "b970f417-320d-4ea9-8394-953809ccdb4b",
   "metadata": {},
   "outputs": [],
   "source": []
  },
  {
   "cell_type": "markdown",
   "id": "5a78d7af",
   "metadata": {},
   "source": [
    "### 4: Difference-in-Differences Estimation\n",
    "- Create a dummy variable for the post-treatment period (`post`), which is 1 for years 2022 and 2023, and 0 otherwise."
   ]
  },
  {
   "cell_type": "code",
   "execution_count": 26,
   "id": "668b621c",
   "metadata": {},
   "outputs": [
    {
     "data": {
      "text/html": [
       "<div>\n",
       "<style scoped>\n",
       "    .dataframe tbody tr th:only-of-type {\n",
       "        vertical-align: middle;\n",
       "    }\n",
       "\n",
       "    .dataframe tbody tr th {\n",
       "        vertical-align: top;\n",
       "    }\n",
       "\n",
       "    .dataframe thead th {\n",
       "        text-align: right;\n",
       "    }\n",
       "</style>\n",
       "<table border=\"1\" class=\"dataframe\">\n",
       "  <thead>\n",
       "    <tr style=\"text-align: right;\">\n",
       "      <th></th>\n",
       "      <th>year</th>\n",
       "      <th>region</th>\n",
       "      <th>students_performance</th>\n",
       "      <th>post</th>\n",
       "      <th>treated</th>\n",
       "      <th>post_treatment</th>\n",
       "    </tr>\n",
       "  </thead>\n",
       "  <tbody>\n",
       "    <tr>\n",
       "      <th>0</th>\n",
       "      <td>2019</td>\n",
       "      <td>control</td>\n",
       "      <td>73.652969</td>\n",
       "      <td>0</td>\n",
       "      <td>0</td>\n",
       "      <td>0</td>\n",
       "    </tr>\n",
       "    <tr>\n",
       "      <th>1</th>\n",
       "      <td>2019</td>\n",
       "      <td>control</td>\n",
       "      <td>72.430664</td>\n",
       "      <td>0</td>\n",
       "      <td>0</td>\n",
       "      <td>0</td>\n",
       "    </tr>\n",
       "    <tr>\n",
       "      <th>2</th>\n",
       "      <td>2019</td>\n",
       "      <td>control</td>\n",
       "      <td>67.759575</td>\n",
       "      <td>0</td>\n",
       "      <td>0</td>\n",
       "      <td>0</td>\n",
       "    </tr>\n",
       "    <tr>\n",
       "      <th>3</th>\n",
       "      <td>2019</td>\n",
       "      <td>control</td>\n",
       "      <td>74.221611</td>\n",
       "      <td>0</td>\n",
       "      <td>0</td>\n",
       "      <td>0</td>\n",
       "    </tr>\n",
       "    <tr>\n",
       "      <th>4</th>\n",
       "      <td>2019</td>\n",
       "      <td>control</td>\n",
       "      <td>78.163910</td>\n",
       "      <td>0</td>\n",
       "      <td>0</td>\n",
       "      <td>0</td>\n",
       "    </tr>\n",
       "    <tr>\n",
       "      <th>...</th>\n",
       "      <td>...</td>\n",
       "      <td>...</td>\n",
       "      <td>...</td>\n",
       "      <td>...</td>\n",
       "      <td>...</td>\n",
       "      <td>...</td>\n",
       "    </tr>\n",
       "    <tr>\n",
       "      <th>2995</th>\n",
       "      <td>2023</td>\n",
       "      <td>treated</td>\n",
       "      <td>70.771416</td>\n",
       "      <td>1</td>\n",
       "      <td>1</td>\n",
       "      <td>1</td>\n",
       "    </tr>\n",
       "    <tr>\n",
       "      <th>2996</th>\n",
       "      <td>2023</td>\n",
       "      <td>treated</td>\n",
       "      <td>73.878273</td>\n",
       "      <td>1</td>\n",
       "      <td>1</td>\n",
       "      <td>1</td>\n",
       "    </tr>\n",
       "    <tr>\n",
       "      <th>2997</th>\n",
       "      <td>2023</td>\n",
       "      <td>treated</td>\n",
       "      <td>82.847946</td>\n",
       "      <td>1</td>\n",
       "      <td>1</td>\n",
       "      <td>1</td>\n",
       "    </tr>\n",
       "    <tr>\n",
       "      <th>2998</th>\n",
       "      <td>2023</td>\n",
       "      <td>treated</td>\n",
       "      <td>77.429466</td>\n",
       "      <td>1</td>\n",
       "      <td>1</td>\n",
       "      <td>1</td>\n",
       "    </tr>\n",
       "    <tr>\n",
       "      <th>2999</th>\n",
       "      <td>2023</td>\n",
       "      <td>treated</td>\n",
       "      <td>87.442215</td>\n",
       "      <td>1</td>\n",
       "      <td>1</td>\n",
       "      <td>1</td>\n",
       "    </tr>\n",
       "  </tbody>\n",
       "</table>\n",
       "<p>3000 rows × 6 columns</p>\n",
       "</div>"
      ],
      "text/plain": [
       "      year   region  students_performance  post  treated  post_treatment\n",
       "0     2019  control             73.652969     0        0               0\n",
       "1     2019  control             72.430664     0        0               0\n",
       "2     2019  control             67.759575     0        0               0\n",
       "3     2019  control             74.221611     0        0               0\n",
       "4     2019  control             78.163910     0        0               0\n",
       "...    ...      ...                   ...   ...      ...             ...\n",
       "2995  2023  treated             70.771416     1        1               1\n",
       "2996  2023  treated             73.878273     1        1               1\n",
       "2997  2023  treated             82.847946     1        1               1\n",
       "2998  2023  treated             77.429466     1        1               1\n",
       "2999  2023  treated             87.442215     1        1               1\n",
       "\n",
       "[3000 rows x 6 columns]"
      ]
     },
     "execution_count": 26,
     "metadata": {},
     "output_type": "execute_result"
    }
   ],
   "source": [
    "# Please write your executable code here\n",
    "\n",
    "df['post'] = (df['year'] >= 2022).astype(int)\n",
    "df"
   ]
  },
  {
   "cell_type": "markdown",
   "id": "af70836a",
   "metadata": {},
   "source": [
    "- Create a dummy variable for the treated region (`treated`), which is 1 for the treated region and 0 for the control region."
   ]
  },
  {
   "cell_type": "code",
   "execution_count": 27,
   "id": "86a7a194",
   "metadata": {},
   "outputs": [
    {
     "data": {
      "text/html": [
       "<div>\n",
       "<style scoped>\n",
       "    .dataframe tbody tr th:only-of-type {\n",
       "        vertical-align: middle;\n",
       "    }\n",
       "\n",
       "    .dataframe tbody tr th {\n",
       "        vertical-align: top;\n",
       "    }\n",
       "\n",
       "    .dataframe thead th {\n",
       "        text-align: right;\n",
       "    }\n",
       "</style>\n",
       "<table border=\"1\" class=\"dataframe\">\n",
       "  <thead>\n",
       "    <tr style=\"text-align: right;\">\n",
       "      <th></th>\n",
       "      <th>year</th>\n",
       "      <th>region</th>\n",
       "      <th>students_performance</th>\n",
       "      <th>post</th>\n",
       "      <th>treated</th>\n",
       "      <th>post_treatment</th>\n",
       "    </tr>\n",
       "  </thead>\n",
       "  <tbody>\n",
       "    <tr>\n",
       "      <th>0</th>\n",
       "      <td>2019</td>\n",
       "      <td>control</td>\n",
       "      <td>73.652969</td>\n",
       "      <td>0</td>\n",
       "      <td>0</td>\n",
       "      <td>0</td>\n",
       "    </tr>\n",
       "    <tr>\n",
       "      <th>1</th>\n",
       "      <td>2019</td>\n",
       "      <td>control</td>\n",
       "      <td>72.430664</td>\n",
       "      <td>0</td>\n",
       "      <td>0</td>\n",
       "      <td>0</td>\n",
       "    </tr>\n",
       "    <tr>\n",
       "      <th>2</th>\n",
       "      <td>2019</td>\n",
       "      <td>control</td>\n",
       "      <td>67.759575</td>\n",
       "      <td>0</td>\n",
       "      <td>0</td>\n",
       "      <td>0</td>\n",
       "    </tr>\n",
       "    <tr>\n",
       "      <th>3</th>\n",
       "      <td>2019</td>\n",
       "      <td>control</td>\n",
       "      <td>74.221611</td>\n",
       "      <td>0</td>\n",
       "      <td>0</td>\n",
       "      <td>0</td>\n",
       "    </tr>\n",
       "    <tr>\n",
       "      <th>4</th>\n",
       "      <td>2019</td>\n",
       "      <td>control</td>\n",
       "      <td>78.163910</td>\n",
       "      <td>0</td>\n",
       "      <td>0</td>\n",
       "      <td>0</td>\n",
       "    </tr>\n",
       "    <tr>\n",
       "      <th>...</th>\n",
       "      <td>...</td>\n",
       "      <td>...</td>\n",
       "      <td>...</td>\n",
       "      <td>...</td>\n",
       "      <td>...</td>\n",
       "      <td>...</td>\n",
       "    </tr>\n",
       "    <tr>\n",
       "      <th>2995</th>\n",
       "      <td>2023</td>\n",
       "      <td>treated</td>\n",
       "      <td>70.771416</td>\n",
       "      <td>1</td>\n",
       "      <td>1</td>\n",
       "      <td>1</td>\n",
       "    </tr>\n",
       "    <tr>\n",
       "      <th>2996</th>\n",
       "      <td>2023</td>\n",
       "      <td>treated</td>\n",
       "      <td>73.878273</td>\n",
       "      <td>1</td>\n",
       "      <td>1</td>\n",
       "      <td>1</td>\n",
       "    </tr>\n",
       "    <tr>\n",
       "      <th>2997</th>\n",
       "      <td>2023</td>\n",
       "      <td>treated</td>\n",
       "      <td>82.847946</td>\n",
       "      <td>1</td>\n",
       "      <td>1</td>\n",
       "      <td>1</td>\n",
       "    </tr>\n",
       "    <tr>\n",
       "      <th>2998</th>\n",
       "      <td>2023</td>\n",
       "      <td>treated</td>\n",
       "      <td>77.429466</td>\n",
       "      <td>1</td>\n",
       "      <td>1</td>\n",
       "      <td>1</td>\n",
       "    </tr>\n",
       "    <tr>\n",
       "      <th>2999</th>\n",
       "      <td>2023</td>\n",
       "      <td>treated</td>\n",
       "      <td>87.442215</td>\n",
       "      <td>1</td>\n",
       "      <td>1</td>\n",
       "      <td>1</td>\n",
       "    </tr>\n",
       "  </tbody>\n",
       "</table>\n",
       "<p>3000 rows × 6 columns</p>\n",
       "</div>"
      ],
      "text/plain": [
       "      year   region  students_performance  post  treated  post_treatment\n",
       "0     2019  control             73.652969     0        0               0\n",
       "1     2019  control             72.430664     0        0               0\n",
       "2     2019  control             67.759575     0        0               0\n",
       "3     2019  control             74.221611     0        0               0\n",
       "4     2019  control             78.163910     0        0               0\n",
       "...    ...      ...                   ...   ...      ...             ...\n",
       "2995  2023  treated             70.771416     1        1               1\n",
       "2996  2023  treated             73.878273     1        1               1\n",
       "2997  2023  treated             82.847946     1        1               1\n",
       "2998  2023  treated             77.429466     1        1               1\n",
       "2999  2023  treated             87.442215     1        1               1\n",
       "\n",
       "[3000 rows x 6 columns]"
      ]
     },
     "execution_count": 27,
     "metadata": {},
     "output_type": "execute_result"
    }
   ],
   "source": [
    "# Please write your executable code here\n",
    "\n",
    "df['treated'] = (df['region'] == 'treated').astype(int)\n",
    "df"
   ]
  },
  {
   "cell_type": "markdown",
   "id": "f9781e35",
   "metadata": {},
   "source": [
    "- Compute the difference-in-differences estimator using the following regression model:\n",
    "\n",
    "$$y_{it} = \\alpha + \\beta_1 \\text{treated}_i + \\beta_2 \\text{post}_t + \\beta_3 (\\text{treated}_i \\times \\text{post}_t) + \\epsilon_{it}$$\n",
    "\n",
    "where $y_{it}$ is the student performance in region $i$ in year $t$."
   ]
  },
  {
   "cell_type": "code",
   "execution_count": 28,
   "id": "2abd4413",
   "metadata": {},
   "outputs": [
    {
     "name": "stdout",
     "output_type": "stream",
     "text": [
      "                             OLS Regression Results                             \n",
      "================================================================================\n",
      "Dep. Variable:     students_performance   R-squared:                       0.022\n",
      "Model:                              OLS   Adj. R-squared:                  0.021\n",
      "Method:                   Least Squares   F-statistic:                     22.96\n",
      "Date:                  Tue, 03 Dec 2024   Prob (F-statistic):           1.08e-14\n",
      "Time:                          23:23:07   Log-Likelihood:                -9044.4\n",
      "No. Observations:                  3000   AIC:                         1.810e+04\n",
      "Df Residuals:                      2996   BIC:                         1.812e+04\n",
      "Df Model:                             3                                         \n",
      "Covariance Type:              nonrobust                                         \n",
      "==================================================================================\n",
      "                     coef    std err          t      P>|t|      [0.025      0.975]\n",
      "----------------------------------------------------------------------------------\n",
      "Intercept         75.2795      0.165    457.546      0.000      74.957      75.602\n",
      "treated            0.0011      0.233      0.005      0.996      -0.455       0.457\n",
      "post              -0.2653      0.260     -1.020      0.308      -0.775       0.245\n",
      "post_treatment     2.0504      0.368      5.573      0.000       1.329       2.772\n",
      "==============================================================================\n",
      "Omnibus:                        1.871   Durbin-Watson:                   2.003\n",
      "Prob(Omnibus):                  0.392   Jarque-Bera (JB):                1.807\n",
      "Skew:                           0.042   Prob(JB):                        0.405\n",
      "Kurtosis:                       3.086   Cond. No.                         6.41\n",
      "==============================================================================\n",
      "\n",
      "Notes:\n",
      "[1] Standard Errors assume that the covariance matrix of the errors is correctly specified.\n"
     ]
    }
   ],
   "source": [
    "# Please write your executable code here\n",
    "\n",
    "df['post_treatment'] = df['treated'] * df['post']\n",
    "results3 = smf.ols(\"students_performance ~ treated + post + post_treatment\", data=df).fit()\n",
    "print(results3.summary())"
   ]
  },
  {
   "cell_type": "markdown",
   "id": "0624b5cd",
   "metadata": {},
   "source": [
    "### 5: Interpretation\n",
    "- Interpret the coefficients from your regression model, particularly focusing on the coefficient for the interaction term ($\\beta_3$)."
   ]
  },
  {
   "cell_type": "raw",
   "id": "215ad9f6",
   "metadata": {},
   "source": [
    "Please write your explanation here.\n",
    "\n",
    "The regression results show that the coefficient for the interaction term (post_treatment) is 2.0504, which is statistically significant with a p-value of 0.000. This suggests that, after the policy was implemented, student performance in the treated region increased by approximately 2.05 units relative to the control region. The coefficient for the treated region (treated) is very small (0.0011) and not statistically significant (p-value = 0.996), indicating no difference in performance between the treated and control regions before the policy. The coefficient for the post-treatment period (post) is -0.2653, which is also not statistically significant (p-value = 0.308), implying no significant overall change in student performance in the post-treatment period across both regions. Thus, the significant interaction term suggests that the policy had a positive effect on student performance specifically in the treated region."
   ]
  },
  {
   "cell_type": "code",
   "execution_count": null,
   "id": "3d1f95ea-ec9d-45b8-8414-492c35eaf673",
   "metadata": {},
   "outputs": [],
   "source": []
  }
 ],
 "metadata": {
  "kernelspec": {
   "display_name": "Python 3 (ipykernel)",
   "language": "python",
   "name": "python3"
  },
  "language_info": {
   "codemirror_mode": {
    "name": "ipython",
    "version": 3
   },
   "file_extension": ".py",
   "mimetype": "text/x-python",
   "name": "python",
   "nbconvert_exporter": "python",
   "pygments_lexer": "ipython3",
   "version": "3.10.14"
  }
 },
 "nbformat": 4,
 "nbformat_minor": 5
}
